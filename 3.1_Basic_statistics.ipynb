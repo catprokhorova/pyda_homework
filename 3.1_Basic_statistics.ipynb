{
 "cells": [
  {
   "cell_type": "markdown",
   "metadata": {},
   "source": [
    "# 1. Базовые понятия статистики"
   ]
  },
  {
   "cell_type": "markdown",
   "metadata": {},
   "source": [
    "### Задание 1. Загрузка данных\n",
    "Изучить представленный набор данных на основе описания его столбцов, загрузить его и оставить 8 столбцов для дальнейшего изучения: surgery?, Age, rectal temperature, pulse, respiratory rate, temperature of extremities, pain, outcome."
   ]
  },
  {
   "cell_type": "code",
   "execution_count": null,
   "metadata": {},
   "outputs": [],
   "source": [
    "import pandas as pd\n",
    "import numpy as np"
   ]
  },
  {
   "cell_type": "code",
   "execution_count": null,
   "metadata": {},
   "outputs": [],
   "source": [
    "f = pd.read_csv('https://raw.githubusercontent.com/obulygin/pyda_homeworks/master/statistics_basics/horse_data.csv')\n",
    "f.columns = ['surgery?', 'age', 'Hospital Number', 'rectal temperature', 'pulse', 'respiratory rate', 'temperature of extremities', 'peripheral pulse', 'mucous membranes', 'capillary refill time', 'pain', 'peristalsis', 'abdominal distension', 'nasogastric tube', 'nasogastric reflux', 'nasogastric reflux PH', 'rectal examination', 'abdomen', 'packed cell volume', 'total protein', 'abdominocentesis appearance', 'abdomcentesis total protein', 'outcome', 'surgical lesion?', 'type of lesion', 'type of lesion', 'type of lesion', 'cp_data']\n",
    "stat = f[['surgery?', 'age', 'rectal temperature', 'pulse', 'respiratory rate', 'temperature of extremities', 'pain', 'outcome']]\n",
    "df = stat.replace('?', np.nan)\n",
    "df"
   ]
  },
  {
   "cell_type": "markdown",
   "metadata": {},
   "source": [
    "### Задание 2. Первичное изучение данных\n",
    "Проанализировать значения по столбцам, рассчитать базовые статистики, найти выбросы."
   ]
  },
  {
   "cell_type": "code",
   "execution_count": null,
   "metadata": {},
   "outputs": [],
   "source": [
    "df.info()\n",
    "df['surgery?'] = df['surgery?'].astype('float64')\n",
    "df['rectal temperature'] = df['rectal temperature'].astype('float64')\n",
    "df['pulse'] = df['pulse'].astype('float64')\n",
    "df['respiratory rate'] = df['respiratory rate'].astype('float64')\n",
    "df['temperature of extremities'] = df['temperature of extremities'].astype('float64')\n",
    "df['pain'] = df['pain'].astype('float64')\n",
    "df['outcome'] = df['outcome'].astype('float64')"
   ]
  },
  {
   "cell_type": "code",
   "execution_count": null,
   "metadata": {},
   "outputs": [],
   "source": [
    "df.describe()"
   ]
  },
  {
   "cell_type": "code",
   "execution_count": null,
   "metadata": {},
   "outputs": [],
   "source": [
    "#mean, std, min, max, quantiles and median are above.\n",
    "#range\n",
    "#I doubt that surgery, pain and outcome ranges are that significant\n",
    "age_range = df['age'].max() - df['age'].min()\n",
    "rect_range = df['rectal temperature'].max() - df['rectal temperature'].min()\n",
    "pulse_range = df['pulse'].max() - df['pulse'].min()\n",
    "resp_range = df['respiratory rate'].max() - df['respiratory rate'].min()\n",
    "temp_range = df['temperature of extremities'].max() - df['temperature of extremities'].min()\n",
    "print(f'Age range: {age_range}')\n",
    "print(f'Rectal Temperature range: {rect_range}')\n",
    "print(f'Pulse range: {pulse_range}')\n",
    "print(f'Respiratory Rate range: {resp_range}')\n",
    "print(f'Temperature of Extremities range: {temp_range}')"
   ]
  },
  {
   "cell_type": "code",
   "execution_count": null,
   "metadata": {},
   "outputs": [],
   "source": [
    "#mode\n",
    "print('Surgery mode: ', df['surgery?'].round().mode()[0])\n",
    "print('Age mode: ', df['age'].round().mode()[0])\n",
    "print('Rectal Temperature mode: ', df['rectal temperature'].round().mode()[0])\n",
    "print('Pulse mode: ', df['pulse'].round().mode()[0])\n",
    "print('Respiratory Rate mode: ', df['respiratory rate'].round().mode()[0])\n",
    "print('Temperature of Extremities mode: ', df['temperature of extremities'].round().mode()[0])\n",
    "print('Pain mode: ', df['pain'].round().mode()[0])\n",
    "print('Outcome mode: ', df['outcome'].round().mode()[0])"
   ]
  },
  {
   "cell_type": "code",
   "execution_count": null,
   "metadata": {},
   "outputs": [],
   "source": [
    "#dispersion\n",
    "print('Surgery dispersion: ', df['surgery?'].var())\n",
    "print('Age dispersion: ', df['age'].var())\n",
    "print('Rectal Temperature dispersion: ', df['rectal temperature'].var())\n",
    "print('Pulse dispersion: ', df['pulse'].var())\n",
    "print('Respiratory Rate dispersion: ', df['respiratory rate'].var())\n",
    "print('Temperature of Extremities dispersion: ', df['temperature of extremities'].var())\n",
    "print('Pain dispersion: ', df['pain'].round().var())\n",
    "print('Outcome dispersion: ', df['outcome'].round().var())"
   ]
  },
  {
   "cell_type": "code",
   "execution_count": null,
   "metadata": {},
   "outputs": [],
   "source": [
    "#outliers:\n",
    "#surgery - seems ok\n",
    "#age - seems ok\n",
    "#rect temp - seems ok\n",
    "#pulse - seems odd\n",
    "#resp rate - seems odd\n",
    "#temp of extr - seems ok\n",
    "#pain - seems ok\n",
    "#outcome - seems ok"
   ]
  },
  {
   "cell_type": "code",
   "execution_count": null,
   "metadata": {},
   "outputs": [],
   "source": [
    "pulse_q1 = df['pulse'].quantile(0.25)\n",
    "pulse_q3 = df['pulse'].quantile(0.75)\n",
    "pulse_iqr = pulse_q3 - pulse_q1\n",
    "pulse_lower_bound = pulse_q1 - (1.5 * pulse_iqr) \n",
    "pulse_upper_bound = pulse_q3 + (1.5 * pulse_iqr)\n",
    "pulse_outliers = df[~df['pulse'].between(pulse_lower_bound, pulse_upper_bound, inclusive=True)]\n",
    "\n",
    "pulse_outliers['pulse'].dropna()"
   ]
  },
  {
   "cell_type": "code",
   "execution_count": null,
   "metadata": {},
   "outputs": [],
   "source": [
    "resp_q1 = df['respiratory rate'].quantile(0.25)\n",
    "resp_q3 = df['respiratory rate'].quantile(0.75)\n",
    "resp_iqr = resp_q3 - resp_q1\n",
    "resp_lower_bound = resp_q1 - (1.5 * resp_iqr) \n",
    "resp_upper_bound = resp_q3 + (1.5 * resp_iqr)\n",
    "resp_outliers = df[~df['respiratory rate'].between(resp_lower_bound, resp_upper_bound, inclusive=True)]\n",
    "\n",
    "resp_outliers['respiratory rate'].dropna()"
   ]
  },
  {
   "cell_type": "markdown",
   "metadata": {},
   "source": [
    "### Задание 3. Работа с пропусками\n",
    "Рассчитать количество пропусков для всех выбранных столбцов. Принять и обосновать решение о методе заполнения пропусков по каждому столбцу на основе рассчитанных статистик и возможной взаимосвязи значений в них. Сформировать датафрейм, в котором пропуски будут отсутствовать."
   ]
  },
  {
   "cell_type": "code",
   "execution_count": null,
   "metadata": {},
   "outputs": [],
   "source": [
    "df.isna().sum()"
   ]
  },
  {
   "cell_type": "code",
   "execution_count": null,
   "metadata": {},
   "outputs": [],
   "source": [
    "df[df['surgery?'].isnull()]"
   ]
  },
  {
   "cell_type": "code",
   "execution_count": null,
   "metadata": {},
   "outputs": [],
   "source": [
    "#considering that that one missing cell for surg also stands for the outcome, I plan to replace NaNs in both columns with Mode\n",
    "df['surgery?'] = df['surgery?'].fillna(df['surgery?'].mode()[0])\n",
    "df['outcome'] = df['outcome'].fillna(df['outcome'].mode()[0])\n",
    "df.info()"
   ]
  },
  {
   "cell_type": "code",
   "execution_count": null,
   "metadata": {},
   "outputs": [],
   "source": [
    "#now as we've filled the gaps in 'outcome', we can fill the 'pain' column, for they are related\n",
    "df['pain'] = df['pain'].fillna(df.groupby('outcome')['pain'].transform('median'))\n",
    "df.info()"
   ]
  },
  {
   "cell_type": "code",
   "execution_count": null,
   "metadata": {},
   "outputs": [],
   "source": [
    "#now as we've filled the gaps in 'pain', we can fill the 'temperature of extremities' column, for they are related\n",
    "df['temperature of extremities'] = df['temperature of extremities'].fillna(df.groupby('pain')['temperature of extremities'].transform('median'))\n",
    "df.info()"
   ]
  },
  {
   "cell_type": "code",
   "execution_count": null,
   "metadata": {},
   "outputs": [],
   "source": [
    "#now as we've filled the gaps in 'pain', we can fill the 'pulse' column, for they are related\n",
    "df['pulse'] = df['pulse'].fillna(df.groupby('pain')['pulse'].transform('median'))\n",
    "df.info()"
   ]
  },
  {
   "cell_type": "code",
   "execution_count": null,
   "metadata": {},
   "outputs": [],
   "source": [
    "#I initially thought 'rect temp' may depend on 'pain' but now I think they can't be compared\n",
    "#so I can't decide how to fill this column, sorry\n",
    "\n",
    "#PS. Yet above, we fill the 'pulse' column in dependance of the 'pain' though the measures are not the same\n",
    "#and we can't transform subjective pain scale to be measured against 'beats per min'\n",
    "#weird but okay\n",
    "df['rectal temperature'] = df['rectal temperature'].fillna(df.groupby('pain')['rectal temperature'].transform('median'))\n",
    "df.info()"
   ]
  },
  {
   "cell_type": "code",
   "execution_count": null,
   "metadata": {},
   "outputs": [],
   "source": [
    "#resp rate description says: 'usefulness is doubtful due to the great fluctuations'\n",
    "#so I can drop the whole column I guess\n",
    "\n",
    "df.drop(['respiratory rate'], axis=1)"
   ]
  },
  {
   "cell_type": "markdown",
   "metadata": {},
   "source": []
  }
 ],
 "metadata": {
  "language_info": {
   "name": "python"
  },
  "orig_nbformat": 4
 },
 "nbformat": 4,
 "nbformat_minor": 2
}

{
 "cells": [
  {
   "cell_type": "markdown",
   "metadata": {},
   "source": [
    "# 1. Базовые понятия статистики"
   ]
  },
  {
   "cell_type": "markdown",
   "metadata": {},
   "source": [
    "### Задание 1. Загрузка данных\n",
    "Изучить представленный набор данных на основе описания его столбцов, загрузить его и оставить 8 столбцов для дальнейшего изучения: surgery?, Age, rectal temperature, pulse, respiratory rate, temperature of extremities, pain, outcome."
   ]
  },
  {
   "cell_type": "code",
   "execution_count": 1,
   "metadata": {},
   "outputs": [],
   "source": [
    "import pandas as pd\n",
    "import numpy as np"
   ]
  },
  {
   "cell_type": "code",
   "execution_count": 2,
   "metadata": {},
   "outputs": [
    {
     "data": {
      "text/html": [
       "<div>\n",
       "<style scoped>\n",
       "    .dataframe tbody tr th:only-of-type {\n",
       "        vertical-align: middle;\n",
       "    }\n",
       "\n",
       "    .dataframe tbody tr th {\n",
       "        vertical-align: top;\n",
       "    }\n",
       "\n",
       "    .dataframe thead th {\n",
       "        text-align: right;\n",
       "    }\n",
       "</style>\n",
       "<table border=\"1\" class=\"dataframe\">\n",
       "  <thead>\n",
       "    <tr style=\"text-align: right;\">\n",
       "      <th></th>\n",
       "      <th>surgery?</th>\n",
       "      <th>Age</th>\n",
       "      <th>rectal_temperature</th>\n",
       "      <th>pulse</th>\n",
       "      <th>respiratory_rate</th>\n",
       "      <th>temperature_of_extremities</th>\n",
       "      <th>pain</th>\n",
       "      <th>outcome</th>\n",
       "    </tr>\n",
       "  </thead>\n",
       "  <tbody>\n",
       "    <tr>\n",
       "      <th>0</th>\n",
       "      <td>2.0</td>\n",
       "      <td>1</td>\n",
       "      <td>38.5</td>\n",
       "      <td>66.0</td>\n",
       "      <td>28.0</td>\n",
       "      <td>3.0</td>\n",
       "      <td>5.0</td>\n",
       "      <td>2.0</td>\n",
       "    </tr>\n",
       "    <tr>\n",
       "      <th>1</th>\n",
       "      <td>1.0</td>\n",
       "      <td>1</td>\n",
       "      <td>39.2</td>\n",
       "      <td>88.0</td>\n",
       "      <td>20.0</td>\n",
       "      <td>NaN</td>\n",
       "      <td>3.0</td>\n",
       "      <td>3.0</td>\n",
       "    </tr>\n",
       "    <tr>\n",
       "      <th>2</th>\n",
       "      <td>2.0</td>\n",
       "      <td>1</td>\n",
       "      <td>38.3</td>\n",
       "      <td>40.0</td>\n",
       "      <td>24.0</td>\n",
       "      <td>1.0</td>\n",
       "      <td>3.0</td>\n",
       "      <td>1.0</td>\n",
       "    </tr>\n",
       "    <tr>\n",
       "      <th>3</th>\n",
       "      <td>1.0</td>\n",
       "      <td>9</td>\n",
       "      <td>39.1</td>\n",
       "      <td>164.0</td>\n",
       "      <td>84.0</td>\n",
       "      <td>4.0</td>\n",
       "      <td>2.0</td>\n",
       "      <td>2.0</td>\n",
       "    </tr>\n",
       "    <tr>\n",
       "      <th>4</th>\n",
       "      <td>2.0</td>\n",
       "      <td>1</td>\n",
       "      <td>37.3</td>\n",
       "      <td>104.0</td>\n",
       "      <td>35.0</td>\n",
       "      <td>NaN</td>\n",
       "      <td>NaN</td>\n",
       "      <td>2.0</td>\n",
       "    </tr>\n",
       "  </tbody>\n",
       "</table>\n",
       "</div>"
      ],
      "text/plain": [
       "   surgery?  Age  rectal_temperature  pulse  respiratory_rate  \\\n",
       "0       2.0    1                38.5   66.0              28.0   \n",
       "1       1.0    1                39.2   88.0              20.0   \n",
       "2       2.0    1                38.3   40.0              24.0   \n",
       "3       1.0    9                39.1  164.0              84.0   \n",
       "4       2.0    1                37.3  104.0              35.0   \n",
       "\n",
       "   temperature_of_extremities  pain  outcome  \n",
       "0                         3.0   5.0      2.0  \n",
       "1                         NaN   3.0      3.0  \n",
       "2                         1.0   3.0      1.0  \n",
       "3                         4.0   2.0      2.0  \n",
       "4                         NaN   NaN      2.0  "
      ]
     },
     "execution_count": 2,
     "metadata": {},
     "output_type": "execute_result"
    }
   ],
   "source": [
    "list_columns = ['surgery?', 'Age', 'rectal_temperature', 'pulse', 'respiratory_rate', \n",
    "                'temperature_of_extremities', 'pain', 'outcome']\n",
    "\n",
    "df = pd.read_csv('https://raw.githubusercontent.com/obulygin/pyda_homeworks/master/statistics_basics/horse_data.csv', header=None, \n",
    "                          na_values='?', usecols = [0, 1, 3, 4, 5, 6, 10, 22], names = list_columns)\n",
    "\n",
    "df.head()"
   ]
  },
  {
   "cell_type": "markdown",
   "metadata": {},
   "source": [
    "### Задание 2. Первичное изучение данных\n",
    "Проанализировать значения по столбцам, рассчитать базовые статистики, найти выбросы."
   ]
  },
  {
   "cell_type": "code",
   "execution_count": null,
   "metadata": {},
   "outputs": [],
   "source": [
    "df.describe()"
   ]
  },
  {
   "cell_type": "code",
   "execution_count": null,
   "metadata": {},
   "outputs": [],
   "source": [
    "#mean, std, min, max, quantiles and median are above.\n",
    "#range\n",
    "#I doubt that surgery, pain and outcome ranges are that significant\n",
    "age_range = df['age'].max() - df['age'].min()\n",
    "rect_range = df['rectal temperature'].max() - df['rectal temperature'].min()\n",
    "pulse_range = df['pulse'].max() - df['pulse'].min()\n",
    "resp_range = df['respiratory rate'].max() - df['respiratory rate'].min()\n",
    "temp_range = df['temperature of extremities'].max() - df['temperature of extremities'].min()\n",
    "print(f'Age range: {age_range}')\n",
    "print(f'Rectal Temperature range: {rect_range}')\n",
    "print(f'Pulse range: {pulse_range}')\n",
    "print(f'Respiratory Rate range: {resp_range}')\n",
    "print(f'Temperature of Extremities range: {temp_range}')"
   ]
  },
  {
   "cell_type": "code",
   "execution_count": null,
   "metadata": {},
   "outputs": [],
   "source": [
    "#mode\n",
    "print('Surgery mode: ', df['surgery?'].round().mode()[0])\n",
    "print('Age mode: ', df['age'].round().mode()[0])\n",
    "print('Rectal Temperature mode: ', df['rectal temperature'].round().mode()[0])\n",
    "print('Pulse mode: ', df['pulse'].round().mode()[0])\n",
    "print('Respiratory Rate mode: ', df['respiratory rate'].round().mode()[0])\n",
    "print('Temperature of Extremities mode: ', df['temperature of extremities'].round().mode()[0])\n",
    "print('Pain mode: ', df['pain'].round().mode()[0])\n",
    "print('Outcome mode: ', df['outcome'].round().mode()[0])"
   ]
  },
  {
   "cell_type": "code",
   "execution_count": null,
   "metadata": {},
   "outputs": [],
   "source": [
    "#dispersion\n",
    "print('Surgery dispersion: ', df['surgery?'].var())\n",
    "print('Age dispersion: ', df['age'].var())\n",
    "print('Rectal Temperature dispersion: ', df['rectal temperature'].var())\n",
    "print('Pulse dispersion: ', df['pulse'].var())\n",
    "print('Respiratory Rate dispersion: ', df['respiratory rate'].var())\n",
    "print('Temperature of Extremities dispersion: ', df['temperature of extremities'].var())\n",
    "print('Pain dispersion: ', df['pain'].round().var())\n",
    "print('Outcome dispersion: ', df['outcome'].round().var())"
   ]
  },
  {
   "cell_type": "code",
   "execution_count": null,
   "metadata": {},
   "outputs": [],
   "source": [
    "#outliers:\n",
    "#surgery - seems ok\n",
    "#age - seems ok\n",
    "#rect temp - seems ok\n",
    "#pulse - seems odd\n",
    "#resp rate - seems odd\n",
    "#temp of extr - seems ok\n",
    "#pain - seems ok\n",
    "#outcome - seems ok"
   ]
  },
  {
   "cell_type": "code",
   "execution_count": null,
   "metadata": {},
   "outputs": [],
   "source": [
    "pulse_q1 = df['pulse'].quantile(0.25)\n",
    "pulse_q3 = df['pulse'].quantile(0.75)\n",
    "pulse_iqr = pulse_q3 - pulse_q1\n",
    "pulse_lower_bound = pulse_q1 - (1.5 * pulse_iqr) \n",
    "pulse_upper_bound = pulse_q3 + (1.5 * pulse_iqr)\n",
    "pulse_outliers = df[~df['pulse'].between(pulse_lower_bound, pulse_upper_bound, inclusive=True)]\n",
    "\n",
    "pulse_outliers['pulse'].dropna()"
   ]
  },
  {
   "cell_type": "code",
   "execution_count": null,
   "metadata": {},
   "outputs": [],
   "source": [
    "resp_q1 = df['respiratory rate'].quantile(0.25)\n",
    "resp_q3 = df['respiratory rate'].quantile(0.75)\n",
    "resp_iqr = resp_q3 - resp_q1\n",
    "resp_lower_bound = resp_q1 - (1.5 * resp_iqr) \n",
    "resp_upper_bound = resp_q3 + (1.5 * resp_iqr)\n",
    "resp_outliers = df[~df['respiratory rate'].between(resp_lower_bound, resp_upper_bound, inclusive=True)]\n",
    "\n",
    "resp_outliers['respiratory rate'].dropna()"
   ]
  },
  {
   "cell_type": "markdown",
   "metadata": {},
   "source": [
    "### Задание 3. Работа с пропусками\n",
    "Рассчитать количество пропусков для всех выбранных столбцов. Принять и обосновать решение о методе заполнения пропусков по каждому столбцу на основе рассчитанных статистик и возможной взаимосвязи значений в них. Сформировать датафрейм, в котором пропуски будут отсутствовать."
   ]
  },
  {
   "cell_type": "code",
   "execution_count": null,
   "metadata": {},
   "outputs": [],
   "source": [
    "df.isna().sum()"
   ]
  },
  {
   "cell_type": "code",
   "execution_count": null,
   "metadata": {},
   "outputs": [],
   "source": [
    "df[df['surgery?'].isnull()]"
   ]
  },
  {
   "cell_type": "code",
   "execution_count": null,
   "metadata": {},
   "outputs": [],
   "source": [
    "#considering that that one missing cell for surg also stands for the outcome, I plan to replace NaNs in both columns with Mode\n",
    "df['surgery?'] = df['surgery?'].fillna(df['surgery?'].mode()[0])\n",
    "df['outcome'] = df['outcome'].fillna(df['outcome'].mode()[0])\n",
    "df.info()"
   ]
  },
  {
   "cell_type": "code",
   "execution_count": null,
   "metadata": {},
   "outputs": [],
   "source": [
    "#now as we've filled the gaps in 'outcome', we can fill the 'pain' column, for they are related\n",
    "df['pain'] = df['pain'].fillna(df.groupby('outcome')['pain'].transform('median'))\n",
    "df.info()"
   ]
  },
  {
   "cell_type": "code",
   "execution_count": null,
   "metadata": {},
   "outputs": [],
   "source": [
    "#now as we've filled the gaps in 'pain', we can fill the 'temperature of extremities' column, for they are related\n",
    "df['temperature of extremities'] = df['temperature of extremities'].fillna(df.groupby('pain')['temperature of extremities'].transform('median'))\n",
    "df.info()"
   ]
  },
  {
   "cell_type": "code",
   "execution_count": null,
   "metadata": {},
   "outputs": [],
   "source": [
    "#now as we've filled the gaps in 'pain', we can fill the 'pulse' column, for they are related\n",
    "df['pulse'] = df['pulse'].fillna(df.groupby('pain')['pulse'].transform('median'))\n",
    "df.info()"
   ]
  },
  {
   "cell_type": "code",
   "execution_count": null,
   "metadata": {},
   "outputs": [],
   "source": [
    "#I initially thought 'rect temp' may depend on 'pain' but now I think they can't be compared\n",
    "#so I can't decide how to fill this column, sorry\n",
    "\n",
    "#PS. Yet above, we fill the 'pulse' column in dependance of the 'pain' though the measures are not the same\n",
    "#and we can't transform subjective pain scale to be measured against 'beats per min'\n",
    "#weird but okay\n",
    "df['rectal temperature'] = df['rectal temperature'].fillna(df.groupby('pain')['rectal temperature'].transform('median'))\n",
    "df.info()"
   ]
  },
  {
   "cell_type": "code",
   "execution_count": null,
   "metadata": {},
   "outputs": [],
   "source": [
    "#resp rate description says: 'usefulness is doubtful due to the great fluctuations'\n",
    "#so I can drop the whole column I guess\n",
    "\n",
    "df.drop(['respiratory rate'], axis=1)"
   ]
  },
  {
   "cell_type": "markdown",
   "metadata": {},
   "source": []
  }
 ],
 "metadata": {
  "interpreter": {
   "hash": "69a8be0c0f83135f164c3d044bb97c429030d9f47563103bd0a6211d1d209a91"
  },
  "kernelspec": {
   "display_name": "Python 3.10.4 ('pyda': venv)",
   "language": "python",
   "name": "python3"
  },
  "language_info": {
   "codemirror_mode": {
    "name": "ipython",
    "version": 3
   },
   "file_extension": ".py",
   "mimetype": "text/x-python",
   "name": "python",
   "nbconvert_exporter": "python",
   "pygments_lexer": "ipython3",
   "version": "3.10.4"
  },
  "orig_nbformat": 4
 },
 "nbformat": 4,
 "nbformat_minor": 2
}

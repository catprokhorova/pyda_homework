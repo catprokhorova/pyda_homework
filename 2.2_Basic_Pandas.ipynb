{
 "cells": [
  {
   "cell_type": "markdown",
   "metadata": {},
   "source": [
    "# 2. Библиотека Pandas"
   ]
  },
  {
   "cell_type": "code",
   "execution_count": 1,
   "metadata": {},
   "outputs": [],
   "source": [
    "import pandas as pd"
   ]
  },
  {
   "cell_type": "markdown",
   "metadata": {},
   "source": [
    "### Задание 1\n",
    "Скачайте с сайта [grouplens.org](https://files.grouplens.org/datasets/movielens/ml-latest-small.zip) датасет любого размера. Определите какому фильму было выставлено больше всего оценок 5.0."
   ]
  },
  {
   "cell_type": "code",
   "execution_count": null,
   "metadata": {},
   "outputs": [],
   "source": [
    "ratings = pd.read_csv('Data_for_homeworks/HW_2_3/ratings.csv')\n",
    "movies = pd.read_csv('Data_for_homeworks/HW_2_3/movies.csv')\n",
    "movies_data = ratings.merge(movies, on='movieId', how='left')\n",
    "movies_data = movies_data[movies_data.rating == 5.0]\n",
    "movies_data = movies_data.groupby('title')[['rating']].count()\n",
    "movies_data.sort_values('rating', ascending = False).reset_index().head(1)"
   ]
  },
  {
   "cell_type": "markdown",
   "metadata": {},
   "source": [
    "### Задание 2\n",
    "По данным файла <i>power.csv</i> посчитайте суммарное потребление стран Прибалтики (Латвия, Литва и Эстония) категорий 4, 12 и 21 за период с 2005 по 2010 года. Не учитывайте в расчетах отрицательные значения quantity."
   ]
  },
  {
   "cell_type": "code",
   "execution_count": 2,
   "metadata": {},
   "outputs": [
    {
     "name": "stdout",
     "output_type": "stream",
     "text": [
      "Суммарное потребление: 240580.0\n"
     ]
    }
   ],
   "source": [
    "data = pd.read_csv('Data_for_homeworks/HW_2_2/power.csv')\n",
    "data2 = (data[((data['year'] >= 2005) & \n",
    "               (data['year'] <= 2010) & \n",
    "               (data['quantity'] > 0)) & \n",
    "               ((data['country'] == 'Latvia') | \n",
    "                (data['country'] == 'Lithuania') | \n",
    "                (data['country'] == 'Estonia'))])\n",
    "data3 = data2[data2.category.isin([4,12,21])]\n",
    "summa = data3['quantity'].sum()\n",
    "print(f'Суммарное потребление: {summa}')"
   ]
  },
  {
   "cell_type": "markdown",
   "metadata": {},
   "source": [
    "### Задание 3\n",
    "Выберите страницу любого сайта с табличными данными. Импортируйте таблицы в pandas dataframe.\n",
    "\n",
    "Примеры страниц (необязательно брать именно эти):\n",
    "\n",
    "https://fortrader.org/quotes\n",
    "\n",
    "www.finanz.ru...om-vremeni"
   ]
  },
  {
   "cell_type": "code",
   "execution_count": null,
   "metadata": {},
   "outputs": [],
   "source": [
    "page_url = 'https://developer.mozilla.org/ru/docs/Learn/HTML/Tables/Basics'\n",
    "data_fr = pd.read_html(page_url, encoding='utf-8')\n",
    "data_fr"
   ]
  }
 ],
 "metadata": {
  "kernelspec": {
   "display_name": "Python 3.10.6 ('pyda': venv)",
   "language": "python",
   "name": "python3"
  },
  "language_info": {
   "codemirror_mode": {
    "name": "ipython",
    "version": 3
   },
   "file_extension": ".py",
   "mimetype": "text/x-python",
   "name": "python",
   "nbconvert_exporter": "python",
   "pygments_lexer": "ipython3",
   "version": "3.10.8"
  },
  "orig_nbformat": 4,
  "vscode": {
   "interpreter": {
    "hash": "69a8be0c0f83135f164c3d044bb97c429030d9f47563103bd0a6211d1d209a91"
   }
  }
 },
 "nbformat": 4,
 "nbformat_minor": 2
}

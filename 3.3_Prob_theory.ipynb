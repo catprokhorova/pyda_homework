{
 "cells": [
  {
   "cell_type": "markdown",
   "metadata": {},
   "source": [
    "# 3. Случайные события. Случайные величины"
   ]
  },
  {
   "cell_type": "code",
   "execution_count": 1,
   "metadata": {},
   "outputs": [],
   "source": [
    "import numpy as np"
   ]
  },
  {
   "cell_type": "markdown",
   "metadata": {},
   "source": [
    "## Задание\n",
    "\n",
    "Смоделировать игру против лотерейного автомата типа “777”. Игрок платит 1 руб., после чего выпадает случайное целое число, равномерно распределенное от 0 до 999. При некоторых значениях числа игрок получает выигрыш.\n",
    "\n",
    "777: 200 руб.\n",
    "\n",
    "999: 100 руб.\n",
    "\n",
    "555: 50 руб.\n",
    "\n",
    "333: 15 руб.\n",
    "\n",
    "111: 10 руб.\n",
    "\n",
    "*77: 5 руб.\n",
    "\n",
    "**7: 3 руб.\n",
    "\n",
    "*00: 2 руб.\n",
    "\n",
    "**0: 1 руб.\n",
    "\n",
    "Вопросы:\n",
    "\n",
    "Выгодна ли игра игроку?\n",
    "Сколько в среднем приобретает или теряет игрок за одну игру?"
   ]
  },
  {
   "cell_type": "code",
   "execution_count": 14,
   "metadata": {},
   "outputs": [
    {
     "name": "stdout",
     "output_type": "stream",
     "text": [
      "Сумма выигрыша - -194589\n",
      "Выигрыш за одну игру 0.8 руб\n"
     ]
    }
   ],
   "source": [
    "trials = 1000000\n",
    "fail = 0       \n",
    "balance = []\n",
    "\n",
    "for i in range(trials):\n",
    "    random_score = np.random.randint(0, 1000)\n",
    "    if random_score == 999:\n",
    "        balance.append(100)\n",
    "    elif random_score == 777:\n",
    "        balance.append(200)\n",
    "    elif random_score == 555:\n",
    "        balance.append(50)\n",
    "    elif random_score == 333:\n",
    "        balance.append(15)\n",
    "    elif random_score == 111:\n",
    "        balance.append(10)\n",
    "    elif random_score % 100 == 77:\n",
    "        balance.append(5)\n",
    "    elif random_score % 10 == 7:\n",
    "        balance.append(3)    \n",
    "    elif random_score % 100 == 0:\n",
    "        balance.append(2)\n",
    "    elif random_score % 10 == 0:\n",
    "        balance.append(1)\n",
    "    else:\n",
    "        fail += 1\n",
    "\n",
    "profit = sum(balance) - trials\n",
    "win_probability = len(balance) / trials\n",
    "fail_probability = fail / trials\n",
    "\n",
    "print('Сумма выигрыша -', profit)\n",
    "print('Выигрыш за одну игру', round(fail_probability, 1), 'руб')"
   ]
  }
 ],
 "metadata": {
  "kernelspec": {
   "display_name": "pyda",
   "language": "python",
   "name": "python3"
  },
  "language_info": {
   "codemirror_mode": {
    "name": "ipython",
    "version": 3
   },
   "file_extension": ".py",
   "mimetype": "text/x-python",
   "name": "python",
   "nbconvert_exporter": "python",
   "pygments_lexer": "ipython3",
   "version": "3.10.8"
  },
  "orig_nbformat": 4
 },
 "nbformat": 4,
 "nbformat_minor": 2
}

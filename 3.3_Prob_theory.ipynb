{
 "cells": [
  {
   "cell_type": "markdown",
   "metadata": {},
   "source": [
    "# 3. Случайные события. Случайные величины"
   ]
  },
  {
   "cell_type": "code",
   "execution_count": null,
   "metadata": {},
   "outputs": [],
   "source": [
    "import numpy as np"
   ]
  },
  {
   "cell_type": "markdown",
   "metadata": {},
   "source": [
    "## Задание\n",
    "\n",
    "Смоделировать игру против лотерейного автомата типа “777”. Игрок платит 1 руб., после чего выпадает случайное целое число, равномерно распределенное от 0 до 999. При некоторых значениях числа игрок получает выигрыш.\n",
    "\n",
    "777: 200 руб.\n",
    "\n",
    "999: 100 руб.\n",
    "\n",
    "555: 50 руб.\n",
    "\n",
    "333: 15 руб.\n",
    "\n",
    "111: 10 руб.\n",
    "\n",
    "*77: 5 руб.\n",
    "\n",
    "**7: 3 руб.\n",
    "\n",
    "*00: 2 руб.\n",
    "\n",
    "**0: 1 руб.\n",
    "\n",
    "Вопросы:\n",
    "\n",
    "Выгодна ли игра игроку?\n",
    "Сколько в среднем приобретает или теряет игрок за одну игру?"
   ]
  },
  {
   "cell_type": "code",
   "execution_count": null,
   "metadata": {},
   "outputs": [],
   "source": [
    "trials = 1000000\n",
    "fail = 0       \n",
    "balance = []\n",
    "\n",
    "for i in range(trials):\n",
    "    random_score = np.random.randint(0, 1000)\n",
    "    if random_score == 999:\n",
    "        balance.append(100)\n",
    "    elif random_score == 777:\n",
    "        balance.append(200)\n",
    "    elif random_score == 555:\n",
    "        balance.append(50)\n",
    "    elif random_score == 333:\n",
    "        balance.append(15)\n",
    "    elif random_score == 111:\n",
    "        balance.append(10)\n",
    "    elif random_score % 100 == 77:\n",
    "        balance.append(5)\n",
    "    elif random_score % 10 == 7:\n",
    "        balance.append(3)    \n",
    "    elif random_score % 100 == 0:\n",
    "        balance.append(2)\n",
    "    elif random_score % 10 == 0:\n",
    "        balance.append(1)\n",
    "    else:\n",
    "        fail += 1\n",
    "\n",
    "profit = sum(balance) - trials\n",
    "win_probability = len(balance) / trials #в итоге рассчитала, но зачем?\n",
    "fail_probability = fail / trials #и это тоже\n",
    "\n",
    "prob1 = 0.001 #вероятность выпадения 777, 999, 555 и тд\n",
    "prob2 = 0.001\n",
    "prob3 = 0.001\n",
    "prob4 = 0.001\n",
    "prob5 = 0.001\n",
    "prob6 = 0.009\n",
    "prob7 = 0.09\n",
    "prob8 = 0.01\n",
    "prob9 = 0.09 #я уверена, вот этот пздц можно было рассчитать как-то иначе, а не руками, но хз как\n",
    "\n",
    "expect = (200 * prob1) + (100 * prob2) + (50 * prob3) + (15 * prob4) + (10 * prob5) + (5 * prob6) + (3 * prob7) + (2 * prob8) + (1 * prob9)\n",
    "\n",
    "print(profit)\n",
    "print(win_probability)\n",
    "print(expect)"
   ]
  },
  {
   "cell_type": "markdown",
   "metadata": {},
   "source": [
    "В общем, играть в это не стоит. Из миллиона попыток профит -200К)))\n",
    "\n",
    "Хотя по теор рассчетам с каждой попыткой выигрыш составляет 0.8 руб, т.е. игра убыточная, я не могу понять, как матожидание у меня стабильно 70-80\n",
    "\n",
    "###UPD:\n",
    "###Я тапка, которая забыла перевести % в дроби. Теперь ответ тот, который нужен - 80 копеек"
   ]
  }
 ],
 "metadata": {
  "language_info": {
   "name": "python"
  },
  "orig_nbformat": 4
 },
 "nbformat": 4,
 "nbformat_minor": 2
}

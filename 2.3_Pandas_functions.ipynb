{
 "cells": [
  {
   "cell_type": "markdown",
   "metadata": {},
   "source": [
    "# 3. Функции и работа с данными"
   ]
  },
  {
   "cell_type": "code",
   "execution_count": null,
   "metadata": {},
   "outputs": [],
   "source": [
    "import pandas as pd"
   ]
  },
  {
   "cell_type": "markdown",
   "metadata": {},
   "source": [
    "### Задание 1\n",
    "Напишите функцию, которая классифицирует фильмы из материалов занятия по следующим правилам:\n",
    "- оценка 2 и меньше - низкий рейтинг\n",
    "- оценка 4 и меньше - средний рейтинг\n",
    "- оценка 4.5 и 5 - высокий рейтинг\n",
    "\n",
    "Результат классификации запишите в столбец class."
   ]
  },
  {
   "cell_type": "code",
   "execution_count": null,
   "metadata": {},
   "outputs": [],
   "source": [
    "rating = pd.read_csv('Data_for_homeworks/HW_2_3/ratings.csv')\n",
    "mov = pd.read_csv('Data_for_homeworks/HW_2_3/movies.csv')\n",
    "mov_rat = mov.merge(rating, on='movieId', how='left')"
   ]
  },
  {
   "cell_type": "code",
   "execution_count": null,
   "metadata": {},
   "outputs": [],
   "source": [
    "def classify(row):\n",
    "    if row.rating >= 4.5:\n",
    "      return 'высокий рейтинг'\n",
    "\n",
    "    elif 2 < row.rating < 4.5:\n",
    "      return 'средний рейтинг'\n",
    "\n",
    "    elif row.rating <= 2:\n",
    "      return 'низкий рейтинг'"
   ]
  },
  {
   "cell_type": "code",
   "execution_count": null,
   "metadata": {},
   "outputs": [],
   "source": [
    "mov_rat['class'] = mov_rat.apply(classify, axis = 1)\n",
    "mov_rat.loc[ :10]"
   ]
  },
  {
   "cell_type": "markdown",
   "metadata": {},
   "source": [
    "### Задание 2\n",
    "Используем файл <i>keywords.csv</i>.\n",
    "\n",
    "Необходимо написать гео-классификатор, который каждой строке сможет выставить географическую принадлежность определенному региону. Т. е. если поисковый запрос содержит название города региона, то в столбце ‘region’ пишется название этого региона. Если поисковый запрос не содержит названия города, то ставим ‘undefined’.\n",
    "\n",
    "Правила распределения по регионам Центр, Северо-Запад и Дальний Восток:\n",
    "\n",
    "Результат классификации запишите в отдельный столбец region."
   ]
  },
  {
   "cell_type": "code",
   "execution_count": null,
   "metadata": {},
   "outputs": [],
   "source": [
    "geo_data = {\n",
    "  \n",
    "  'Центр': ['москва', 'тула', 'ярославль'],\n",
    "  'Северо-Запад': ['петербург', 'псков', 'мурманск'],\n",
    "  'Дальний Восток': ['владивосток', 'сахалин', 'хабаровск']\n",
    "\n",
    "}"
   ]
  },
  {
   "cell_type": "code",
   "execution_count": null,
   "metadata": {},
   "outputs": [],
   "source": [
    "df_keys = pd.read_csv('Data_for_homeworks/HW_2_3/keywords.csv')"
   ]
  },
  {
   "cell_type": "code",
   "execution_count": null,
   "metadata": {},
   "outputs": [],
   "source": [
    "q = df_keys['keyword'].values\n",
    "\n",
    "def key_region(q):\n",
    "  for region, city_list in geo_data.items():\n",
    "    for city in city_list:\n",
    "      if city in q:\n",
    "        return region\n",
    "\n",
    "  return 'undefined'"
   ]
  },
  {
   "cell_type": "code",
   "execution_count": null,
   "metadata": {},
   "outputs": [],
   "source": [
    "df_keys['region'] = df_keys['keyword'].apply(key_region)\n",
    "df_keys[df_keys['region'] != 'undefined']"
   ]
  },
  {
   "cell_type": "markdown",
   "metadata": {},
   "source": [
    "### Задание 3 (бонусное)\n",
    "\n",
    "Есть мнение, что “раньше снимали настоящее кино, не то что сейчас”. Ваша задача проверить это утверждение, используя файлы с рейтингами фильмов из прошлого домашнего занятия (файл movies.csv и ratings.csv из базы grouplens.org.../movielens). Т. е. проверить верно ли, что с ростом года выпуска фильма его средний рейтинг становится ниже.\n",
    "\n",
    "При этом мы не будем затрагивать субьективные факторы выставления этих рейтингов, а пройдемся по следующему алгоритму:\n",
    "\n",
    "В переменную years запишите список из всех годов с 1950 по 2010.\n",
    "\n",
    "Напишите функцию production_year, которая каждой строке из названия фильма выставляет год выпуска. Не все названия фильмов содержат год выпуска в одинаковом формате, поэтому используйте следующий алгоритм:\n",
    "\n",
    "- для каждой строки пройдите по всем годам списка years\n",
    "- если номер года присутствует в названии фильма, то функция возвращает этот год как год выпуска\n",
    "- если ни один из номеров года списка years не встретился в названии фильма, то возвращается 1900 год\n",
    "\n",
    "Запишите год выпуска фильма по алгоритму пункта 2 в новый столбец ‘year’\n",
    "\n",
    "Посчитайте средний рейтинг всех фильмов для каждого значения столбца ‘year’ и отсортируйте результат по убыванию рейтинга"
   ]
  },
  {
   "cell_type": "code",
   "execution_count": null,
   "metadata": {},
   "outputs": [],
   "source": [
    "import matplotlib.pyplot as plt"
   ]
  },
  {
   "cell_type": "code",
   "execution_count": null,
   "metadata": {},
   "outputs": [],
   "source": [
    "ratings = pd.read_csv('Data_for_homeworks/HW_2_2/ratings.csv')\n",
    "movies = pd.read_csv('Data_for_homeworks/HW_2_2/movies.csv')"
   ]
  },
  {
   "cell_type": "code",
   "execution_count": null,
   "metadata": {},
   "outputs": [],
   "source": [
    "\"\"\"\n",
    "функция production_year выставляет год выпуска фильму по условию:\n",
    "  - год от 1950 по 2010\n",
    "  - если номер года присутствует в названии фильма, то функция возвращает этот год как год выпуска\n",
    "  - если ни один из номеров года списка years не встретился в названии фильма, то возвращается 1900 год\n",
    "\"\"\"\n",
    "\n",
    "def production_year(film):\n",
    "    years = range(1950, 2010)\n",
    "    val = [x for x in years if str(x) in film['title']]\n",
    "    if val:\n",
    "        return val[0]\n",
    "    else:\n",
    "        return 1900"
   ]
  },
  {
   "cell_type": "code",
   "execution_count": null,
   "metadata": {},
   "outputs": [],
   "source": [
    "#добавление столбца 'year'\n",
    "movies['year'] = movies.apply(production_year, axis=1)\n",
    "#объединение DFs и подсчёт среднего рейтинга\n",
    "merged = movies.merge(ratings, on = 'movieId', how = 'left')\n",
    "grouped_dfs = merged.groupby('year').rating.mean().reset_index()\n",
    "grouped_dfs.sort_values('rating', ascending = False)\n",
    "#исключение фильмов без года (не в range(1950, 2010)), им всем присвоен 1900-й год\n",
    "grouped_dfs_excluded = grouped_dfs[grouped_dfs['year'] != 1900] \n",
    "plt.plot(grouped_dfs_excluded['year'], grouped_dfs_excluded['rating'])"
   ]
  }
 ],
 "metadata": {
  "language_info": {
   "name": "python"
  },
  "orig_nbformat": 4
 },
 "nbformat": 4,
 "nbformat_minor": 2
}

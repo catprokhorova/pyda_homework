{
 "cells": [
  {
   "cell_type": "markdown",
   "metadata": {},
   "source": [
    "# 3. Функции и работа с данными"
   ]
  },
  {
   "cell_type": "code",
   "execution_count": 3,
   "metadata": {},
   "outputs": [],
   "source": [
    "import pandas as pd"
   ]
  },
  {
   "cell_type": "markdown",
   "metadata": {},
   "source": [
    "### Задание 1\n",
    "Напишите функцию, которая классифицирует фильмы из материалов занятия по следующим правилам:\n",
    "- оценка 2 и меньше - низкий рейтинг\n",
    "- оценка 4 и меньше - средний рейтинг\n",
    "- оценка 4.5 и 5 - высокий рейтинг\n",
    "\n",
    "Результат классификации запишите в столбец class."
   ]
  },
  {
   "cell_type": "code",
   "execution_count": null,
   "metadata": {},
   "outputs": [],
   "source": [
    "rating = pd.read_csv('Data_for_homeworks/HW_2_3/ratings.csv')\n",
    "mov = pd.read_csv('Data_for_homeworks/HW_2_3/movies.csv')\n",
    "mov_rat = mov.merge(rating, on='movieId', how='left')"
   ]
  },
  {
   "cell_type": "code",
   "execution_count": null,
   "metadata": {},
   "outputs": [],
   "source": [
    "def classify(row):\n",
    "    if row.rating >= 4.5:\n",
    "      return 'высокий рейтинг'\n",
    "\n",
    "    elif 2 < row.rating < 4.5:\n",
    "      return 'средний рейтинг'\n",
    "\n",
    "    elif row.rating <= 2:\n",
    "      return 'низкий рейтинг'"
   ]
  },
  {
   "cell_type": "code",
   "execution_count": null,
   "metadata": {},
   "outputs": [],
   "source": [
    "mov_rat['class'] = mov_rat.apply(classify, axis = 1)\n",
    "mov_rat.loc[ :10]"
   ]
  },
  {
   "cell_type": "markdown",
   "metadata": {},
   "source": [
    "### Задание 2\n",
    "Используем файл <i>keywords.csv</i>.\n",
    "\n",
    "Необходимо написать гео-классификатор, который каждой строке сможет выставить географическую принадлежность определенному региону. Т. е. если поисковый запрос содержит название города региона, то в столбце ‘region’ пишется название этого региона. Если поисковый запрос не содержит названия города, то ставим ‘undefined’.\n",
    "\n",
    "Правила распределения по регионам Центр, Северо-Запад и Дальний Восток:\n",
    "\n",
    "Результат классификации запишите в отдельный столбец region."
   ]
  },
  {
   "cell_type": "code",
   "execution_count": 1,
   "metadata": {},
   "outputs": [],
   "source": [
    "geo_data = {\n",
    "  \n",
    "  'Центр': ['москва', 'тула', 'ярославль'],\n",
    "  'Северо-Запад': ['петербург', 'псков', 'мурманск'],\n",
    "  'Дальний Восток': ['владивосток', 'сахалин', 'хабаровск']\n",
    "\n",
    "}"
   ]
  },
  {
   "cell_type": "code",
   "execution_count": 4,
   "metadata": {},
   "outputs": [],
   "source": [
    "df_keys = pd.read_csv('Data_for_homeworks/HW_2_3/keywords.csv')"
   ]
  },
  {
   "cell_type": "code",
   "execution_count": 7,
   "metadata": {},
   "outputs": [],
   "source": [
    "def key_region(row):\n",
    "  for region, city_list in geo_data.items():\n",
    "    for city in city_list:\n",
    "      if city in row:\n",
    "        return region\n",
    "\n",
    "  return 'undefined'"
   ]
  },
  {
   "cell_type": "code",
   "execution_count": 6,
   "metadata": {},
   "outputs": [
    {
     "data": {
      "text/html": [
       "<div>\n",
       "<style scoped>\n",
       "    .dataframe tbody tr th:only-of-type {\n",
       "        vertical-align: middle;\n",
       "    }\n",
       "\n",
       "    .dataframe tbody tr th {\n",
       "        vertical-align: top;\n",
       "    }\n",
       "\n",
       "    .dataframe thead th {\n",
       "        text-align: right;\n",
       "    }\n",
       "</style>\n",
       "<table border=\"1\" class=\"dataframe\">\n",
       "  <thead>\n",
       "    <tr style=\"text-align: right;\">\n",
       "      <th></th>\n",
       "      <th>keyword</th>\n",
       "      <th>shows</th>\n",
       "      <th>region</th>\n",
       "    </tr>\n",
       "  </thead>\n",
       "  <tbody>\n",
       "    <tr>\n",
       "      <th>127</th>\n",
       "      <td>авито москва</td>\n",
       "      <td>979292</td>\n",
       "      <td>Центр</td>\n",
       "    </tr>\n",
       "    <tr>\n",
       "      <th>370</th>\n",
       "      <td>авито ру санкт петербург</td>\n",
       "      <td>425134</td>\n",
       "      <td>Северо-Запад</td>\n",
       "    </tr>\n",
       "    <tr>\n",
       "      <th>564</th>\n",
       "      <td>погода в санкт петербурге</td>\n",
       "      <td>292489</td>\n",
       "      <td>Северо-Запад</td>\n",
       "    </tr>\n",
       "    <tr>\n",
       "      <th>849</th>\n",
       "      <td>авито ярославль</td>\n",
       "      <td>209581</td>\n",
       "      <td>Центр</td>\n",
       "    </tr>\n",
       "    <tr>\n",
       "      <th>1063</th>\n",
       "      <td>фарпост владивосток</td>\n",
       "      <td>176951</td>\n",
       "      <td>Дальний Восток</td>\n",
       "    </tr>\n",
       "    <tr>\n",
       "      <th>...</th>\n",
       "      <td>...</td>\n",
       "      <td>...</td>\n",
       "      <td>...</td>\n",
       "    </tr>\n",
       "    <tr>\n",
       "      <th>99590</th>\n",
       "      <td>авито ярославль автомобили с пробегом</td>\n",
       "      <td>3673</td>\n",
       "      <td>Центр</td>\n",
       "    </tr>\n",
       "    <tr>\n",
       "      <th>99634</th>\n",
       "      <td>северпост новости мурманской области</td>\n",
       "      <td>3606</td>\n",
       "      <td>Северо-Запад</td>\n",
       "    </tr>\n",
       "    <tr>\n",
       "      <th>99808</th>\n",
       "      <td>полармед мурманск запись на прием</td>\n",
       "      <td>3719</td>\n",
       "      <td>Северо-Запад</td>\n",
       "    </tr>\n",
       "    <tr>\n",
       "      <th>99890</th>\n",
       "      <td>яндекс метро москва</td>\n",
       "      <td>4548</td>\n",
       "      <td>Центр</td>\n",
       "    </tr>\n",
       "    <tr>\n",
       "      <th>99922</th>\n",
       "      <td>авто ру ярославль</td>\n",
       "      <td>3712</td>\n",
       "      <td>Центр</td>\n",
       "    </tr>\n",
       "  </tbody>\n",
       "</table>\n",
       "<p>747 rows × 3 columns</p>\n",
       "</div>"
      ],
      "text/plain": [
       "                                     keyword   shows          region\n",
       "127                             авито москва  979292           Центр\n",
       "370                 авито ру санкт петербург  425134    Северо-Запад\n",
       "564                погода в санкт петербурге  292489    Северо-Запад\n",
       "849                          авито ярославль  209581           Центр\n",
       "1063                     фарпост владивосток  176951  Дальний Восток\n",
       "...                                      ...     ...             ...\n",
       "99590  авито ярославль автомобили с пробегом    3673           Центр\n",
       "99634   северпост новости мурманской области    3606    Северо-Запад\n",
       "99808      полармед мурманск запись на прием    3719    Северо-Запад\n",
       "99890                    яндекс метро москва    4548           Центр\n",
       "99922                      авто ру ярославль    3712           Центр\n",
       "\n",
       "[747 rows x 3 columns]"
      ]
     },
     "execution_count": 6,
     "metadata": {},
     "output_type": "execute_result"
    }
   ],
   "source": [
    "df_keys['region'] = df_keys['keyword'].apply(key_region)\n",
    "df_keys[df_keys['region'] != 'undefined']"
   ]
  },
  {
   "cell_type": "markdown",
   "metadata": {},
   "source": [
    "### Задание 3 (бонусное)\n",
    "\n",
    "Есть мнение, что “раньше снимали настоящее кино, не то что сейчас”. Ваша задача проверить это утверждение, используя файлы с рейтингами фильмов из прошлого домашнего занятия (файл movies.csv и ratings.csv из базы grouplens.org.../movielens). Т. е. проверить верно ли, что с ростом года выпуска фильма его средний рейтинг становится ниже.\n",
    "\n",
    "При этом мы не будем затрагивать субьективные факторы выставления этих рейтингов, а пройдемся по следующему алгоритму:\n",
    "\n",
    "В переменную years запишите список из всех годов с 1950 по 2010.\n",
    "\n",
    "Напишите функцию production_year, которая каждой строке из названия фильма выставляет год выпуска. Не все названия фильмов содержат год выпуска в одинаковом формате, поэтому используйте следующий алгоритм:\n",
    "\n",
    "- для каждой строки пройдите по всем годам списка years\n",
    "- если номер года присутствует в названии фильма, то функция возвращает этот год как год выпуска\n",
    "- если ни один из номеров года списка years не встретился в названии фильма, то возвращается 1900 год\n",
    "\n",
    "Запишите год выпуска фильма по алгоритму пункта 2 в новый столбец ‘year’\n",
    "\n",
    "Посчитайте средний рейтинг всех фильмов для каждого значения столбца ‘year’ и отсортируйте результат по убыванию рейтинга"
   ]
  },
  {
   "cell_type": "code",
   "execution_count": null,
   "metadata": {},
   "outputs": [],
   "source": [
    "import matplotlib.pyplot as plt"
   ]
  },
  {
   "cell_type": "code",
   "execution_count": 5,
   "metadata": {},
   "outputs": [
    {
     "data": {
      "text/html": [
       "<div>\n",
       "<style scoped>\n",
       "    .dataframe tbody tr th:only-of-type {\n",
       "        vertical-align: middle;\n",
       "    }\n",
       "\n",
       "    .dataframe tbody tr th {\n",
       "        vertical-align: top;\n",
       "    }\n",
       "\n",
       "    .dataframe thead th {\n",
       "        text-align: right;\n",
       "    }\n",
       "</style>\n",
       "<table border=\"1\" class=\"dataframe\">\n",
       "  <thead>\n",
       "    <tr style=\"text-align: right;\">\n",
       "      <th></th>\n",
       "      <th>movieId</th>\n",
       "      <th>title</th>\n",
       "      <th>genres</th>\n",
       "    </tr>\n",
       "  </thead>\n",
       "  <tbody>\n",
       "    <tr>\n",
       "      <th>0</th>\n",
       "      <td>1</td>\n",
       "      <td>Toy Story (1995)</td>\n",
       "      <td>Adventure|Animation|Children|Comedy|Fantasy</td>\n",
       "    </tr>\n",
       "    <tr>\n",
       "      <th>1</th>\n",
       "      <td>2</td>\n",
       "      <td>Jumanji (1995)</td>\n",
       "      <td>Adventure|Children|Fantasy</td>\n",
       "    </tr>\n",
       "    <tr>\n",
       "      <th>2</th>\n",
       "      <td>3</td>\n",
       "      <td>Grumpier Old Men (1995)</td>\n",
       "      <td>Comedy|Romance</td>\n",
       "    </tr>\n",
       "    <tr>\n",
       "      <th>3</th>\n",
       "      <td>4</td>\n",
       "      <td>Waiting to Exhale (1995)</td>\n",
       "      <td>Comedy|Drama|Romance</td>\n",
       "    </tr>\n",
       "    <tr>\n",
       "      <th>4</th>\n",
       "      <td>5</td>\n",
       "      <td>Father of the Bride Part II (1995)</td>\n",
       "      <td>Comedy</td>\n",
       "    </tr>\n",
       "    <tr>\n",
       "      <th>...</th>\n",
       "      <td>...</td>\n",
       "      <td>...</td>\n",
       "      <td>...</td>\n",
       "    </tr>\n",
       "    <tr>\n",
       "      <th>9120</th>\n",
       "      <td>162672</td>\n",
       "      <td>Mohenjo Daro (2016)</td>\n",
       "      <td>Adventure|Drama|Romance</td>\n",
       "    </tr>\n",
       "    <tr>\n",
       "      <th>9121</th>\n",
       "      <td>163056</td>\n",
       "      <td>Shin Godzilla (2016)</td>\n",
       "      <td>Action|Adventure|Fantasy|Sci-Fi</td>\n",
       "    </tr>\n",
       "    <tr>\n",
       "      <th>9122</th>\n",
       "      <td>163949</td>\n",
       "      <td>The Beatles: Eight Days a Week - The Touring Y...</td>\n",
       "      <td>Documentary</td>\n",
       "    </tr>\n",
       "    <tr>\n",
       "      <th>9123</th>\n",
       "      <td>164977</td>\n",
       "      <td>The Gay Desperado (1936)</td>\n",
       "      <td>Comedy</td>\n",
       "    </tr>\n",
       "    <tr>\n",
       "      <th>9124</th>\n",
       "      <td>164979</td>\n",
       "      <td>Women of '69, Unboxed</td>\n",
       "      <td>Documentary</td>\n",
       "    </tr>\n",
       "  </tbody>\n",
       "</table>\n",
       "<p>9125 rows × 3 columns</p>\n",
       "</div>"
      ],
      "text/plain": [
       "      movieId                                              title  \\\n",
       "0           1                                   Toy Story (1995)   \n",
       "1           2                                     Jumanji (1995)   \n",
       "2           3                            Grumpier Old Men (1995)   \n",
       "3           4                           Waiting to Exhale (1995)   \n",
       "4           5                 Father of the Bride Part II (1995)   \n",
       "...       ...                                                ...   \n",
       "9120   162672                                Mohenjo Daro (2016)   \n",
       "9121   163056                               Shin Godzilla (2016)   \n",
       "9122   163949  The Beatles: Eight Days a Week - The Touring Y...   \n",
       "9123   164977                           The Gay Desperado (1936)   \n",
       "9124   164979                              Women of '69, Unboxed   \n",
       "\n",
       "                                           genres  \n",
       "0     Adventure|Animation|Children|Comedy|Fantasy  \n",
       "1                      Adventure|Children|Fantasy  \n",
       "2                                  Comedy|Romance  \n",
       "3                            Comedy|Drama|Romance  \n",
       "4                                          Comedy  \n",
       "...                                           ...  \n",
       "9120                      Adventure|Drama|Romance  \n",
       "9121              Action|Adventure|Fantasy|Sci-Fi  \n",
       "9122                                  Documentary  \n",
       "9123                                       Comedy  \n",
       "9124                                  Documentary  \n",
       "\n",
       "[9125 rows x 3 columns]"
      ]
     },
     "execution_count": 5,
     "metadata": {},
     "output_type": "execute_result"
    }
   ],
   "source": [
    "# ratings = pd.read_csv('Data_for_homeworks/HW_2_2/ratings.csv')\n",
    "movies = pd.read_csv('Data_for_homeworks/HW_2_3/movies.csv')\n",
    "movies"
   ]
  },
  {
   "cell_type": "code",
   "execution_count": null,
   "metadata": {},
   "outputs": [],
   "source": [
    "\"\"\"\n",
    "функция production_year выставляет год выпуска фильму по условию:\n",
    "  - год от 1950 по 2010\n",
    "  - если номер года присутствует в названии фильма, то функция возвращает этот год как год выпуска\n",
    "  - если ни один из номеров года списка years не встретился в названии фильма, то возвращается 1900 год\n",
    "\"\"\"\n",
    "\n",
    "def production_year(film):\n",
    "    years = range(1950, 2010)\n",
    "    val = [x for x in years if str(x) in film['title']]\n",
    "    if val:\n",
    "        return val[0]\n",
    "    else:\n",
    "        return 1900"
   ]
  },
  {
   "cell_type": "code",
   "execution_count": null,
   "metadata": {},
   "outputs": [],
   "source": [
    "#добавление столбца 'year'\n",
    "movies['year'] = movies.apply(production_year, axis=1)\n",
    "#объединение DFs и подсчёт среднего рейтинга\n",
    "merged = movies.merge(ratings, on = 'movieId', how = 'left')\n",
    "grouped_dfs = merged.groupby('year').rating.mean().reset_index()\n",
    "grouped_dfs.sort_values('rating', ascending = False)\n",
    "#исключение фильмов без года (не в range(1950, 2010)), им всем присвоен 1900-й год\n",
    "grouped_dfs_excluded = grouped_dfs[grouped_dfs['year'] != 1900] \n",
    "plt.plot(grouped_dfs_excluded['year'], grouped_dfs_excluded['rating'])"
   ]
  }
 ],
 "metadata": {
  "kernelspec": {
   "display_name": "Python 3.10.5 ('pyda': venv)",
   "language": "python",
   "name": "python3"
  },
  "language_info": {
   "codemirror_mode": {
    "name": "ipython",
    "version": 3
   },
   "file_extension": ".py",
   "mimetype": "text/x-python",
   "name": "python",
   "nbconvert_exporter": "python",
   "pygments_lexer": "ipython3",
   "version": "3.10.5"
  },
  "orig_nbformat": 4,
  "vscode": {
   "interpreter": {
    "hash": "69a8be0c0f83135f164c3d044bb97c429030d9f47563103bd0a6211d1d209a91"
   }
  }
 },
 "nbformat": 4,
 "nbformat_minor": 2
}

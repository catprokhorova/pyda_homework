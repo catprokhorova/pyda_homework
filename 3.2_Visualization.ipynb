{
 "cells": [
  {
   "cell_type": "markdown",
   "metadata": {},
   "source": [
    "# 2. Визуализация"
   ]
  },
  {
   "cell_type": "code",
   "execution_count": null,
   "metadata": {},
   "outputs": [],
   "source": [
    "import matplotlib.pyplot as plt\n",
    "import seaborn as sns\n",
    "import pandas as pd\n",
    "import numpy as np"
   ]
  },
  {
   "cell_type": "markdown",
   "metadata": {},
   "source": [
    "#### Обязательная часть\n",
    "Вам необходимо провести базовый EDA выбранного набора данных.\n",
    "\n",
    "Требования к анализу:\n",
    "\n",
    "- построить не менее 4 визуализаций различных видов;\n",
    "- каждая визуализация должным образом оформлена и читается даже в отрыве от контекста;\n",
    "- по каждой визуализации необходимо написать вывод (какую гипотезу на ее основе можно выдвинуть?).\n",
    "\n",
    "Откуда брать данные?\n",
    "\n",
    "Можете взять свои рабочие данные, либо найти открытые данные (например, на kaggle.com) по интересующей вас предметной области (тогда не забудьте их выложить на github вместе с ноутбуком).\n",
    "Если идей нет, можете взять один из перечисленных ниже:\n",
    "\n",
    "- данные приложений из Google Play;\n",
    "- данные о видео из трендов YouTube;\n",
    "- данные об уровне счастья в разных странах.\n",
    "\n",
    "#### Дополнительная часть (необязательная)\n",
    "\n",
    "построить дополнительно не менее 2 визуализаций (итого не менее 6);\n",
    "в работе должны присутствовать следующие визуализации: boxplot, heatmap, scatter plot matrix;"
   ]
  },
  {
   "cell_type": "markdown",
   "metadata": {},
   "source": [
    "данные отсюда:\n",
    "https://www.kaggle.com/rtatman/chocolate-bar-ratings"
   ]
  },
  {
   "cell_type": "code",
   "execution_count": null,
   "metadata": {},
   "outputs": [],
   "source": [
    "choco = pd.read_csv('flavors_of_cacao.csv')\n",
    "choco.columns = ['Company', 'Bar name', 'REF', 'Year', 'Cocoa %', 'Country', 'Rating', 'fuck this', 'Bean Origin']\n",
    "choco = choco.drop(['fuck this'], axis=1)\n",
    "choco.info()"
   ]
  },
  {
   "cell_type": "code",
   "execution_count": null,
   "metadata": {},
   "outputs": [],
   "source": [
    "choco['Cocoa %'] = choco['Cocoa %'].str.strip('%')\n",
    "choco['Cocoa %'] = choco['Cocoa %'].astype('float64')\n",
    "choco['Cocoa %'] = choco['Cocoa %'] / 100\n",
    "choco.head()"
   ]
  },
  {
   "cell_type": "code",
   "execution_count": null,
   "metadata": {},
   "outputs": [],
   "source": [
    "choco['Cocoa %'].unique()"
   ]
  },
  {
   "cell_type": "code",
   "execution_count": null,
   "metadata": {},
   "outputs": [],
   "source": [
    "#самые распространенные процентные соотношения какао-бобов в шоколаде от 62 до 82\n",
    "choco['Cocoa %'].plot(kind='box',\n",
    "                      title='% какао-бобов в шоколаде', grid=True)"
   ]
  },
  {
   "cell_type": "code",
   "execution_count": null,
   "metadata": {},
   "outputs": [],
   "source": [
    "choco['Rating'].round(decimals = 1)\n",
    "choco['Rating'].unique()"
   ]
  },
  {
   "cell_type": "code",
   "execution_count": null,
   "metadata": {},
   "outputs": [],
   "source": [
    "rating_by_country = choco[['Country', 'Rating']].groupby('Country').count()\n",
    "rating_by_country"
   ]
  },
  {
   "cell_type": "code",
   "execution_count": null,
   "metadata": {},
   "outputs": [],
   "source": [
    "rating_by_country.loc[['Canada', 'France', 'U.S.A.', 'Italy', 'Ecuador']].plot(kind='bar', \n",
    "                                                                  title='Топ 5 стран с наибольшим кол-вом оценок',\n",
    "                                                                  xlabel='Страна',\n",
    "                                                                  ylabel='Количество оценок')"
   ]
  },
  {
   "cell_type": "markdown",
   "metadata": {},
   "source": [
    "я могу сделать вывод, что США производит наибольшее кол-во разновидностей шоколада, поэтому у этой страны почти в 4 раза больше оценок, чем у любой другой"
   ]
  },
  {
   "cell_type": "code",
   "execution_count": null,
   "metadata": {},
   "outputs": [],
   "source": [
    "choco['Country'].unique()"
   ]
  },
  {
   "cell_type": "code",
   "execution_count": null,
   "metadata": {},
   "outputs": [],
   "source": [
    "choco['Country'] = choco['Country'].replace('Niacragua', 'Nicaragua').replace('Eucador', 'Ecuador')"
   ]
  },
  {
   "cell_type": "code",
   "execution_count": null,
   "metadata": {},
   "outputs": [],
   "source": [
    "geo_data = {'America': ['Canada', 'U.S.A.', 'Ecuador', 'Mexico', 'Peru', 'Brazil', 'Puerto Rico', 'Venezuela', 'Colombia', 'Costa Rica', 'Argentina', 'Guatemala', 'Bolivia', 'St. Lucia', 'Grenada', 'Domincan Republic', 'Honduras', 'Nicaragua', 'Chile', 'Suriname', 'Martinique'],\n",
    "\n",
    "          'Australia': ['Fiji', 'Australia', 'New Zealand', 'Madagascar'],\n",
    "\n",
    "          'Europe': ['France', 'Switzerland', 'Netherlands', 'Spain', 'Italy', 'U.K.', 'Wales', 'Belgium', 'Germany', 'Russia', 'Amsterdam', 'Scotland', 'Portugal', 'Denmark', 'Czech Republic', 'Finland', 'Sweden', 'Poland', 'Austria', 'Lithuania', 'Iceland', 'Hungary', 'Ireland'],\n",
    "\n",
    "          'Asia': ['Japan', 'South Korea', 'Singapore', 'Vietnam', 'India', 'Philippines'],\n",
    "\n",
    "          'Africa': ['Sao Tome', 'South Africa', 'Israel', 'Ghana']\n",
    "}"
   ]
  },
  {
   "cell_type": "code",
   "execution_count": null,
   "metadata": {},
   "outputs": [],
   "source": [
    "q = choco['Country'].values\n",
    "\n",
    "def key_region(q):\n",
    "  for region, city_list in geo_data.items():\n",
    "    for city in city_list:\n",
    "      if city in q:\n",
    "        return region\n",
    "\n",
    "  return 'undefined'"
   ]
  },
  {
   "cell_type": "code",
   "execution_count": null,
   "metadata": {},
   "outputs": [],
   "source": [
    "choco['Region'] = choco['Country'].apply(key_region)\n",
    "choco[choco['Region'] == 'undefined']"
   ]
  },
  {
   "cell_type": "code",
   "execution_count": null,
   "metadata": {},
   "outputs": [],
   "source": [
    "rating = choco['Rating'].value_counts(ascending=False).index.values\n",
    "\n",
    "sns.boxplot(x='Region', y='Rating', \n",
    "            data=choco[choco['Rating'].isin(rating)])"
   ]
  },
  {
   "cell_type": "markdown",
   "metadata": {},
   "source": [
    "- средняя оценка продукции у произвоителей шоколада из африканских стран чуть ниже, чем в других регионах мира\n",
    "- при этом только шоколад европейских производителей критики оценили как \"элитный\""
   ]
  },
  {
   "cell_type": "code",
   "execution_count": null,
   "metadata": {},
   "outputs": [],
   "source": [
    "wtf = choco.pivot_table(\n",
    "                        index='Region', \n",
    "                        columns='Year',\n",
    "                        values='Rating',\n",
    "                        aggfunc='mean').fillna(0)\n",
    "wtf\n",
    "\n",
    "#здесь по задумке должна быть средняя оценка у каждого региона по годам"
   ]
  },
  {
   "cell_type": "code",
   "execution_count": null,
   "metadata": {},
   "outputs": [],
   "source": [
    "plt.plot(wtf)\n",
    "\n",
    "#тут вычленить год или регион не получается. График, конечно, трешовый"
   ]
  },
  {
   "cell_type": "code",
   "execution_count": null,
   "metadata": {},
   "outputs": [],
   "source": [
    "#график отражает моё отчаяние и желание выдрать и прополоскать себе мозги((("
   ]
  }
 ],
 "metadata": {
  "language_info": {
   "name": "python"
  },
  "orig_nbformat": 4
 },
 "nbformat": 4,
 "nbformat_minor": 2
}

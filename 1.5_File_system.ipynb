{
 "cells": [
  {
   "cell_type": "markdown",
   "metadata": {},
   "source": [
    "# 4. «Работа с файловой системой и модули»"
   ]
  },
  {
   "cell_type": "markdown",
   "metadata": {},
   "source": [
    "<p>1. Переведите содержимое файла purchase_log.txt в словарь purchases вида:\n",
    "{‘1840e0b9d4’: ‘Продукты’, …}</p>\n",
    "\n",
    "<p>2. Для каждого user_id в файле visit_log.csv определите третий столбец с категорией покупки (если покупка была, сам файл visit_log.csv изменять не надо). Запишите в файл funnel.csv визиты из файла visit_log.csv, в которых были покупки с указанием категории.</p>\n",
    "<p>Учтите условия на данные:</p>\n",
    "<p>содержимое purchase_log.txt помещается в оперативную память компьютера\n",
    "содержимое visit_log.csv - нет; используйте только построчную обработку этого файла</p>"
   ]
  },
  {
   "cell_type": "code",
   "execution_count": null,
   "metadata": {},
   "outputs": [],
   "source": [
    "import json\n",
    "purchases = {} \n",
    "with open('purchase_log.txt') as f:\n",
    "    f.readline()\n",
    "    for line in f:\n",
    "        line = line.strip()\n",
    "        line = json.loads(line)\n",
    "        purchases[line['user_id']] = line['category'] \n",
    "    \n",
    "purchases"
   ]
  },
  {
   "cell_type": "code",
   "execution_count": null,
   "metadata": {},
   "outputs": [],
   "source": [
    "with open('visit_log.csv', 'r') as log:\n",
    "    with open('funnel.csv', 'w') as result: \n",
    "        for line in log: \n",
    "            tmp = line.strip().split(',')\n",
    "            category = purchases.get(tmp[0])\n",
    "            if category is not None:\n",
    "                result.write(tmp[0] + ',' + tmp[1] + ',' + category + '\\n')"
   ]
  }
 ],
 "metadata": {
  "interpreter": {
   "hash": "83949ca3b6d1ca00ce209c2291ea49491cfd26a93e4e087f0889750473cf05db"
  },
  "kernelspec": {
   "display_name": "Python 3.10.4 ('pyda': venv)",
   "language": "python",
   "name": "python3"
  },
  "language_info": {
   "codemirror_mode": {
    "name": "ipython",
    "version": 3
   },
   "file_extension": ".py",
   "mimetype": "text/x-python",
   "name": "python",
   "nbconvert_exporter": "python",
   "pygments_lexer": "ipython3",
   "version": "3.10.4"
  },
  "orig_nbformat": 4
 },
 "nbformat": 4,
 "nbformat_minor": 2
}

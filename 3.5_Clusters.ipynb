{
 "cells": [
  {
   "cell_type": "markdown",
   "metadata": {},
   "source": [
    "# 5. Задачи классификации и кластеризации"
   ]
  },
  {
   "cell_type": "code",
   "execution_count": null,
   "metadata": {},
   "outputs": [],
   "source": [
    "import pandas as pd\n",
    "import numpy as np\n",
    "import matplotlib.pyplot as plt\n",
    "from sklearn.model_selection import train_test_split\n",
    "from sklearn.discriminant_analysis import LinearDiscriminantAnalysis\n",
    "from sklearn.preprocessing import StandardScaler\n",
    "from sklearn.cluster import KMeans\n",
    "from sklearn.cluster import AgglomerativeClustering\n",
    "from sklearn.datasets import load_iris"
   ]
  },
  {
   "cell_type": "markdown",
   "metadata": {},
   "source": [
    "### Задание.\n",
    "\n",
    "- Возьмите датасет с цветками iris’а (функция load_iris из библиотеки sklearn)\n",
    "- Оставьте два признака - sepal_length и sepal_width и целевую переменную - variety\n",
    "- Разделите данные на выборку для обучения и тестирования\n",
    "- Постройте модель LDA\n",
    "- Визуализируйте предсказания для тестовой выборки и центры классов\n",
    "- Отбросьте целевую переменную и оставьте только два признака - sepal_length и sepal_width\n",
    "- Подберите оптимальное число кластеров для алгоритма kmeans и визуализируйте полученную кластеризацию"
   ]
  },
  {
   "cell_type": "code",
   "execution_count": null,
   "metadata": {},
   "outputs": [],
   "source": [
    "#Возьмите датасет с цветками iris’а (функция load_iris из библиотеки sklearn)\n",
    "iris = load_iris()"
   ]
  },
  {
   "cell_type": "code",
   "execution_count": null,
   "metadata": {},
   "outputs": [],
   "source": [
    "print(iris.DESCR)"
   ]
  },
  {
   "cell_type": "code",
   "execution_count": null,
   "metadata": {},
   "outputs": [],
   "source": [
    "data = pd.DataFrame(iris.data, columns = iris.feature_names)\n",
    "data_class = iris.target\n",
    "\n",
    "data_class"
   ]
  },
  {
   "cell_type": "code",
   "execution_count": null,
   "metadata": {},
   "outputs": [],
   "source": [
    "#Оставьте два признака - sepal_length и sepal_width и целевую переменную - variety\n",
    "data = data.drop(['petal length (cm)'], axis = 1).drop(['petal width (cm)'], axis = 1)\n",
    "data.loc[:,'variety'] = data_class\n",
    "data"
   ]
  },
  {
   "cell_type": "code",
   "execution_count": null,
   "metadata": {},
   "outputs": [],
   "source": [
    "#Разделите данные на выборку для обучения и тестирования\n",
    "x_train, x_test, y_train, y_test = train_test_split(data, data_class, test_size = 0.20)"
   ]
  },
  {
   "cell_type": "code",
   "execution_count": null,
   "metadata": {},
   "outputs": [],
   "source": [
    "# Постройте модель LDA\n",
    "lda = LinearDiscriminantAnalysis()\n",
    "lda.fit(x_train, y_train)\n",
    "y_pred = lda.predict(x_test)\n",
    "result = pd.DataFrame([y_test, y_pred]).T\n",
    "result"
   ]
  },
  {
   "cell_type": "code",
   "execution_count": null,
   "metadata": {},
   "outputs": [],
   "source": [
    "from sklearn.metrics import accuracy_score\n",
    "accuracy_score(y_test, lda.predict(x_test))"
   ]
  },
  {
   "cell_type": "code",
   "execution_count": null,
   "metadata": {},
   "outputs": [],
   "source": [
    "#Визуализируйте предсказания для тестовой выборки и центры классов\n",
    "plt.scatter(x=x_test['sepal length (cm)'], y=x_test['sepal width (cm)'], c=y_test)\n",
    "plt.scatter(lda.means_[:, 0], lda.means_[:, 1], c='r', marker = '*')"
   ]
  },
  {
   "cell_type": "code",
   "execution_count": null,
   "metadata": {},
   "outputs": [],
   "source": [
    "#Отбросьте целевую переменную и оставьте только два признака - sepal_length и sepal_width\n",
    "new_data = data.drop(['variety'], axis = 1)\n",
    "new_data"
   ]
  },
  {
   "cell_type": "code",
   "execution_count": null,
   "metadata": {},
   "outputs": [],
   "source": [
    "#Подберите оптимальное число кластеров для алгоритма kmeans и визуализируйте полученную кластеризацию\n",
    "scaler = StandardScaler()\n",
    "x_scaled = scaler.fit_transform(new_data)\n",
    "\n",
    "kmeans = KMeans(n_clusters = 2)\n",
    "clusters = kmeans.fit_predict(x_scaled)\n",
    "clusters"
   ]
  },
  {
   "cell_type": "code",
   "execution_count": null,
   "metadata": {},
   "outputs": [],
   "source": [
    "plt.scatter(x_scaled[:, 0], x_scaled[:, 1], c = clusters)\n",
    "#2 выглядят логичнее, чем 3 кластера"
   ]
  },
  {
   "cell_type": "code",
   "execution_count": null,
   "metadata": {},
   "outputs": [],
   "source": [
    "k_inertia = []\n",
    "ks = range(1, 10)\n",
    "\n",
    "for k in ks:\n",
    "  clf_kmeans = KMeans(n_clusters = k)\n",
    "  clusters_kmeans = clf_kmeans.fit_predict(new_data)\n",
    "  k_inertia.append(clf_kmeans.inertia_)"
   ]
  },
  {
   "cell_type": "code",
   "execution_count": null,
   "metadata": {},
   "outputs": [],
   "source": [
    "plt.plot(ks, k_inertia)\n",
    "plt.plot(ks, k_inertia ,'ro')\n",
    "\n",
    "#ну вот тут тоже видно, что лучше разбить на 2 кластера"
   ]
  },
  {
   "cell_type": "code",
   "execution_count": null,
   "metadata": {},
   "outputs": [],
   "source": [
    "aglo = AgglomerativeClustering(n_clusters = 2)\n",
    "clusters = aglo.fit_predict(new_data)"
   ]
  },
  {
   "cell_type": "code",
   "execution_count": null,
   "metadata": {},
   "outputs": [],
   "source": [
    "plt.scatter(x_scaled[:, 0], x_scaled[:, 1], c = clusters)"
   ]
  }
 ],
 "metadata": {
  "language_info": {
   "name": "python"
  },
  "orig_nbformat": 4
 },
 "nbformat": 4,
 "nbformat_minor": 2
}

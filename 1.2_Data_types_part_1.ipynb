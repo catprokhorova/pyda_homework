{
 "cells": [
  {
   "cell_type": "markdown",
   "metadata": {},
   "source": [
    "# 2. «УК и коллекции» часть 1"
   ]
  },
  {
   "cell_type": "markdown",
   "metadata": {},
   "source": [
    "### Задание 1\n",
    "<p>\n",
    "Дана переменная, в которой хранится слово из латинских букв. Напишите код, который выводит на экран:\n",
    "</p>\n",
    "<ul>\n",
    "<li>среднюю букву, если число букв в слове нечетное;</li>\n",
    "<li>две средних буквы, если число букв четное.</li>\n",
    "</ul>"
   ]
  },
  {
   "cell_type": "code",
   "execution_count": null,
   "metadata": {},
   "outputs": [],
   "source": [
    "word = input('Введите слово: ')\n",
    "\n",
    "count = len(word) / 2\n",
    "\n",
    "if len(word) % 2 == 0:\n",
    "  print(word [int(count)-1:int(count)+1]) \n",
    "\n",
    "else:\n",
    "  print(word [int(count)])"
   ]
  },
  {
   "cell_type": "markdown",
   "metadata": {},
   "source": [
    "### Задание 2\n",
    "<p>\n",
    "Напишите программу, которая последовательно запрашивает у пользователя числа (по одному за раз) и после первого нуля выводит сумму всех ранее введенных чисел.\n",
    "</p>"
   ]
  },
  {
   "cell_type": "code",
   "execution_count": null,
   "metadata": {},
   "outputs": [],
   "source": [
    "number = int(input('Введите число: '))\n",
    "sum = 0 \n",
    "\n",
    "while number != 0:\n",
    "      sum += number\n",
    "      number = int(input('Введите число: '))\n",
    "\n",
    "print(sum)"
   ]
  },
  {
   "cell_type": "markdown",
   "metadata": {},
   "source": [
    "### Задание 3\n",
    "<p>\n",
    "Мы делаем MVP dating-сервиса, и у нас есть список парней и девушек.\n",
    "</p>\n",
    "<p>\n",
    "Выдвигаем гипотезу: лучшие рекомендации мы получим, если просто отсортируем имена по алфавиту и познакомим людей с одинаковыми индексами после сортировки! Но мы не будем никого знакомить, если кто-то может остаться без пары.\n",
    "</p>"
   ]
  },
  {
   "cell_type": "code",
   "execution_count": null,
   "metadata": {},
   "outputs": [],
   "source": [
    "girls = input('Внесите список девушек: ')\n",
    "boys = input('Внесите список парней: ')\n",
    "\n",
    "g_list = girls.split()\n",
    "b_list = boys.split()\n",
    "\n",
    "if len(g_list) != len(b_list):\n",
    "  print('Внимание, кто-то может остаться без пары!')\n",
    "\n",
    "else:\n",
    "  g = sorted(g_list)\n",
    "  b = sorted(b_list)\n",
    "\n",
    "  match = zip(g, b)\n",
    "\n",
    "  for girls, boys in match:\n",
    "    print(girls, 'и', boys)\n"
   ]
  },
  {
   "cell_type": "markdown",
   "metadata": {},
   "source": [
    "### Задание 4\n",
    "<p>\n",
    "У нас есть список, содержащий информацию о среднедневной температуре в Фаренгейтах за произвольный период по странам (структура данных в примере). Необходимо написать код, который рассчитает среднюю температуру за период в Цельсиях(!) для каждой страны.\n",
    "</p>"
   ]
  },
  {
   "cell_type": "code",
   "execution_count": 1,
   "metadata": {},
   "outputs": [
    {
     "name": "stdout",
     "output_type": "stream",
     "text": [
      "Thailand - 23.9 C\n",
      "Germany - 13.8 C\n",
      "Russia - 3.7 C\n",
      "Poland - 12.0 C\n"
     ]
    }
   ],
   "source": [
    "countries_temperature = [\n",
    "['Thailand', [75.2, 77, 78.8, 73.4, 68, 75.2, 77]],\n",
    "['Germany', [57.2, 55.4, 59, 59, 53.6]],\n",
    "['Russia', [35.6, 37.4, 39.2, 41, 42.8, 39.2, 35.6]],\n",
    "['Poland', [50, 50, 53.6, 57.2, 55.4, 55.4]]\n",
    "]\n",
    "\n",
    "#(F — 32) : 1,8 = C (+ отображ 1 знака после зпт)\n",
    "\n",
    "for i in countries_temperature:\n",
    "    print(i[0], '-', round((sum(i[1]) / len(i[1]) - 32) / 1.8, 1), 'C')"
   ]
  },
  {
   "cell_type": "markdown",
   "metadata": {},
   "source": [
    "### Задание 5 (необязательное)\n",
    "Дан поток логов по количеству просмотренных страниц для каждого пользователя. Вам необходимо написать алгоритм, который считает среднее значение просмотров на пользователя. Т. е. надо посчитать отношение суммы всех просмотров к количеству уникальных пользователей."
   ]
  },
  {
   "cell_type": "code",
   "execution_count": null,
   "metadata": {},
   "outputs": [],
   "source": [
    "stream = [\n",
    "    '2018-01-01,user1,3',\n",
    "    '2018-01-07,user1,4',\n",
    "    '2018-03-29,user1,1',\n",
    "    '2018-04-04,user1,13',\n",
    "    '2018-01-05,user2,7',\n",
    "    '2018-06-14,user3,4',\n",
    "    '2018-07-02,user3,10',\n",
    "   ' 2018-03-21,user4,19',\n",
    "    '2018-03-22,user4,4',\n",
    "    '2018-04-22,user4,8',\n",
    "    '2018-05-03,user4,9',\n",
    "    '2018-05-11,user4,11'\n",
    "]"
   ]
  },
  {
   "cell_type": "code",
   "execution_count": 1,
   "metadata": {},
   "outputs": [],
   "source": [
    "stream = [\n",
    "    '2018-01-01,user100,150',\n",
    "    '2018-01-07,user99,205',\n",
    "    '2018-03-29,user1001,81'\n",
    "]"
   ]
  },
  {
   "cell_type": "code",
   "execution_count": 8,
   "metadata": {},
   "outputs": [
    {
     "name": "stdout",
     "output_type": "stream",
     "text": [
      "Среднее количество просмотров на уникального пользователя: 145.33\n"
     ]
    }
   ],
   "source": [
    "#вариант 1\n",
    "log = []\n",
    "view = []\n",
    "for line in stream:\n",
    "    a = line.split(',')\n",
    "    log.append(a[1])\n",
    "    users = set(log)\n",
    "    view.append(int(a[-1]))\n",
    "\n",
    "print('Среднее количество просмотров на уникального пользователя:', round(sum(view) / len(users), 2))"
   ]
  },
  {
   "cell_type": "code",
   "execution_count": 9,
   "metadata": {},
   "outputs": [
    {
     "name": "stdout",
     "output_type": "stream",
     "text": [
      "Среднее количество просмотров на уникального пользователя: 145.33\n"
     ]
    }
   ],
   "source": [
    "#вариант 2\n",
    "log = {*[x.split(',')[1] for x in stream]}\n",
    "log_1 = [int(x.split(',')[2]) for x in stream]\n",
    "\n",
    "print('Среднее количество просмотров на уникального пользователя:', round(sum(log_1) / len(log), 2))"
   ]
  },
  {
   "cell_type": "markdown",
   "metadata": {},
   "source": [
    "### Задание 6 (необязательное)\n",
    "Необходимо у пользователя запрашивать набор чисел разделенных пробелом. В результате в отсортированном порядке должны выводиться числа, которые повторяются в вводе более одного раза."
   ]
  },
  {
   "cell_type": "code",
   "execution_count": 10,
   "metadata": {},
   "outputs": [
    {
     "name": "stdout",
     "output_type": "stream",
     "text": [
      "[1, 2, 15, 103, 200]\n"
     ]
    }
   ],
   "source": [
    "#вариант 1\n",
    "user_input = '10 15 15 103 200 200 200 1 1 1 1 1 2 2 2'.split()\n",
    "int_list = [int(x) for x in user_input]\n",
    "unique = set(int_list)\n",
    "\n",
    "for el in int_list:\n",
    "    if el in unique:\n",
    "        int_list.remove(el)\n",
    "\n",
    "print(sorted(list(set(int_list))))"
   ]
  },
  {
   "cell_type": "code",
   "execution_count": 12,
   "metadata": {},
   "outputs": [
    {
     "name": "stdout",
     "output_type": "stream",
     "text": [
      "[1, 2, 15, 200]\n"
     ]
    }
   ],
   "source": [
    "#вариант 2\n",
    "user_input = '10 15 15 103 200 200 200 1 1 1 1 1 2 2 2'.split()\n",
    "result = []\n",
    "for number in user_input:\n",
    "    if user_input.count(number) > 1 and int(number) not in result:\n",
    "        result.append(int(number))\n",
    "print(sorted(result))"
   ]
  },
  {
   "cell_type": "code",
   "execution_count": 11,
   "metadata": {},
   "outputs": [
    {
     "name": "stdout",
     "output_type": "stream",
     "text": [
      "1, 15, 2, 200\n"
     ]
    }
   ],
   "source": [
    "#вариант 3\n",
    "user_input = '10 15 15 103 200 200 200 1 1 1 1 1 2 2 2'.split()\n",
    "\n",
    "result_list = sorted(list({i for i in user_input if user_input.count(i) > 1}))\n",
    "print(', '.join(str(i) for i in result_list))"
   ]
  }
 ],
 "metadata": {
  "interpreter": {
   "hash": "83949ca3b6d1ca00ce209c2291ea49491cfd26a93e4e087f0889750473cf05db"
  },
  "kernelspec": {
   "display_name": "Python 3.10.4 ('pyda': venv)",
   "language": "python",
   "name": "python3"
  },
  "language_info": {
   "codemirror_mode": {
    "name": "ipython",
    "version": 3
   },
   "file_extension": ".py",
   "mimetype": "text/x-python",
   "name": "python",
   "nbconvert_exporter": "python",
   "pygments_lexer": "ipython3",
   "version": "3.10.4"
  },
  "orig_nbformat": 4
 },
 "nbformat": 4,
 "nbformat_minor": 2
}

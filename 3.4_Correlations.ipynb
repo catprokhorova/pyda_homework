{
 "cells": [
  {
   "cell_type": "markdown",
   "metadata": {},
   "source": [
    "# 4. Корреляция и корреляционный анализ"
   ]
  },
  {
   "cell_type": "code",
   "execution_count": null,
   "metadata": {},
   "outputs": [],
   "source": [
    "from sklearn.linear_model import LinearRegression\n",
    "from sklearn.model_selection import train_test_split\n",
    "import matplotlib.pyplot as plt\n",
    "import seaborn as sns\n",
    "import pandas as pd\n",
    "import numpy as np"
   ]
  },
  {
   "cell_type": "markdown",
   "metadata": {},
   "source": [
    "Возьмите датасет Mortality and Water Hardness**\n",
    "[www.kaggle.com...r-hardness](https://www.kaggle.com/ukveteran/mortality-and-water-hardness)\n",
    "\n",
    "В этом датасете содержатся данные по средней годовой смертности на\n",
    "100000 населения и концентрации кальция в питьевой воде для 61\n",
    "большого города в Англии и Уэльсе. Города дополнительно поделены на\n",
    "северные и южные."
   ]
  },
  {
   "cell_type": "markdown",
   "metadata": {},
   "source": [
    "## Задание 1.\n",
    "<b>Ответить на вопрос: есть ли связь между жёсткостью воды и средней годовой смертностью?</b>\n",
    "\n",
    "- Построить точечный график\n",
    "- Рассчитать коэффициенты корреляции Пирсона и Спирмена\n",
    "- Построить модель линейной регрессии\n",
    "- Рассчитать коэффициент детерминации\n",
    "- Вывести график остатков"
   ]
  },
  {
   "cell_type": "code",
   "execution_count": null,
   "metadata": {},
   "outputs": [],
   "source": [
    "df = pd.read_csv('water.csv')"
   ]
  },
  {
   "cell_type": "code",
   "execution_count": null,
   "metadata": {},
   "outputs": [],
   "source": [
    "df.info()"
   ]
  },
  {
   "cell_type": "code",
   "execution_count": null,
   "metadata": {},
   "outputs": [],
   "source": [
    "df = df.drop(['Unnamed: 0'], axis=1)\n",
    "df.head(5)"
   ]
  },
  {
   "cell_type": "code",
   "execution_count": null,
   "metadata": {},
   "outputs": [],
   "source": [
    "#проверяю данные на наличие выбросов\n",
    "df['mortality'].plot(kind='box',\n",
    "                    grid=True)"
   ]
  },
  {
   "cell_type": "code",
   "execution_count": null,
   "metadata": {},
   "outputs": [],
   "source": [
    "df['hardness'].plot(kind='box',\n",
    "                  grid=True)"
   ]
  },
  {
   "cell_type": "markdown",
   "metadata": {},
   "source": [
    "кул, выбросов нет. Можем работать дальше и считать вот это вот всё\n",
    "- Построить точечный график"
   ]
  },
  {
   "cell_type": "code",
   "execution_count": null,
   "metadata": {},
   "outputs": [],
   "source": [
    "df.plot(kind='scatter', \n",
    "        x='mortality', \n",
    "        y='hardness')"
   ]
  },
  {
   "cell_type": "markdown",
   "metadata": {},
   "source": [
    "ну, если так смотреть, то чем выше жесткость воды в районе, тем ниже там смертность\n",
    "\n",
    "(отрицательная корелляция умеренная визуально есть, причинно-следственная связь на время выполнения ДЗ вышла из чата)\n",
    "\n",
    "- Рассчитать коэффициенты корреляции Пирсона и Спирмена"
   ]
  },
  {
   "cell_type": "code",
   "execution_count": null,
   "metadata": {},
   "outputs": [],
   "source": [
    "#коэф. корреляции Пирсона:\n",
    "#ну вот да: умеренная отрицательная\n",
    "df[['mortality', 'hardness']].corr()"
   ]
  },
  {
   "cell_type": "code",
   "execution_count": null,
   "metadata": {},
   "outputs": [],
   "source": [
    "#коэф. корреляции Спирмана:\n",
    "df[['mortality', 'hardness']].corr(method='spearman')"
   ]
  },
  {
   "cell_type": "markdown",
   "metadata": {},
   "source": [
    "- Построить модель линейной регрессии"
   ]
  },
  {
   "cell_type": "code",
   "execution_count": null,
   "metadata": {},
   "outputs": [],
   "source": [
    "x = df[['hardness']]\n",
    "y = df['mortality']"
   ]
  },
  {
   "cell_type": "code",
   "execution_count": null,
   "metadata": {},
   "outputs": [],
   "source": [
    "x_train, x_test, y_train, y_test = train_test_split(x, y, test_size=0.30, random_state=42)"
   ]
  },
  {
   "cell_type": "code",
   "execution_count": null,
   "metadata": {},
   "outputs": [],
   "source": [
    "model = LinearRegression()\n",
    "model.fit(x_train, y_train)"
   ]
  },
  {
   "cell_type": "code",
   "execution_count": null,
   "metadata": {},
   "outputs": [],
   "source": [
    "print(model.coef_)\n",
    "print(model.intercept_)\n",
    "\n",
    "#y = -3.1x + 1669"
   ]
  },
  {
   "cell_type": "code",
   "execution_count": null,
   "metadata": {},
   "outputs": [],
   "source": [
    "y_pred = model.predict(x_test)"
   ]
  },
  {
   "cell_type": "code",
   "execution_count": null,
   "metadata": {},
   "outputs": [],
   "source": [
    "plt.scatter(x_test, y_test)\n",
    "plt.plot(x_test, y_pred, c='r')"
   ]
  },
  {
   "cell_type": "markdown",
   "metadata": {},
   "source": [
    "- Рассчитать коэффициент детерминации"
   ]
  },
  {
   "cell_type": "code",
   "execution_count": null,
   "metadata": {},
   "outputs": [],
   "source": [
    "model.score(x_test, y_test)"
   ]
  },
  {
   "cell_type": "markdown",
   "metadata": {},
   "source": [
    "- Вывести график остатков"
   ]
  },
  {
   "cell_type": "code",
   "execution_count": null,
   "metadata": {},
   "outputs": [],
   "source": [
    "err_x = y_test\n",
    "err_y = y_test - y_pred"
   ]
  },
  {
   "cell_type": "code",
   "execution_count": null,
   "metadata": {},
   "outputs": [],
   "source": [
    "plt.scatter(err_x, err_y)"
   ]
  },
  {
   "cell_type": "code",
   "execution_count": null,
   "metadata": {},
   "outputs": [],
   "source": [
    "#как по мне, остатки не совсем хаотичны. Возможно, было мало 61 строки для точной работы"
   ]
  },
  {
   "cell_type": "markdown",
   "metadata": {},
   "source": [
    "## Задание 2.\n",
    "<b>Ответить на вопрос: сохраняется ли аналогичная зависимость для северных и южных городов по отдельности?</b>\n",
    "\n",
    "- Разделить данные на 2 группы\n",
    "- Повторить аналогичные шаги из пункта 1 для каждой группы по отдельности"
   ]
  },
  {
   "cell_type": "code",
   "execution_count": null,
   "metadata": {},
   "outputs": [],
   "source": [
    "north = df.copy()\n",
    "south = df.copy()"
   ]
  },
  {
   "cell_type": "code",
   "execution_count": null,
   "metadata": {},
   "outputs": [],
   "source": [
    "north = north[(north['location'] == 'North')]\n",
    "south = south[(south['location'] == 'South')]\n",
    "#разделить - DONE, погнали властвовать"
   ]
  },
  {
   "cell_type": "markdown",
   "metadata": {},
   "source": [
    "- Построить точечный график"
   ]
  },
  {
   "cell_type": "code",
   "execution_count": null,
   "metadata": {},
   "outputs": [],
   "source": [
    "north.plot(kind='scatter', \n",
    "          x='mortality', \n",
    "          y='hardness')"
   ]
  },
  {
   "cell_type": "code",
   "execution_count": null,
   "metadata": {},
   "outputs": [],
   "source": [
    "south.plot(kind='scatter', \n",
    "          x='mortality', \n",
    "          y='hardness')"
   ]
  },
  {
   "cell_type": "code",
   "execution_count": null,
   "metadata": {},
   "outputs": [],
   "source": [
    "print('Коэффициент корреляции Пирсона:')\n",
    "print(north[['mortality', 'hardness']].corr())\n",
    "print(south[['mortality', 'hardness']].corr(method='spearman'))\n",
    "print('........................')\n",
    "print('Коэффициент корреляции Спирмена:')\n",
    "print(north[['mortality', 'hardness']].corr(method='spearman'))\n",
    "print(south[['mortality', 'hardness']].corr(method='spearman'))\n",
    "#юг коррелирует умеренно, север - слабо"
   ]
  },
  {
   "cell_type": "markdown",
   "metadata": {},
   "source": [
    "- Построить модель линейной регрессии"
   ]
  },
  {
   "cell_type": "code",
   "execution_count": null,
   "metadata": {},
   "outputs": [],
   "source": [
    "#начнем с севера:\n",
    "x_north = north[['hardness']]\n",
    "y_north = north['mortality']\n",
    "\n",
    "x_north_train, x_north_test, y_north_train, y_north_test = train_test_split(x_north, y_north, test_size=0.10, random_state=42)\n",
    "\n",
    "model_north = LinearRegression()\n",
    "model_north.fit(x_north_train, y_north_train)\n",
    "\n",
    "y_north_pred = model_north.predict(x_north_test)\n",
    "\n",
    "plt.scatter(x_north_test, y_north_test)\n",
    "plt.plot(x_north_test, y_north_pred, c='r')"
   ]
  },
  {
   "cell_type": "code",
   "execution_count": null,
   "metadata": {},
   "outputs": [],
   "source": [
    "#ни о чём\n",
    "#погнали юг:\n",
    "\n",
    "x_south = south[['hardness']]\n",
    "y_south = south['mortality']\n",
    "\n",
    "x_south_train, x_south_test, y_south_train, y_south_test = train_test_split(x_south, y_south, test_size=0.10, random_state=42)\n",
    "\n",
    "model_south = LinearRegression()\n",
    "model_south.fit(x_south_train, y_south_train)\n",
    "\n",
    "y_south_pred = model_south.predict(x_south_test)\n",
    "\n",
    "plt.scatter(x_south_test, y_south_test)\n",
    "plt.plot(x_south_test, y_south_pred, c='r')"
   ]
  },
  {
   "cell_type": "markdown",
   "metadata": {},
   "source": [
    "- Рассчитать коэффициент детерминации"
   ]
  },
  {
   "cell_type": "code",
   "execution_count": null,
   "metadata": {},
   "outputs": [],
   "source": [
    "print('Коэффициент детерминации North:')\n",
    "print(model.score(x_north_test, y_north_test))\n",
    "\n",
    "print('........................')\n",
    "\n",
    "print('Коэффициент детерминации South:')\n",
    "print(model.score(x_south_test, y_south_test))\n",
    "#короче, с севером уже всё понятно)))"
   ]
  },
  {
   "cell_type": "markdown",
   "metadata": {},
   "source": [
    "- Вывести график остатков"
   ]
  },
  {
   "cell_type": "code",
   "execution_count": null,
   "metadata": {},
   "outputs": [],
   "source": [
    "err_x_north = y_north_test\n",
    "err_y_north = y_north_test - y_north_pred\n",
    "\n",
    "print('График остатков North:')\n",
    "plt.scatter(err_x_north, err_y_north)\n",
    "#наблюдаем абсолютную отрицательную хаотичность. Все как я люблю"
   ]
  },
  {
   "cell_type": "code",
   "execution_count": null,
   "metadata": {},
   "outputs": [],
   "source": [
    "err_x_south = y_south_test\n",
    "err_y_south = y_south_test - y_south_pred\n",
    "\n",
    "print('График остатков South:')\n",
    "plt.scatter(err_x_south, err_y_south)\n",
    "#наблюдаем хаос и довольные идём делать следующее ДЗ ^_^"
   ]
  }
 ],
 "metadata": {
  "interpreter": {
   "hash": "83949ca3b6d1ca00ce209c2291ea49491cfd26a93e4e087f0889750473cf05db"
  },
  "kernelspec": {
   "display_name": "Python 3.10.4 ('pyda': venv)",
   "language": "python",
   "name": "python3"
  },
  "language_info": {
   "codemirror_mode": {
    "name": "ipython",
    "version": 3
   },
   "file_extension": ".py",
   "mimetype": "text/x-python",
   "name": "python",
   "nbconvert_exporter": "python",
   "pygments_lexer": "ipython3",
   "version": "3.10.4"
  },
  "orig_nbformat": 4
 },
 "nbformat": 4,
 "nbformat_minor": 2
}

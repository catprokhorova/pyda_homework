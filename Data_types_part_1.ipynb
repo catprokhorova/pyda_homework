{
 "cells": [
  {
   "cell_type": "markdown",
   "metadata": {},
   "source": [
    "# 2. «УК и коллекции» часть 1"
   ]
  },
  {
   "cell_type": "markdown",
   "metadata": {},
   "source": [
    "### Задание 1\n",
    "<p>\n",
    "Дана переменная, в которой хранится слово из латинских букв. Напишите код, который выводит на экран:\n",
    "</p>\n",
    "<ul>\n",
    "<li>среднюю букву, если число букв в слове нечетное;</li>\n",
    "<li>две средних буквы, если число букв четное.</li>\n",
    "</ul>"
   ]
  },
  {
   "cell_type": "code",
   "execution_count": null,
   "metadata": {},
   "outputs": [],
   "source": [
    "word = input('Введите слово: ')\n",
    "\n",
    "count = len(word) / 2\n",
    "\n",
    "if len(word) % 2 == 0:\n",
    "  print(word [int(count)-1:int(count)+1]) \n",
    "\n",
    "else:\n",
    "  print(word [int(count)])"
   ]
  },
  {
   "cell_type": "markdown",
   "metadata": {},
   "source": [
    "### Задание 2\n",
    "<p>\n",
    "Напишите программу, которая последовательно запрашивает у пользователя числа (по одному за раз) и после первого нуля выводит сумму всех ранее введенных чисел.\n",
    "</p>"
   ]
  },
  {
   "cell_type": "code",
   "execution_count": null,
   "metadata": {},
   "outputs": [],
   "source": [
    "number = int(input('Введите число: '))\n",
    "sum = 0 \n",
    "\n",
    "while number != 0:\n",
    "      sum += number\n",
    "      number = int(input('Введите число: '))\n",
    "\n",
    "print(sum)"
   ]
  },
  {
   "cell_type": "markdown",
   "metadata": {},
   "source": [
    "### Задание 3\n",
    "<p>\n",
    "Мы делаем MVP dating-сервиса, и у нас есть список парней и девушек.\n",
    "</p>\n",
    "<p>\n",
    "Выдвигаем гипотезу: лучшие рекомендации мы получим, если просто отсортируем имена по алфавиту и познакомим людей с одинаковыми индексами после сортировки! Но мы не будем никого знакомить, если кто-то может остаться без пары.\n",
    "</p>"
   ]
  },
  {
   "cell_type": "code",
   "execution_count": null,
   "metadata": {},
   "outputs": [],
   "source": [
    "girls = input('Внесите список девушек: ')\n",
    "boys = input('Внесите список парней: ')\n",
    "\n",
    "g_list = girls.split()\n",
    "b_list = boys.split()\n",
    "\n",
    "if len(g_list) != len(b_list):\n",
    "  print('Внимание, кто-то может остаться без пары!')\n",
    "\n",
    "else:\n",
    "  g = sorted(g_list)\n",
    "  b = sorted(b_list)\n",
    "\n",
    "  match = zip(g, b)\n",
    "\n",
    "  for girls, boys in match:\n",
    "    print(girls, 'и', boys)\n"
   ]
  },
  {
   "cell_type": "markdown",
   "metadata": {},
   "source": [
    "### Задание 4\n",
    "<p>\n",
    "У нас есть список, содержащий информацию о среднедневной температуре в Фаренгейтах за произвольный период по странам (структура данных в примере). Необходимо написать код, который рассчитает среднюю температуру за период в Цельсиях(!) для каждой страны.\n",
    "</p>"
   ]
  },
  {
   "cell_type": "code",
   "execution_count": 1,
   "metadata": {},
   "outputs": [
    {
     "name": "stdout",
     "output_type": "stream",
     "text": [
      "Thailand - 23.9 C\n",
      "Germany - 13.8 C\n",
      "Russia - 3.7 C\n",
      "Poland - 12.0 C\n",
      "[75.2, 77, 78.8, 73.4, 68, 75.2, 77]\n",
      "[57.2, 55.4, 59, 59, 53.6]\n",
      "[35.6, 37.4, 39.2, 41, 42.8, 39.2, 35.6]\n",
      "[50, 50, 53.6, 57.2, 55.4, 55.4]\n"
     ]
    }
   ],
   "source": [
    "countries_temperature = [\n",
    "['Thailand', [75.2, 77, 78.8, 73.4, 68, 75.2, 77]],\n",
    "['Germany', [57.2, 55.4, 59, 59, 53.6]],\n",
    "['Russia', [35.6, 37.4, 39.2, 41, 42.8, 39.2, 35.6]],\n",
    "['Poland', [50, 50, 53.6, 57.2, 55.4, 55.4]]\n",
    "]\n",
    "\n",
    "#(F — 32) : 1,8 = C (+ отображ 1 знака после зпт)\n",
    "\n",
    "for i in countries_temperature:\n",
    "    print(i[0], '-', round((sum(i[1]) / len(i[1]) - 32) / 1.8, 1), 'C')\n",
    "\n",
    "\n",
    "for country in countries_temperature:\n",
    "  print(country[1])"
   ]
  }
 ],
 "metadata": {
  "interpreter": {
   "hash": "83949ca3b6d1ca00ce209c2291ea49491cfd26a93e4e087f0889750473cf05db"
  },
  "kernelspec": {
   "display_name": "Python 3.10.4 ('pyda': venv)",
   "language": "python",
   "name": "python3"
  },
  "language_info": {
   "codemirror_mode": {
    "name": "ipython",
    "version": 3
   },
   "file_extension": ".py",
   "mimetype": "text/x-python",
   "name": "python",
   "nbconvert_exporter": "python",
   "pygments_lexer": "ipython3",
   "version": "3.10.4"
  },
  "orig_nbformat": 4
 },
 "nbformat": 4,
 "nbformat_minor": 2
}

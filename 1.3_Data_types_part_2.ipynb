{
 "cells": [
  {
   "cell_type": "markdown",
   "metadata": {},
   "source": [
    "# 2. «УК и коллекции» Часть 2"
   ]
  },
  {
   "cell_type": "markdown",
   "metadata": {
    "id": "-UfOSPxloYuN"
   },
   "source": [
    "### Задание 1\n",
    "<p>\n",
    "Дана переменная, в которой хранится словарь, содержащий гео-метки для каждого пользователя (пример структуры данных приведен ниже). Вам необходимо написать программу, которая выведет на экран множество уникальных гео-меток всех пользователей.\n",
    "</p>\n",
    "<p>\n",
    "Пример работы программы:\n",
    "<p>\n",
    "<p>\n",
    "ids = {‘user1’: [213, 213, 213, 15, 213],\n",
    "</p>\n",
    "<p>\n",
    "‘user2’: [54, 54, 119, 119, 119],\n",
    "</p>\n",
    "<p>\n",
    "‘user3’: [213, 98, 98, 35]}\n",
    "</p>\n",
    "<p>\n",
    "Результат: {98, 35, 15, 213, 54, 119}\n",
    "</p>"
   ]
  },
  {
   "cell_type": "code",
   "execution_count": null,
   "metadata": {
    "colab": {
     "base_uri": "https://localhost:8080/"
    },
    "executionInfo": {
     "elapsed": 274,
     "status": "ok",
     "timestamp": 1633501282559,
     "user": {
      "displayName": "Catherine Prokhorova",
      "photoUrl": "https://lh3.googleusercontent.com/a-/AOh14GgxFxiOgO83lwMFFYgi1s9Hvmo_Vjel-0rKESU2Kg=s64",
      "userId": "08806314516468664751"
     },
     "user_tz": -180
    },
    "id": "LfMtNu8wosP4",
    "outputId": "e726dc2a-0f81-40c8-c2b2-c0e0bad5932f"
   },
   "outputs": [
    {
     "name": "stdout",
     "output_type": "stream",
     "text": [
      "{98, 35, 15, 213, 54, 119}\n"
     ]
    }
   ],
   "source": [
    "ids = {\n",
    "    'user1': [213, 213, 213, 15, 213],\n",
    "    'user2': [54, 54, 119, 119, 119],\n",
    "    'user3': [213, 98, 98, 35]\n",
    "}\n",
    "\n",
    "geo_raw = list(ids.values()) #make a var with list of all dict values\n",
    "\n",
    "geo = sum(geo_raw, []) #list flattened\n",
    "\n",
    "res = set(geo) #make a set to keep unique el\n",
    "\n",
    "print(res)"
   ]
  },
  {
   "cell_type": "markdown",
   "metadata": {},
   "source": [
    "### Задание 2\n",
    "<p>\n",
    "Дана переменная, в которой хранится список поисковых запросов пользователя (пример структуры данных приведен ниже). Вам необходимо написать программу, которая выведет на экран распределение количества слов в запросах в требуемом виде.\n",
    "</p>"
   ]
  },
  {
   "cell_type": "code",
   "execution_count": null,
   "metadata": {},
   "outputs": [],
   "source": [
    "queries = [\n",
    "  'смотреть сериалы онлайн',\n",
    "  'новости спорта',\n",
    "  'афиша кино',\n",
    "  'курс доллара',\n",
    "  'сериалы этим летом',\n",
    "  'курс по питону',\n",
    "  'сериалы про спорт',\n",
    "]\n",
    "\n",
    "storage = {} #create empty dict\n",
    "\n",
    "for query in queries:\n",
    "    words = query.split() #split every query by \" \"\n",
    "\n",
    "    if len(words) in storage.keys():\n",
    "        storage[len(words)] += 1\n",
    "    else:\n",
    "        storage.update({len(words): 1}) #fill the storage\n",
    "\n",
    "for key, value in storage.items():\n",
    "    result = round((value / len(queries)) * 100, 2)\n",
    "    print(f'Поисковых запросов из {key} слова: {result} % ')"
   ]
  },
  {
   "cell_type": "markdown",
   "metadata": {},
   "source": [
    "### Задание 3\n",
    "<p>\n",
    "Дана переменная, в которой хранится информация о затратах и доходе рекламных кампаний по различным источникам.\n",
    "</p>\n",
    "<p>\n",
    "Необходимо дополнить исходную структуру показателем ROI, который рассчитаем по формуле: <b>(revenue / cost - 1) * 100</b>\n",
    " </p>"
   ]
  },
  {
   "cell_type": "code",
   "execution_count": null,
   "metadata": {},
   "outputs": [],
   "source": [
    "data = {\n",
    "  'vk' : {'revenue': 103, 'cost': 98},\n",
    "  'yandex' : {'revenue': 179, 'cost': 153},\n",
    "  'facebook' : {'revenue': 103, 'cost': 110},\n",
    "  'adwords' : {'revenue': 35, 'cost': 34},\n",
    "  'twitter' : {'revenue': 11, 'cost': 24},\n",
    "}\n",
    "for key, value in data.items():\n",
    "  value['ROI'] = round(((value['revenue'] / value['cost']) - 1) * 100, 2)\n",
    "\n",
    "print(data)\n"
   ]
  },
  {
   "cell_type": "markdown",
   "metadata": {},
   "source": [
    "### Задание 4\n",
    "<p>\n",
    "Дана переменная, в которой хранится статистика рекламных каналов по объемам продаж (пример структуры данных приведен ниже). Напишите программу, которая возвращает название канала с максимальным объемом продаж.\n",
    "</p>"
   ]
  },
  {
   "cell_type": "code",
   "execution_count": null,
   "metadata": {},
   "outputs": [],
   "source": [
    "stats = {\n",
    "    'facebook': 55, \n",
    "    'yandex': 115, \n",
    "    'vk': 120, \n",
    "    'google': 99, \n",
    "    'email': 42, \n",
    "    'ok': 98\n",
    "    }\n",
    "\n",
    "stats.get()\n",
    "\n",
    "for key, value in stats.items():\n",
    "  if value == max(stats.values()):\n",
    "    print('Максимальный объем продаж на рекламном канале: ', key)"
   ]
  },
  {
   "cell_type": "markdown",
   "metadata": {},
   "source": [
    "### Задание 5 (необязательно)\n",
    "<p>\n",
    "Дан список произвольной длины. Необходимо написать код, который на основе исходного списка составит словарь такого уровня вложенности, какова длина исхондого списка.\n",
    "</p>"
   ]
  },
  {
   "cell_type": "code",
   "execution_count": null,
   "metadata": {},
   "outputs": [],
   "source": [
    "#my_list = ['2018-01-01', 'yandex', 'cpc', 100]\n",
    "#or\n",
    "my_list = ['a', 'b', 'c', 'd', 'e', 'f']\n",
    "\n",
    "last_index = my_list[-1]\n",
    "\n",
    "for el in reversed(my_list[:-1]):\n",
    "  last_index = {el:last_index}\n",
    "\n",
    "print(last_index)"
   ]
  },
  {
   "cell_type": "markdown",
   "metadata": {},
   "source": [
    "### Задание 6 (необязательно)\n",
    "<p>\n",
    "Дана книга рецептов с информацией о том, сколько ингредиентов нужно для приготовления блюда в расчете на одну порцию (пример данных представлен ниже).\n",
    "Напишите программу, которая будет запрашивать у пользователя количество порций для приготовления этих блюд и отображать информацию о суммарном количестве требуемых ингредиентов в указанном виде.\n",
    "</p>\n",
    "<p>\n",
    "<b>Внимание!</b> Одинаковые ингридиенты с разными размерностями нужно считать раздельно!\n",
    "</p>"
   ]
  },
  {
   "cell_type": "code",
   "execution_count": 1,
   "metadata": {},
   "outputs": [],
   "source": [
    "cook_book = {\n",
    "'салат': [\n",
    "{'ingridient_name': 'сыр', 'quantity': 50, 'measure': 'гр'},\n",
    "{'ingridient_name': 'томаты', 'quantity': 2, 'measure': 'шт'},\n",
    "{'ingridient_name': 'огурцы', 'quantity': 20, 'measure': 'гр'},\n",
    "{'ingridient_name': 'маслины', 'quantity': 10, 'measure': 'гр'},\n",
    "{'ingridient_name': 'оливковое масло', 'quantity': 20, 'measure': 'мл'},\n",
    "{'ingridient_name': 'салат', 'quantity': 10, 'measure': 'гр'},\n",
    "{'ingridient_name': 'перец', 'quantity': 20, 'measure': 'гр'}\n",
    "],\n",
    "'пицца': [\n",
    "{'ingridient_name': 'сыр', 'quantity': 20, 'measure': 'гр'},\n",
    "{'ingridient_name': 'колбаса', 'quantity': 30, 'measure': 'гр'},\n",
    "{'ingridient_name': 'бекон', 'quantity': 30, 'measure': 'гр'},\n",
    "{'ingridient_name': 'оливки', 'quantity': 10, 'measure': 'гр'},\n",
    "{'ingridient_name': 'томаты', 'quantity': 20, 'measure': 'гр'},\n",
    "{'ingridient_name': 'тесто', 'quantity': 100, 'measure': 'гр'},\n",
    "],\n",
    "'лимонад': [\n",
    "{'ingridient_name': 'лимон', 'quantity': 1, 'measure': 'шт'},\n",
    "{'ingridient_name': 'вода', 'quantity': 200, 'measure': 'мл'},\n",
    "{'ingridient_name': 'сахар', 'quantity': 10, 'measure': 'гр'},\n",
    "{'ingridient_name': 'лайм', 'quantity': 20, 'measure': 'гр'},\n",
    "]\n",
    "}"
   ]
  },
  {
   "cell_type": "code",
   "execution_count": null,
   "metadata": {},
   "outputs": [],
   "source": [
    "person = 5\n",
    "result = {}\n",
    "for ingr_list in cook_book.values():\n",
    "    for ingr in ingr_list:\n",
    "        key = (ingr['ingridient_name'], ingr['measure'])\n",
    "        result.setdefault(key, 0)\n",
    "        result[key] += ingr['quantity']\n",
    "for ingridient, quantity in result.items():\n",
    "    print(f'{ingridient[0].title()}: {quantity * person} {ingridient[1]}')"
   ]
  }
 ],
 "metadata": {
  "interpreter": {
   "hash": "83949ca3b6d1ca00ce209c2291ea49491cfd26a93e4e087f0889750473cf05db"
  },
  "kernelspec": {
   "display_name": "Python 3.10.4 ('pyda': venv)",
   "language": "python",
   "name": "python3"
  },
  "language_info": {
   "codemirror_mode": {
    "name": "ipython",
    "version": 3
   },
   "file_extension": ".py",
   "mimetype": "text/x-python",
   "name": "python",
   "nbconvert_exporter": "python",
   "pygments_lexer": "ipython3",
   "version": "3.10.4"
  },
  "orig_nbformat": 4
 },
 "nbformat": 4,
 "nbformat_minor": 2
}

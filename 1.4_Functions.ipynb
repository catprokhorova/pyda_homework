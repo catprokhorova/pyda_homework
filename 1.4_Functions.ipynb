{
 "cells": [
  {
   "cell_type": "markdown",
   "metadata": {},
   "source": [
    "# 3. «Функции»"
   ]
  },
  {
   "cell_type": "markdown",
   "metadata": {},
   "source": [
    "<p>Нужно написать программу, которая будет на основе хранимых данных исполнять пользовательские команды.</p>\n",
    "\n",
    "<p><i>Общие требования к программе:\n",
    "<ul>\n",
    "<li>код должен быть грамотно декомпозирован (каждая функция отвечает за свою конкретную задачу, дублирующийся функционал переиспользуется, а его код не повторяется);</li>\n",
    "<li>в коде отсутствуют глобальные переменные (за исключением documents и directories);</li>\n",
    "<li>пользовательский ввод обрабатывается в цикле while до тех пор, пока пользователь явно не завершит программу (вводом команды “q”).</li>\n",
    "</ul>\n",
    "</i>"
   ]
  },
  {
   "cell_type": "markdown",
   "metadata": {},
   "source": [
    "<p>Пункт 1. Пользователь по команде “p” может узнать владельца документа по его номеру.</p>\n",
    "<p>Пункт 2. Пользователь по команде “s” может по номеру документа узнать на какой полке он хранится.</p>\n",
    "<p>Пункт 3. Пользователь по команде “l” может увидеть полную информацию по всем документам.</p>\n",
    "<p>Пункт 4. Пользователь по команде “ads” может добавить новую полку.</p>\n",
    "<p>Пункт 5. Пользователь по команде “ds” может удалить существующую полку из данных (только если она пустая).</p>"
   ]
  },
  {
   "cell_type": "code",
   "execution_count": null,
   "metadata": {},
   "outputs": [],
   "source": [
    "documents = [\n",
    "{'type': 'passport', 'number': '2207 876234', 'name': 'Василий Гупкин'},\n",
    "{'type': 'invoice', 'number': '11-2', 'name': 'Геннадий Покемонов'},\n",
    "{'type': 'insurance', 'number': '10006', 'name': 'Аристарх Павлов'}\n",
    "]\n",
    "\n",
    "directories = {\n",
    "'1': ['2207 876234', '11-2'],\n",
    "'2': ['10006'],\n",
    "'3': []\n",
    "}"
   ]
  },
  {
   "cell_type": "code",
   "execution_count": null,
   "metadata": {},
   "outputs": [],
   "source": [
    "def find_owner(): #command \"p\"\n",
    "    number = input('Введите номер документа: ')\n",
    "    for i in documents:\n",
    "        if i['number'] == number:\n",
    "            return 'Владелец документа: ' + i['name']\n",
    "    return 'Документ не найден в базе'"
   ]
  },
  {
   "cell_type": "code",
   "execution_count": null,
   "metadata": {},
   "outputs": [],
   "source": [
    "def shelf(number): #command \"s\"\n",
    "    if number == '':\n",
    "        number = input('Введите номер документа: ')\n",
    "        for i in directories:\n",
    "            if number in directories[i]:\n",
    "                return f'Документ хранится на полке: {i}'\n",
    "    return 'Документ не найден в базе'"
   ]
  },
  {
   "cell_type": "code",
   "execution_count": null,
   "metadata": {},
   "outputs": [],
   "source": [
    "def info(): #command \"l\"\n",
    "  all = ''\n",
    "  for doc in documents:\n",
    "    all += f'№: {doc[\"number\"]}, тип: {doc[\"type\"]}, владелец: {doc[\"name\"]}, полка хранения: {shelf(doc[\"number\"])}' + '\\n'\n",
    "  return all"
   ]
  },
  {
   "cell_type": "code",
   "execution_count": null,
   "metadata": {},
   "outputs": [],
   "source": [
    "def add_shelf(number): #command \"ads\"\n",
    "  if number not in directories:\n",
    "    directories[number] = []\n",
    "    return 'Полка добавлена. Текущий перечень полок:' + ','.join(directories.keys())\n",
    "  return 'Такая полка уже существует. Текущий перечень полок: ' + ','.join(directories.keys())"
   ]
  },
  {
   "cell_type": "code",
   "execution_count": null,
   "metadata": {},
   "outputs": [],
   "source": [
    "def del_shelf(): #command \"ds\"\n",
    "  number = input('Введите номер полки: ')\n",
    "  if number in directories:\n",
    "    if len(directories[number]) > 0:\n",
    "      return 'На полке есть документы, удалите их перед удалением полки. Текущий перечень полок: ' + ', '.join(directories.keys())\n",
    "    else:\n",
    "      del directories[number]\n",
    "      return 'Полка удалена. Текущий перечень полок: ' + ', '.join(directories.keys())\n",
    "  else:\n",
    "    return 'Такой полки не существует. Текущий перечень полок:' + ', '.join(directories.keys())"
   ]
  },
  {
   "cell_type": "code",
   "execution_count": null,
   "metadata": {},
   "outputs": [],
   "source": [
    "def main():\n",
    "  user_input = input('Введите команду: ')\n",
    "  \n",
    "  while user_input != 'q':\n",
    "    if user_input == 'p':\n",
    "      print(find_owner())\n",
    "    elif user_input == 's':\n",
    "      print(shelf(\"\"))\n",
    "    elif user_input == 'l':\n",
    "      print(info())\n",
    "    elif user_input == 'ads':\n",
    "      print(add_shelf())\n",
    "    elif user_input == 'ds':\n",
    "      print(del_shelf())\n",
    "    else:\n",
    "      print('Неверная команда')"
   ]
  },
  {
   "cell_type": "code",
   "execution_count": null,
   "metadata": {},
   "outputs": [],
   "source": [
    "main()"
   ]
  }
 ],
 "metadata": {
  "language_info": {
   "name": "python"
  },
  "orig_nbformat": 4
 },
 "nbformat": 4,
 "nbformat_minor": 2
}

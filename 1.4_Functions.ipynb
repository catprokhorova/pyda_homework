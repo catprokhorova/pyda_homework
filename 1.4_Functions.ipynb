{
 "cells": [
  {
   "cell_type": "markdown",
   "metadata": {},
   "source": [
    "# 3. «Функции»"
   ]
  },
  {
   "cell_type": "markdown",
   "metadata": {},
   "source": [
    "<p>Нужно написать программу, которая будет на основе хранимых данных исполнять пользовательские команды.</p>\n",
    "\n",
    "<p><i>Общие требования к программе:\n",
    "<ul>\n",
    "<li>код должен быть грамотно декомпозирован (каждая функция отвечает за свою конкретную задачу, дублирующийся функционал переиспользуется, а его код не повторяется);</li>\n",
    "<li>в коде отсутствуют глобальные переменные (за исключением documents и directories);</li>\n",
    "<li>пользовательский ввод обрабатывается в цикле while до тех пор, пока пользователь явно не завершит программу (вводом команды “q”).</li>\n",
    "</ul>\n",
    "</i>"
   ]
  },
  {
   "cell_type": "markdown",
   "metadata": {},
   "source": [
    "<p>Пункт 1. Пользователь по команде “p” может узнать владельца документа по его номеру.</p>\n",
    "<p>Пункт 2. Пользователь по команде “s” может по номеру документа узнать на какой полке он хранится.</p>\n",
    "<p>Пункт 3. Пользователь по команде “l” может увидеть полную информацию по всем документам.</p>\n",
    "<p>Пункт 4. Пользователь по команде “ads” может добавить новую полку.</p>\n",
    "<p>Пункт 5. Пользователь по команде “ds” может удалить существующую полку из данных (только если она пустая).</p>"
   ]
  },
  {
   "cell_type": "code",
   "execution_count": 1,
   "metadata": {},
   "outputs": [],
   "source": [
    "documents = [\n",
    "{'type': 'passport', 'number': '2207 876234', 'name': 'Василий Гупкин'},\n",
    "{'type': 'invoice', 'number': '11-2', 'name': 'Геннадий Покемонов'},\n",
    "{'type': 'insurance', 'number': '10006', 'name': 'Аристарх Павлов'}\n",
    "]\n",
    "\n",
    "directories = {\n",
    "'1': ['2207 876234', '11-2'],\n",
    "'2': ['10006'],\n",
    "'3': []\n",
    "}"
   ]
  },
  {
   "cell_type": "code",
   "execution_count": null,
   "metadata": {},
   "outputs": [],
   "source": [
    "def find_owner(number): #command \"p\"\n",
    "    for i in documents:\n",
    "        if i['number'] == number:\n",
    "            return 'Владелец документа: ' + i['name']\n",
    "    return 'Документ не найден в базе'"
   ]
  },
  {
   "cell_type": "code",
   "execution_count": 2,
   "metadata": {},
   "outputs": [],
   "source": [
    "def shelf(number): #command \"s\"\n",
    "    for key, value in directories.items():\n",
    "        if number in value:\n",
    "            return f'Документ хранится на полке: {key}'\n",
    "    return 'Документ не найден в базе'"
   ]
  },
  {
   "cell_type": "code",
   "execution_count": null,
   "metadata": {},
   "outputs": [],
   "source": [
    "def info(): #command \"l\"\n",
    "  all = ''\n",
    "  for doc in documents:\n",
    "    all += f'№: {doc[\"number\"]}, тип: {doc[\"type\"]}, владелец: {doc[\"name\"]}, полка хранения: {shelf(doc[\"number\"])}' + '\\n'\n",
    "  return all"
   ]
  },
  {
   "cell_type": "code",
   "execution_count": 7,
   "metadata": {},
   "outputs": [],
   "source": [
    "def info(): #command \"l\"\n",
    "  for doc in documents:\n",
    "    print(f'№: {doc[\"number\"]}, тип: {doc[\"type\"]}, владелец: {doc[\"name\"]}, полка хранения: {shelf(doc[\"number\"])}')"
   ]
  },
  {
   "cell_type": "code",
   "execution_count": 8,
   "metadata": {},
   "outputs": [
    {
     "name": "stdout",
     "output_type": "stream",
     "text": [
      "№: 2207 876234, тип: passport, владелец: Василий Гупкин, полка хранения: Документ хранится на полке: 1\n",
      "№: 11-2, тип: invoice, владелец: Геннадий Покемонов, полка хранения: Документ хранится на полке: 1\n",
      "№: 10006, тип: insurance, владелец: Аристарх Павлов, полка хранения: Документ хранится на полке: 2\n"
     ]
    }
   ],
   "source": [
    "info()"
   ]
  },
  {
   "cell_type": "code",
   "execution_count": null,
   "metadata": {},
   "outputs": [],
   "source": [
    "def add_shelf(number): #command \"ads\"\n",
    "  if number not in directories:\n",
    "    directories[number] = []\n",
    "    return 'Полка добавлена. Текущий перечень полок:' + ','.join(directories.keys())\n",
    "  return 'Такая полка уже существует. Текущий перечень полок: ' + ','.join(directories.keys())"
   ]
  },
  {
   "cell_type": "code",
   "execution_count": null,
   "metadata": {},
   "outputs": [],
   "source": [
    "def del_shelf(number): #command \"ds\"\n",
    "  if number in directories:\n",
    "    if len(directories[number]) > 0:\n",
    "      return 'На полке есть документы, удалите их перед удалением полки. Текущий перечень полок: ' + ', '.join(directories.keys())\n",
    "    else:\n",
    "      del directories[number]\n",
    "      return 'Полка удалена. Текущий перечень полок: ' + ', '.join(directories.keys())\n",
    "  else:\n",
    "    return 'Такой полки не существует. Текущий перечень полок:' + ', '.join(directories.keys())"
   ]
  },
  {
   "cell_type": "code",
   "execution_count": null,
   "metadata": {},
   "outputs": [],
   "source": [
    "def main():\n",
    "  while True:\n",
    "    user_input = input('Введите команду: ')\n",
    "    if user_input == 'p':\n",
    "      num_1 = input('Введите номер документа: ')\n",
    "      print(find_owner(num_1))\n",
    "    elif user_input == 's':\n",
    "      num_2 = input('Введите номер документа: ')\n",
    "      print(shelf(num_2))\n",
    "    elif user_input == 'l':\n",
    "      print(info())\n",
    "    elif user_input == 'ads':\n",
    "      num_3 = input('Введите номер полки: ')\n",
    "      print(add_shelf(num_3))\n",
    "    elif user_input == 'ds':\n",
    "      num_4 = input('Введите номер полки: ')\n",
    "      print(del_shelf(num_4))\n",
    "    elif user_input == 'q': \n",
    "      break\n",
    "    else:\n",
    "      print('Неверная команда')"
   ]
  },
  {
   "cell_type": "code",
   "execution_count": null,
   "metadata": {},
   "outputs": [],
   "source": [
    "main()"
   ]
  }
 ],
 "metadata": {
  "interpreter": {
   "hash": "69a8be0c0f83135f164c3d044bb97c429030d9f47563103bd0a6211d1d209a91"
  },
  "kernelspec": {
   "display_name": "Python 3.10.4 ('pyda': venv)",
   "language": "python",
   "name": "python3"
  },
  "language_info": {
   "codemirror_mode": {
    "name": "ipython",
    "version": 3
   },
   "file_extension": ".py",
   "mimetype": "text/x-python",
   "name": "python",
   "nbconvert_exporter": "python",
   "pygments_lexer": "ipython3",
   "version": "3.10.4"
  },
  "orig_nbformat": 4
 },
 "nbformat": 4,
 "nbformat_minor": 2
}

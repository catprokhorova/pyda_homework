{
  "cells": [
    {
      "cell_type": "markdown",
      "metadata": {
        "id": "Bp3QASjCjSpo"
      },
      "source": [
        "# 8. Кейс-стади"
      ]
    },
    {
      "cell_type": "code",
      "execution_count": null,
      "metadata": {
        "id": "PMj_ircujYix"
      },
      "outputs": [],
      "source": [
        "import pandas as pd\n",
        "from scipy import stats as st\n",
        "import matplotlib.pyplot as plt\n",
        "import seaborn as sns\n",
        "import glob\n",
        "import re\n",
        "import nltk\n",
        "from nltk.corpus import stopwords\n",
        "from gensim import corpora\n",
        "from nltk.stem import WordNetLemmatizer\n",
        "from sklearn.feature_extraction.text import TfidfVectorizer\n",
        "from sklearn.model_selection import train_test_split\n",
        "from sklearn.linear_model import LogisticRegression\n",
        "from sklearn.metrics import confusion_matrix"
      ]
    },
    {
      "cell_type": "markdown",
      "metadata": {
        "id": "gXxvsEvFxR91"
      },
      "source": [
        "### Задание 1\n",
        "Вернемся к набору данных о видеоиграх.\n",
        "\n",
        "Ответьте на следующие вопросы:\n",
        "\n",
        "1) Как критики относятся к спортивным играм?\n",
        "\n",
        "2) Критикам нравятся больше игры на PC или на PS4?\n",
        "\n",
        "3) Критикам больше нравятся стрелялки или стратегии?\n",
        "\n",
        "Для каждого вопроса:\n",
        "\n",
        "- сформулируйте нулевую и альтернативную гипотезы;\n",
        "- выберите пороговый уровень статистической значимости;\n",
        "- опишите полученные результаты статистического теста."
      ]
    },
    {
      "cell_type": "code",
      "execution_count": null,
      "metadata": {
        "id": "IbiwP2vZV9K8"
      },
      "outputs": [],
      "source": [
        "games = pd.read_csv('https://raw.githubusercontent.com/obulygin/pyda_homeworks/master/stat_case_study/vgsales.csv')\n",
        "games"
      ]
    },
    {
      "cell_type": "markdown",
      "metadata": {
        "id": "Q2hSrp_BWxu-"
      },
      "source": [
        "1) Как критики относятся к спортивным играм?\n",
        "\n",
        "- H0: средняя удовлетворенность критиков играми в жанре Sports >= 70 баллов\n",
        "- H1: средняя удовлетворенность критиков играми в жанре Sports < 70 баллов\n",
        "\n",
        "Пусть alpha = 0.05"
      ]
    },
    {
      "cell_type": "code",
      "execution_count": null,
      "metadata": {
        "colab": {
          "base_uri": "https://localhost:8080/",
          "height": 300
        },
        "id": "9yzs4XrFWtUe",
        "outputId": "86c42082-0d3a-4c27-db3f-68868cf2957b"
      },
      "outputs": [],
      "source": [
        "sport = games[['Name', 'Genre', 'Global_Sales', 'Critic_Score']]\n",
        "sport = sport[sport['Genre'] == 'Sports']\n",
        "\n",
        "sport.describe()"
      ]
    },
    {
      "cell_type": "code",
      "execution_count": null,
      "metadata": {
        "id": "OGA2MwwLZ1h2"
      },
      "outputs": [],
      "source": [
        "sport[sport['Critic_Score'].isnull()]"
      ]
    },
    {
      "cell_type": "markdown",
      "metadata": {
        "id": "JVqWx0POiNsG"
      },
      "source": [
        "**Давайте посмотрим на гистограмму**"
      ]
    },
    {
      "cell_type": "code",
      "execution_count": null,
      "metadata": {
        "id": "RNq2c_tKh70c"
      },
      "outputs": [],
      "source": [
        "plt.hist(sport['Critic_Score'])"
      ]
    },
    {
      "cell_type": "code",
      "execution_count": null,
      "metadata": {
        "colab": {
          "base_uri": "https://localhost:8080/"
        },
        "id": "GqNuyg9Jcyvx",
        "outputId": "349274c0-2ec5-4b05-aae4-5c5b9f899892"
      },
      "outputs": [
        {
          "name": "stdout",
          "output_type": "stream",
          "text": [
            "Не отвергаем нулевую гипотезу\n"
          ]
        }
      ],
      "source": [
        "alpha = 0.05\n",
        "result = st.ttest_1samp(sport['Critic_Score'], 70, alternative='less')\n",
        "\n",
        "if result.pvalue < alpha:\n",
        "    print('Отвергаем нулевую гипотезу, среднее меньше 70 баллов')\n",
        "else:\n",
        "    print('Не отвергаем нулевую гипотезу')"
      ]
    },
    {
      "cell_type": "markdown",
      "metadata": {
        "id": "J401hwQjfm2P"
      },
      "source": [
        "- опишите полученные результаты статистического теста:\n",
        "\n",
        "Критики (при том, что в данных около 50% игр не имеют оценки) достаточно высоко оценивают игры в жанре Sport, средняя оценка превышает 70 баллов из 100 возможных."
      ]
    },
    {
      "cell_type": "markdown",
      "metadata": {
        "id": "1vpKRqKEf2gR"
      },
      "source": [
        "2) Критикам нравятся больше игры на PC или на PS4?\n",
        "\n",
        "- H0: удовлетворенность критиков играми на PC & PS4 одинаковая\n",
        "- H1: удовлетворенность критиков играми на PC & PS4 разная (больше или меньше, там посмотрим)\n",
        "\n",
        "Пусть alpha = 0.05"
      ]
    },
    {
      "cell_type": "code",
      "execution_count": null,
      "metadata": {
        "colab": {
          "base_uri": "https://localhost:8080/"
        },
        "id": "hejguKr0ghM3",
        "outputId": "1e081ef2-53bf-4899-afe4-d6d2de3c618d"
      },
      "outputs": [],
      "source": [
        "platform = games[['Name', 'Platform', 'Global_Sales', 'Critic_Score']]\n",
        "platform = platform[(platform['Platform'] == 'PC') | (platform['Platform'] == 'PS4')]\n",
        "\n",
        "platform.info()"
      ]
    },
    {
      "cell_type": "code",
      "execution_count": null,
      "metadata": {
        "id": "-EMbp73LikTq"
      },
      "outputs": [],
      "source": [
        "plt.hist(platform['Critic_Score'])"
      ]
    },
    {
      "cell_type": "code",
      "execution_count": null,
      "metadata": {
        "id": "9woDulAZky3G"
      },
      "outputs": [],
      "source": [
        "pl_PC = platform[platform['Platform'] == 'PC']\n",
        "pl_PS4 = platform[platform['Platform'] == 'PS4']"
      ]
    },
    {
      "cell_type": "code",
      "execution_count": null,
      "metadata": {
        "colab": {
          "base_uri": "https://localhost:8080/"
        },
        "id": "-6em3HyChB5r",
        "outputId": "6a20c435-c86e-4a7f-885b-507ee94d5873"
      },
      "outputs": [],
      "source": [
        "alpha = 0.05\n",
        "result = st.ttest_ind(pl_PC['Critic_Score'], pl_PS4['Critic_Score'], equal_var=False)\n",
        "\n",
        "if result.pvalue < alpha:\n",
        "    print('Отвергаем нулевую гипотезу, удовлетворенность критиков играми на PC & PS4 разная')\n",
        "else:\n",
        "    print('Не отвергаем нулевую гипотезу')"
      ]
    },
    {
      "cell_type": "markdown",
      "metadata": {
        "id": "fryuJxaPlVu1"
      },
      "source": [
        "Вывод: так как мы не отвергаем H0, то можем сказать, что игроки в целом одинаково удовлетворены играми на PC и играми на PS4.\n",
        "Войну между пэкашниками и консольщиками можно считать завершённой :) \n",
        "\n",
        "<small>Хотя в шутеры с геймпада рубиться - это для извращенцев))))) такое вот имхо</small>"
      ]
    },
    {
      "cell_type": "markdown",
      "metadata": {
        "id": "HqBgerZulXw8"
      },
      "source": [
        "3) Критикам больше нравятся стрелялки или стратегии?\n",
        "\n",
        "- H0: критики одинаково оценивают стрелялки и стратегии\n",
        "- H1: критики по-разному оценивают стрелялки и стратегии\n",
        "\n",
        "Пусть alpha = 0.05"
      ]
    },
    {
      "cell_type": "code",
      "execution_count": null,
      "metadata": {
        "colab": {
          "base_uri": "https://localhost:8080/"
        },
        "id": "2FSKVp3WmpJL",
        "outputId": "40b049d9-c394-4a1d-ebc0-9b780ca8cdaa"
      },
      "outputs": [],
      "source": [
        "games['Genre'].unique()"
      ]
    },
    {
      "cell_type": "code",
      "execution_count": null,
      "metadata": {
        "colab": {
          "base_uri": "https://localhost:8080/"
        },
        "id": "wIwNvH9Cmz8b",
        "outputId": "f0a5cf52-33c3-4149-b60c-3b6852152883"
      },
      "outputs": [],
      "source": [
        "huinya = games[['Name', 'Genre', 'Global_Sales', 'Critic_Score']]\n",
        "shoot = huinya[huinya['Genre'] == 'Shooter']\n",
        "strat = huinya[huinya['Genre'] == 'Strategy']\n",
        "\n",
        "shoot.info(), strat.info()"
      ]
    },
    {
      "cell_type": "code",
      "execution_count": null,
      "metadata": {
        "colab": {
          "base_uri": "https://localhost:8080/"
        },
        "id": "fwuhct0enufO",
        "outputId": "62257e65-335f-4dec-bd35-0a8dad0056a0"
      },
      "outputs": [
        {
          "name": "stdout",
          "output_type": "stream",
          "text": [
            "Не отвергаем нулевую гипотезу\n"
          ]
        }
      ],
      "source": [
        "alpha = 0.05\n",
        "result = st.ttest_ind(shoot['Critic_Score'], strat['Critic_Score'], equal_var=False)\n",
        "\n",
        "if result.pvalue < alpha:\n",
        "    print('Отвергаем нулевую гипотезу, критики по-разному оценивают стрелялки и стратегии')\n",
        "else:\n",
        "    print('Не отвергаем нулевую гипотезу')"
      ]
    },
    {
      "cell_type": "markdown",
      "metadata": {
        "id": "Zf27KW0jogGo"
      },
      "source": [
        "результат странный, надо посмотреть визуально на распределение оценок"
      ]
    },
    {
      "cell_type": "code",
      "execution_count": null,
      "metadata": {
        "colab": {
          "base_uri": "https://localhost:8080/",
          "height": 650
        },
        "id": "Nmx3X1XsooOl",
        "outputId": "94159a3d-c3c8-4f9d-a534-62a5afb8e299"
      },
      "outputs": [],
      "source": [
        "sns.boxplot(shoot['Critic_Score'])\n",
        "plt.show()\n",
        "sns.boxplot(strat['Critic_Score'])"
      ]
    },
    {
      "cell_type": "markdown",
      "metadata": {
        "id": "r2RqHtA1o4zk"
      },
      "source": [
        "хм, действительно оценки критиков шутеров и стратегий не сильно различаются, окей"
      ]
    },
    {
      "cell_type": "markdown",
      "metadata": {
        "id": "ie3iACJTxZKa"
      },
      "source": [
        "### Задание 2\n",
        "Реализуйте базовую модель логистической регрессии для классификации текстовых сообщений (используемые данные здесь) по признаку спама. Для этого:\n",
        "\n",
        "- Привидите весь текст к нижнему регистру;\n",
        "- Удалите мусорные символы;\n",
        "- Удалите стоп-слова;\n",
        "- Привидите все слова к начальной форме;\n",
        "- Преобразуйте все сообщения в вектора TF-IDF. Можете поэкспериментировать с параметрами TfidfVectorizer;\n",
        "- Разделите данные на тестовые и тренировочные в соотношении 30/70, укажите random_state=42. Используйте train_test_split;\n",
        "- Постройте модель логистической регрессии, укажите random_state=42, оцените ее точность на тестовых данных;\n",
        "- Опишите результаты при помощи confusion_matrix;\n",
        "- Постройте датафрейм, который будет содержать все исходные тексты сообщений, классифицированные неправильно (с указанием фактического и предсказанного)."
      ]
    },
    {
      "cell_type": "code",
      "execution_count": 30,
      "metadata": {
        "id": "y9EBLZ0NxnZr"
      },
      "outputs": [],
      "source": [
        "spam = pd.read_csv('https://raw.githubusercontent.com/obulygin/pyda_homeworks/master/stat_case_study/spam.csv')\n",
        "spam.loc[spam.Category == 'ham', 'Class'] = 1\n",
        "spam.loc[spam.Category == 'spam', 'Class'] = 0\n",
        "\n",
        "spam['Class'] = spam['Class'].astype('int')\n",
        "spam = spam.drop(['Category'], axis=1)"
      ]
    },
    {
      "cell_type": "code",
      "execution_count": 31,
      "metadata": {
        "id": "h9nWc3W1ccT9"
      },
      "outputs": [],
      "source": [
        "spam_class = spam['Class']"
      ]
    },
    {
      "cell_type": "code",
      "execution_count": 32,
      "metadata": {
        "id": "Isue4-ud6vBq"
      },
      "outputs": [],
      "source": [
        "#Привидите весь текст к нижнему регистру\n",
        "spam['Message'] = spam['Message'].str.lower()\n",
        "\n",
        "#Удалите мусорные символы\n",
        "spam['Message'] = spam['Message'].replace(['[\\W_]+'], [' '], regex=True)"
      ]
    },
    {
      "cell_type": "code",
      "execution_count": null,
      "metadata": {
        "colab": {
          "base_uri": "https://localhost:8080/"
        },
        "id": "Iev4hTctw_XX",
        "outputId": "1c6fb914-bddf-46db-b0b9-0df4d9c5e979"
      },
      "outputs": [],
      "source": [
        "#Удалите стоп-слова:\n",
        "spam['Message'] = spam['Message'].str[1:-1].str.split(' ').tolist()\n",
        "\n",
        "nltk.download('stopwords')\n",
        "stopwords_set = set(stopwords.words('english'))\n",
        "spam['Message'] = pd.Series([[word for word in text if word not in stopwords_set] for text in spam['Message']])"
      ]
    },
    {
      "cell_type": "code",
      "execution_count": null,
      "metadata": {
        "colab": {
          "base_uri": "https://localhost:8080/"
        },
        "id": "RmGM_QqL5EgQ",
        "outputId": "49374c6f-ebcf-4b7b-a3c2-b18fbdc62739"
      },
      "outputs": [],
      "source": [
        "#Привидите все слова к начальной форме:\n",
        "nltk.download('omw-1.4')\n",
        "nltk.download('wordnet')\n",
        "wordnet_lemmatizer = WordNetLemmatizer()\n",
        "\n",
<<<<<<< HEAD
        "spam['Message'] = pd.Series([wordnet_lemmatizer.lemmatize(word) for word in text] for text in spam['Message'])\n",
        "\n",
        "# spam['Message']"
=======
        "spam['Message'] = pd.Series([wordnet_lemmatizer.lemmatize(word) for word in text] for text in spam['Message'])"
>>>>>>> 9cbf284a99d1f98685542ac9562d639ef5b27a32
      ]
    },
    {
      "cell_type": "code",
<<<<<<< HEAD
      "execution_count": 36,
=======
      "execution_count": 33,
>>>>>>> 9cbf284a99d1f98685542ac9562d639ef5b27a32
      "metadata": {
        "id": "me7FYiiYVO3x"
      },
      "outputs": [],
      "source": [
        "#Превращаем в строку, иначе fit_transform заругается\n",
        "spam['Message'] = spam['Message'].apply(lambda x: ' '.join(x))"
      ]
    },
    {
      "cell_type": "code",
      "execution_count": 37,
      "metadata": {
        "colab": {
          "base_uri": "https://localhost:8080/"
        },
        "id": "EZOFzMVp81Kz",
        "outputId": "25acdb07-a24a-4f51-f264-b5c1209c199a"
      },
      "outputs": [],
      "source": [
        "#Преобразуйте все сообщения в вектора TF-IDF:\n",
        "\n",
        "tfidf = TfidfVectorizer(stop_words=list(stopwords_set))\n",
        "tfidf_matrix = tfidf.fit_transform(spam['Message'])\n",
        "names = tfidf.get_feature_names_out()\n",
        "tfidf_matrix = pd.DataFrame(tfidf_matrix.toarray(), columns=names)"
      ]
    },
    {
      "cell_type": "code",
<<<<<<< HEAD
      "execution_count": 38,
      "metadata": {
        "id": "7K5yZzg77ACu"
      },
      "outputs": [
        {
          "data": {
            "text/html": [
              "<div>\n",
              "<style scoped>\n",
              "    .dataframe tbody tr th:only-of-type {\n",
              "        vertical-align: middle;\n",
              "    }\n",
              "\n",
              "    .dataframe tbody tr th {\n",
              "        vertical-align: top;\n",
              "    }\n",
              "\n",
              "    .dataframe thead th {\n",
              "        text-align: right;\n",
              "    }\n",
              "</style>\n",
              "<table border=\"1\" class=\"dataframe\">\n",
              "  <thead>\n",
              "    <tr style=\"text-align: right;\">\n",
              "      <th></th>\n",
              "      <th>00</th>\n",
              "      <th>000</th>\n",
              "      <th>000pes</th>\n",
              "      <th>007</th>\n",
              "      <th>008704050406</th>\n",
              "      <th>0089</th>\n",
              "      <th>0121</th>\n",
              "      <th>01223585236</th>\n",
              "      <th>01223585334</th>\n",
              "      <th>0125698789</th>\n",
              "      <th>...</th>\n",
              "      <th>zero</th>\n",
              "      <th>zhong</th>\n",
              "      <th>zindgi</th>\n",
              "      <th>zoe</th>\n",
              "      <th>zogtorius</th>\n",
              "      <th>zoom</th>\n",
              "      <th>zouk</th>\n",
              "      <th>zyada</th>\n",
              "      <th>ú1</th>\n",
              "      <th>〨ud</th>\n",
              "    </tr>\n",
              "  </thead>\n",
              "  <tbody>\n",
              "    <tr>\n",
              "      <th>0</th>\n",
              "      <td>0.0</td>\n",
              "      <td>0.0</td>\n",
              "      <td>0.0</td>\n",
              "      <td>0.0</td>\n",
              "      <td>0.0</td>\n",
              "      <td>0.0</td>\n",
              "      <td>0.0</td>\n",
              "      <td>0.0</td>\n",
              "      <td>0.0</td>\n",
              "      <td>0.0</td>\n",
              "      <td>...</td>\n",
              "      <td>0.0</td>\n",
              "      <td>0.0</td>\n",
              "      <td>0.0</td>\n",
              "      <td>0.0</td>\n",
              "      <td>0.0</td>\n",
              "      <td>0.0</td>\n",
              "      <td>0.0</td>\n",
              "      <td>0.0</td>\n",
              "      <td>0.0</td>\n",
              "      <td>0.0</td>\n",
              "    </tr>\n",
              "    <tr>\n",
              "      <th>1</th>\n",
              "      <td>0.0</td>\n",
              "      <td>0.0</td>\n",
              "      <td>0.0</td>\n",
              "      <td>0.0</td>\n",
              "      <td>0.0</td>\n",
              "      <td>0.0</td>\n",
              "      <td>0.0</td>\n",
              "      <td>0.0</td>\n",
              "      <td>0.0</td>\n",
              "      <td>0.0</td>\n",
              "      <td>...</td>\n",
              "      <td>0.0</td>\n",
              "      <td>0.0</td>\n",
              "      <td>0.0</td>\n",
              "      <td>0.0</td>\n",
              "      <td>0.0</td>\n",
              "      <td>0.0</td>\n",
              "      <td>0.0</td>\n",
              "      <td>0.0</td>\n",
              "      <td>0.0</td>\n",
              "      <td>0.0</td>\n",
              "    </tr>\n",
              "    <tr>\n",
              "      <th>2</th>\n",
              "      <td>0.0</td>\n",
              "      <td>0.0</td>\n",
              "      <td>0.0</td>\n",
              "      <td>0.0</td>\n",
              "      <td>0.0</td>\n",
              "      <td>0.0</td>\n",
              "      <td>0.0</td>\n",
              "      <td>0.0</td>\n",
              "      <td>0.0</td>\n",
              "      <td>0.0</td>\n",
              "      <td>...</td>\n",
              "      <td>0.0</td>\n",
              "      <td>0.0</td>\n",
              "      <td>0.0</td>\n",
              "      <td>0.0</td>\n",
              "      <td>0.0</td>\n",
              "      <td>0.0</td>\n",
              "      <td>0.0</td>\n",
              "      <td>0.0</td>\n",
              "      <td>0.0</td>\n",
              "      <td>0.0</td>\n",
              "    </tr>\n",
              "    <tr>\n",
              "      <th>3</th>\n",
              "      <td>0.0</td>\n",
              "      <td>0.0</td>\n",
              "      <td>0.0</td>\n",
              "      <td>0.0</td>\n",
              "      <td>0.0</td>\n",
              "      <td>0.0</td>\n",
              "      <td>0.0</td>\n",
              "      <td>0.0</td>\n",
              "      <td>0.0</td>\n",
              "      <td>0.0</td>\n",
              "      <td>...</td>\n",
              "      <td>0.0</td>\n",
              "      <td>0.0</td>\n",
              "      <td>0.0</td>\n",
              "      <td>0.0</td>\n",
              "      <td>0.0</td>\n",
              "      <td>0.0</td>\n",
              "      <td>0.0</td>\n",
              "      <td>0.0</td>\n",
              "      <td>0.0</td>\n",
              "      <td>0.0</td>\n",
              "    </tr>\n",
              "    <tr>\n",
              "      <th>4</th>\n",
              "      <td>0.0</td>\n",
              "      <td>0.0</td>\n",
              "      <td>0.0</td>\n",
              "      <td>0.0</td>\n",
              "      <td>0.0</td>\n",
              "      <td>0.0</td>\n",
              "      <td>0.0</td>\n",
              "      <td>0.0</td>\n",
              "      <td>0.0</td>\n",
              "      <td>0.0</td>\n",
              "      <td>...</td>\n",
              "      <td>0.0</td>\n",
              "      <td>0.0</td>\n",
              "      <td>0.0</td>\n",
              "      <td>0.0</td>\n",
              "      <td>0.0</td>\n",
              "      <td>0.0</td>\n",
              "      <td>0.0</td>\n",
              "      <td>0.0</td>\n",
              "      <td>0.0</td>\n",
              "      <td>0.0</td>\n",
              "    </tr>\n",
              "    <tr>\n",
              "      <th>...</th>\n",
              "      <td>...</td>\n",
              "      <td>...</td>\n",
              "      <td>...</td>\n",
              "      <td>...</td>\n",
              "      <td>...</td>\n",
              "      <td>...</td>\n",
              "      <td>...</td>\n",
              "      <td>...</td>\n",
              "      <td>...</td>\n",
              "      <td>...</td>\n",
              "      <td>...</td>\n",
              "      <td>...</td>\n",
              "      <td>...</td>\n",
              "      <td>...</td>\n",
              "      <td>...</td>\n",
              "      <td>...</td>\n",
              "      <td>...</td>\n",
              "      <td>...</td>\n",
              "      <td>...</td>\n",
              "      <td>...</td>\n",
              "      <td>...</td>\n",
              "    </tr>\n",
              "    <tr>\n",
              "      <th>5567</th>\n",
              "      <td>0.0</td>\n",
              "      <td>0.0</td>\n",
              "      <td>0.0</td>\n",
              "      <td>0.0</td>\n",
              "      <td>0.0</td>\n",
              "      <td>0.0</td>\n",
              "      <td>0.0</td>\n",
              "      <td>0.0</td>\n",
              "      <td>0.0</td>\n",
              "      <td>0.0</td>\n",
              "      <td>...</td>\n",
              "      <td>0.0</td>\n",
              "      <td>0.0</td>\n",
              "      <td>0.0</td>\n",
              "      <td>0.0</td>\n",
              "      <td>0.0</td>\n",
              "      <td>0.0</td>\n",
              "      <td>0.0</td>\n",
              "      <td>0.0</td>\n",
              "      <td>0.0</td>\n",
              "      <td>0.0</td>\n",
              "    </tr>\n",
              "    <tr>\n",
              "      <th>5568</th>\n",
              "      <td>0.0</td>\n",
              "      <td>0.0</td>\n",
              "      <td>0.0</td>\n",
              "      <td>0.0</td>\n",
              "      <td>0.0</td>\n",
              "      <td>0.0</td>\n",
              "      <td>0.0</td>\n",
              "      <td>0.0</td>\n",
              "      <td>0.0</td>\n",
              "      <td>0.0</td>\n",
              "      <td>...</td>\n",
              "      <td>0.0</td>\n",
              "      <td>0.0</td>\n",
              "      <td>0.0</td>\n",
              "      <td>0.0</td>\n",
              "      <td>0.0</td>\n",
              "      <td>0.0</td>\n",
              "      <td>0.0</td>\n",
              "      <td>0.0</td>\n",
              "      <td>0.0</td>\n",
              "      <td>0.0</td>\n",
              "    </tr>\n",
              "    <tr>\n",
              "      <th>5569</th>\n",
              "      <td>0.0</td>\n",
              "      <td>0.0</td>\n",
              "      <td>0.0</td>\n",
              "      <td>0.0</td>\n",
              "      <td>0.0</td>\n",
              "      <td>0.0</td>\n",
              "      <td>0.0</td>\n",
              "      <td>0.0</td>\n",
              "      <td>0.0</td>\n",
              "      <td>0.0</td>\n",
              "      <td>...</td>\n",
              "      <td>0.0</td>\n",
              "      <td>0.0</td>\n",
              "      <td>0.0</td>\n",
              "      <td>0.0</td>\n",
              "      <td>0.0</td>\n",
              "      <td>0.0</td>\n",
              "      <td>0.0</td>\n",
              "      <td>0.0</td>\n",
              "      <td>0.0</td>\n",
              "      <td>0.0</td>\n",
              "    </tr>\n",
              "    <tr>\n",
              "      <th>5570</th>\n",
              "      <td>0.0</td>\n",
              "      <td>0.0</td>\n",
              "      <td>0.0</td>\n",
              "      <td>0.0</td>\n",
              "      <td>0.0</td>\n",
              "      <td>0.0</td>\n",
              "      <td>0.0</td>\n",
              "      <td>0.0</td>\n",
              "      <td>0.0</td>\n",
              "      <td>0.0</td>\n",
              "      <td>...</td>\n",
              "      <td>0.0</td>\n",
              "      <td>0.0</td>\n",
              "      <td>0.0</td>\n",
              "      <td>0.0</td>\n",
              "      <td>0.0</td>\n",
              "      <td>0.0</td>\n",
              "      <td>0.0</td>\n",
              "      <td>0.0</td>\n",
              "      <td>0.0</td>\n",
              "      <td>0.0</td>\n",
              "    </tr>\n",
              "    <tr>\n",
              "      <th>5571</th>\n",
              "      <td>0.0</td>\n",
              "      <td>0.0</td>\n",
              "      <td>0.0</td>\n",
              "      <td>0.0</td>\n",
              "      <td>0.0</td>\n",
              "      <td>0.0</td>\n",
              "      <td>0.0</td>\n",
              "      <td>0.0</td>\n",
              "      <td>0.0</td>\n",
              "      <td>0.0</td>\n",
              "      <td>...</td>\n",
              "      <td>0.0</td>\n",
              "      <td>0.0</td>\n",
              "      <td>0.0</td>\n",
              "      <td>0.0</td>\n",
              "      <td>0.0</td>\n",
              "      <td>0.0</td>\n",
              "      <td>0.0</td>\n",
              "      <td>0.0</td>\n",
              "      <td>0.0</td>\n",
              "      <td>0.0</td>\n",
              "    </tr>\n",
              "  </tbody>\n",
              "</table>\n",
              "<p>5572 rows × 8796 columns</p>\n",
              "</div>"
            ],
            "text/plain": [
              "       00  000  000pes  007  008704050406  0089  0121  01223585236   \n",
              "0     0.0  0.0     0.0  0.0           0.0   0.0   0.0          0.0  \\\n",
              "1     0.0  0.0     0.0  0.0           0.0   0.0   0.0          0.0   \n",
              "2     0.0  0.0     0.0  0.0           0.0   0.0   0.0          0.0   \n",
              "3     0.0  0.0     0.0  0.0           0.0   0.0   0.0          0.0   \n",
              "4     0.0  0.0     0.0  0.0           0.0   0.0   0.0          0.0   \n",
              "...   ...  ...     ...  ...           ...   ...   ...          ...   \n",
              "5567  0.0  0.0     0.0  0.0           0.0   0.0   0.0          0.0   \n",
              "5568  0.0  0.0     0.0  0.0           0.0   0.0   0.0          0.0   \n",
              "5569  0.0  0.0     0.0  0.0           0.0   0.0   0.0          0.0   \n",
              "5570  0.0  0.0     0.0  0.0           0.0   0.0   0.0          0.0   \n",
              "5571  0.0  0.0     0.0  0.0           0.0   0.0   0.0          0.0   \n",
              "\n",
              "      01223585334  0125698789  ...  zero  zhong  zindgi  zoe  zogtorius  zoom   \n",
              "0             0.0         0.0  ...   0.0    0.0     0.0  0.0        0.0   0.0  \\\n",
              "1             0.0         0.0  ...   0.0    0.0     0.0  0.0        0.0   0.0   \n",
              "2             0.0         0.0  ...   0.0    0.0     0.0  0.0        0.0   0.0   \n",
              "3             0.0         0.0  ...   0.0    0.0     0.0  0.0        0.0   0.0   \n",
              "4             0.0         0.0  ...   0.0    0.0     0.0  0.0        0.0   0.0   \n",
              "...           ...         ...  ...   ...    ...     ...  ...        ...   ...   \n",
              "5567          0.0         0.0  ...   0.0    0.0     0.0  0.0        0.0   0.0   \n",
              "5568          0.0         0.0  ...   0.0    0.0     0.0  0.0        0.0   0.0   \n",
              "5569          0.0         0.0  ...   0.0    0.0     0.0  0.0        0.0   0.0   \n",
              "5570          0.0         0.0  ...   0.0    0.0     0.0  0.0        0.0   0.0   \n",
              "5571          0.0         0.0  ...   0.0    0.0     0.0  0.0        0.0   0.0   \n",
              "\n",
              "      zouk  zyada   ú1  〨ud  \n",
              "0      0.0    0.0  0.0  0.0  \n",
              "1      0.0    0.0  0.0  0.0  \n",
              "2      0.0    0.0  0.0  0.0  \n",
              "3      0.0    0.0  0.0  0.0  \n",
              "4      0.0    0.0  0.0  0.0  \n",
              "...    ...    ...  ...  ...  \n",
              "5567   0.0    0.0  0.0  0.0  \n",
              "5568   0.0    0.0  0.0  0.0  \n",
              "5569   0.0    0.0  0.0  0.0  \n",
              "5570   0.0    0.0  0.0  0.0  \n",
              "5571   0.0    0.0  0.0  0.0  \n",
              "\n",
              "[5572 rows x 8796 columns]"
            ]
          },
          "execution_count": 38,
          "metadata": {},
          "output_type": "execute_result"
        }
      ],
      "source": [
        "tfidf_matrix"
      ]
    },
    {
      "cell_type": "code",
      "execution_count": 39,
      "metadata": {
        "id": "_7kH1yWXY_8Z"
      },
      "outputs": [
        {
          "data": {
            "text/html": [
              "<div>\n",
              "<style scoped>\n",
              "    .dataframe tbody tr th:only-of-type {\n",
              "        vertical-align: middle;\n",
              "    }\n",
              "\n",
              "    .dataframe tbody tr th {\n",
              "        vertical-align: top;\n",
              "    }\n",
              "\n",
              "    .dataframe thead th {\n",
              "        text-align: right;\n",
              "    }\n",
              "</style>\n",
              "<table border=\"1\" class=\"dataframe\">\n",
              "  <thead>\n",
              "    <tr style=\"text-align: right;\">\n",
              "      <th></th>\n",
              "      <th>00</th>\n",
              "      <th>000</th>\n",
              "      <th>000pes</th>\n",
              "      <th>007</th>\n",
              "      <th>008704050406</th>\n",
              "      <th>0089</th>\n",
              "      <th>0121</th>\n",
              "      <th>01223585236</th>\n",
              "      <th>01223585334</th>\n",
              "      <th>0125698789</th>\n",
              "      <th>...</th>\n",
              "      <th>zero</th>\n",
              "      <th>zhong</th>\n",
              "      <th>zindgi</th>\n",
              "      <th>zoe</th>\n",
              "      <th>zogtorius</th>\n",
              "      <th>zoom</th>\n",
              "      <th>zouk</th>\n",
              "      <th>zyada</th>\n",
              "      <th>ú1</th>\n",
              "      <th>〨ud</th>\n",
              "    </tr>\n",
              "  </thead>\n",
              "  <tbody>\n",
              "    <tr>\n",
              "      <th>count</th>\n",
              "      <td>5572.000000</td>\n",
              "      <td>5572.000000</td>\n",
              "      <td>5572.000000</td>\n",
              "      <td>5572.000000</td>\n",
              "      <td>5572.000000</td>\n",
              "      <td>5572.000000</td>\n",
              "      <td>5572.000000</td>\n",
              "      <td>5572.000000</td>\n",
              "      <td>5572.000000</td>\n",
              "      <td>5572.000000</td>\n",
              "      <td>...</td>\n",
              "      <td>5572.000000</td>\n",
              "      <td>5572.000000</td>\n",
              "      <td>5572.000000</td>\n",
              "      <td>5572.000000</td>\n",
              "      <td>5572.000000</td>\n",
              "      <td>5572.000000</td>\n",
              "      <td>5572.000000</td>\n",
              "      <td>5572.000000</td>\n",
              "      <td>5572.000000</td>\n",
              "      <td>5572.000000</td>\n",
              "    </tr>\n",
              "    <tr>\n",
              "      <th>mean</th>\n",
              "      <td>0.000622</td>\n",
              "      <td>0.001292</td>\n",
              "      <td>0.000044</td>\n",
              "      <td>0.000082</td>\n",
              "      <td>0.000100</td>\n",
              "      <td>0.000047</td>\n",
              "      <td>0.000060</td>\n",
              "      <td>0.000060</td>\n",
              "      <td>0.000084</td>\n",
              "      <td>0.000102</td>\n",
              "      <td>...</td>\n",
              "      <td>0.000073</td>\n",
              "      <td>0.000056</td>\n",
              "      <td>0.000058</td>\n",
              "      <td>0.000058</td>\n",
              "      <td>0.000075</td>\n",
              "      <td>0.000056</td>\n",
              "      <td>0.000051</td>\n",
              "      <td>0.000029</td>\n",
              "      <td>0.000042</td>\n",
              "      <td>0.000063</td>\n",
              "    </tr>\n",
              "    <tr>\n",
              "      <th>std</th>\n",
              "      <td>0.012670</td>\n",
              "      <td>0.019421</td>\n",
              "      <td>0.003249</td>\n",
              "      <td>0.004353</td>\n",
              "      <td>0.005282</td>\n",
              "      <td>0.003533</td>\n",
              "      <td>0.004494</td>\n",
              "      <td>0.004481</td>\n",
              "      <td>0.004427</td>\n",
              "      <td>0.007580</td>\n",
              "      <td>...</td>\n",
              "      <td>0.005484</td>\n",
              "      <td>0.004164</td>\n",
              "      <td>0.004359</td>\n",
              "      <td>0.004340</td>\n",
              "      <td>0.005571</td>\n",
              "      <td>0.004208</td>\n",
              "      <td>0.003788</td>\n",
              "      <td>0.002180</td>\n",
              "      <td>0.003131</td>\n",
              "      <td>0.004699</td>\n",
              "    </tr>\n",
              "    <tr>\n",
              "      <th>min</th>\n",
              "      <td>0.000000</td>\n",
              "      <td>0.000000</td>\n",
              "      <td>0.000000</td>\n",
              "      <td>0.000000</td>\n",
              "      <td>0.000000</td>\n",
              "      <td>0.000000</td>\n",
              "      <td>0.000000</td>\n",
              "      <td>0.000000</td>\n",
              "      <td>0.000000</td>\n",
              "      <td>0.000000</td>\n",
              "      <td>...</td>\n",
              "      <td>0.000000</td>\n",
              "      <td>0.000000</td>\n",
              "      <td>0.000000</td>\n",
              "      <td>0.000000</td>\n",
              "      <td>0.000000</td>\n",
              "      <td>0.000000</td>\n",
              "      <td>0.000000</td>\n",
              "      <td>0.000000</td>\n",
              "      <td>0.000000</td>\n",
              "      <td>0.000000</td>\n",
              "    </tr>\n",
              "    <tr>\n",
              "      <th>25%</th>\n",
              "      <td>0.000000</td>\n",
              "      <td>0.000000</td>\n",
              "      <td>0.000000</td>\n",
              "      <td>0.000000</td>\n",
              "      <td>0.000000</td>\n",
              "      <td>0.000000</td>\n",
              "      <td>0.000000</td>\n",
              "      <td>0.000000</td>\n",
              "      <td>0.000000</td>\n",
              "      <td>0.000000</td>\n",
              "      <td>...</td>\n",
              "      <td>0.000000</td>\n",
              "      <td>0.000000</td>\n",
              "      <td>0.000000</td>\n",
              "      <td>0.000000</td>\n",
              "      <td>0.000000</td>\n",
              "      <td>0.000000</td>\n",
              "      <td>0.000000</td>\n",
              "      <td>0.000000</td>\n",
              "      <td>0.000000</td>\n",
              "      <td>0.000000</td>\n",
              "    </tr>\n",
              "    <tr>\n",
              "      <th>50%</th>\n",
              "      <td>0.000000</td>\n",
              "      <td>0.000000</td>\n",
              "      <td>0.000000</td>\n",
              "      <td>0.000000</td>\n",
              "      <td>0.000000</td>\n",
              "      <td>0.000000</td>\n",
              "      <td>0.000000</td>\n",
              "      <td>0.000000</td>\n",
              "      <td>0.000000</td>\n",
              "      <td>0.000000</td>\n",
              "      <td>...</td>\n",
              "      <td>0.000000</td>\n",
              "      <td>0.000000</td>\n",
              "      <td>0.000000</td>\n",
              "      <td>0.000000</td>\n",
              "      <td>0.000000</td>\n",
              "      <td>0.000000</td>\n",
              "      <td>0.000000</td>\n",
              "      <td>0.000000</td>\n",
              "      <td>0.000000</td>\n",
              "      <td>0.000000</td>\n",
              "    </tr>\n",
              "    <tr>\n",
              "      <th>75%</th>\n",
              "      <td>0.000000</td>\n",
              "      <td>0.000000</td>\n",
              "      <td>0.000000</td>\n",
              "      <td>0.000000</td>\n",
              "      <td>0.000000</td>\n",
              "      <td>0.000000</td>\n",
              "      <td>0.000000</td>\n",
              "      <td>0.000000</td>\n",
              "      <td>0.000000</td>\n",
              "      <td>0.000000</td>\n",
              "      <td>...</td>\n",
              "      <td>0.000000</td>\n",
              "      <td>0.000000</td>\n",
              "      <td>0.000000</td>\n",
              "      <td>0.000000</td>\n",
              "      <td>0.000000</td>\n",
              "      <td>0.000000</td>\n",
              "      <td>0.000000</td>\n",
              "      <td>0.000000</td>\n",
              "      <td>0.000000</td>\n",
              "      <td>0.000000</td>\n",
              "    </tr>\n",
              "    <tr>\n",
              "      <th>max</th>\n",
              "      <td>0.387454</td>\n",
              "      <td>0.679902</td>\n",
              "      <td>0.242555</td>\n",
              "      <td>0.230066</td>\n",
              "      <td>0.288804</td>\n",
              "      <td>0.263717</td>\n",
              "      <td>0.335423</td>\n",
              "      <td>0.334502</td>\n",
              "      <td>0.233708</td>\n",
              "      <td>0.565823</td>\n",
              "      <td>...</td>\n",
              "      <td>0.409377</td>\n",
              "      <td>0.310791</td>\n",
              "      <td>0.325416</td>\n",
              "      <td>0.323964</td>\n",
              "      <td>0.415844</td>\n",
              "      <td>0.314143</td>\n",
              "      <td>0.282794</td>\n",
              "      <td>0.162708</td>\n",
              "      <td>0.233741</td>\n",
              "      <td>0.350773</td>\n",
              "    </tr>\n",
              "  </tbody>\n",
              "</table>\n",
              "<p>8 rows × 8796 columns</p>\n",
              "</div>"
            ],
            "text/plain": [
              "                00          000       000pes          007  008704050406   \n",
              "count  5572.000000  5572.000000  5572.000000  5572.000000   5572.000000  \\\n",
              "mean      0.000622     0.001292     0.000044     0.000082      0.000100   \n",
              "std       0.012670     0.019421     0.003249     0.004353      0.005282   \n",
              "min       0.000000     0.000000     0.000000     0.000000      0.000000   \n",
              "25%       0.000000     0.000000     0.000000     0.000000      0.000000   \n",
              "50%       0.000000     0.000000     0.000000     0.000000      0.000000   \n",
              "75%       0.000000     0.000000     0.000000     0.000000      0.000000   \n",
              "max       0.387454     0.679902     0.242555     0.230066      0.288804   \n",
              "\n",
              "              0089         0121  01223585236  01223585334   0125698789  ...   \n",
              "count  5572.000000  5572.000000  5572.000000  5572.000000  5572.000000  ...  \\\n",
              "mean      0.000047     0.000060     0.000060     0.000084     0.000102  ...   \n",
              "std       0.003533     0.004494     0.004481     0.004427     0.007580  ...   \n",
              "min       0.000000     0.000000     0.000000     0.000000     0.000000  ...   \n",
              "25%       0.000000     0.000000     0.000000     0.000000     0.000000  ...   \n",
              "50%       0.000000     0.000000     0.000000     0.000000     0.000000  ...   \n",
              "75%       0.000000     0.000000     0.000000     0.000000     0.000000  ...   \n",
              "max       0.263717     0.335423     0.334502     0.233708     0.565823  ...   \n",
              "\n",
              "              zero        zhong       zindgi          zoe    zogtorius   \n",
              "count  5572.000000  5572.000000  5572.000000  5572.000000  5572.000000  \\\n",
              "mean      0.000073     0.000056     0.000058     0.000058     0.000075   \n",
              "std       0.005484     0.004164     0.004359     0.004340     0.005571   \n",
              "min       0.000000     0.000000     0.000000     0.000000     0.000000   \n",
              "25%       0.000000     0.000000     0.000000     0.000000     0.000000   \n",
              "50%       0.000000     0.000000     0.000000     0.000000     0.000000   \n",
              "75%       0.000000     0.000000     0.000000     0.000000     0.000000   \n",
              "max       0.409377     0.310791     0.325416     0.323964     0.415844   \n",
              "\n",
              "              zoom         zouk        zyada           ú1          〨ud  \n",
              "count  5572.000000  5572.000000  5572.000000  5572.000000  5572.000000  \n",
              "mean      0.000056     0.000051     0.000029     0.000042     0.000063  \n",
              "std       0.004208     0.003788     0.002180     0.003131     0.004699  \n",
              "min       0.000000     0.000000     0.000000     0.000000     0.000000  \n",
              "25%       0.000000     0.000000     0.000000     0.000000     0.000000  \n",
              "50%       0.000000     0.000000     0.000000     0.000000     0.000000  \n",
              "75%       0.000000     0.000000     0.000000     0.000000     0.000000  \n",
              "max       0.314143     0.282794     0.162708     0.233741     0.350773  \n",
              "\n",
              "[8 rows x 8796 columns]"
            ]
          },
          "execution_count": 39,
          "metadata": {},
          "output_type": "execute_result"
        }
      ],
=======
      "execution_count": null,
      "metadata": {
        "id": "_7kH1yWXY_8Z"
      },
      "outputs": [],
>>>>>>> 9cbf284a99d1f98685542ac9562d639ef5b27a32
      "source": [
        "tfidf_matrix.describe()"
      ]
    },
    {
      "cell_type": "code",
      "execution_count": 40,
      "metadata": {
        "id": "QuS47CmlsL44"
      },
      "outputs": [],
      "source": [
        "#Разделите данные на тестовые и тренировочные в соотношении 30/70, укажите random_state=42\n",
        "\n",
        "x_train, x_test, y_train, y_test = train_test_split(tfidf_matrix, spam_class, random_state = 42, test_size = 0.30)"
      ]
    },
    {
      "cell_type": "code",
<<<<<<< HEAD
      "execution_count": 41,
=======
      "execution_count": null,
>>>>>>> 9cbf284a99d1f98685542ac9562d639ef5b27a32
      "metadata": {
        "colab": {
          "base_uri": "https://localhost:8080/"
        },
        "id": "WIaRffvqhgab",
        "outputId": "def95fcd-8a71-4607-aac6-3d5727729326"
      },
<<<<<<< HEAD
      "outputs": [
        {
          "data": {
            "text/plain": [
              "0.9527511961722488"
            ]
          },
          "execution_count": 41,
          "metadata": {},
          "output_type": "execute_result"
        }
      ],
=======
      "outputs": [],
>>>>>>> 9cbf284a99d1f98685542ac9562d639ef5b27a32
      "source": [
        "#Постройте модель логистической регрессии, укажите random_state=42, оцените ее точность на тестовых данных\n",
        "\n",
        "lr = LogisticRegression(random_state=42).fit(x_train, y_train)\n",
        "y_pred = lr.predict(x_test)\n",
        "lr.predict_proba(x_test)\n",
        "\n",
        "lr.score(x_test, y_test)"
      ]
    },
    {
      "cell_type": "code",
<<<<<<< HEAD
      "execution_count": 42,
=======
      "execution_count": null,
>>>>>>> 9cbf284a99d1f98685542ac9562d639ef5b27a32
      "metadata": {
        "colab": {
          "base_uri": "https://localhost:8080/"
        },
        "id": "K-OpAtx-kCyY",
        "outputId": "c02cfcbe-3bc5-48ad-df91-884db244daab"
      },
<<<<<<< HEAD
      "outputs": [
        {
          "data": {
            "text/plain": [
              "array([[ 150,   74],\n",
              "       [   5, 1443]], dtype=int64)"
            ]
          },
          "execution_count": 42,
          "metadata": {},
          "output_type": "execute_result"
        }
      ],
=======
      "outputs": [],
>>>>>>> 9cbf284a99d1f98685542ac9562d639ef5b27a32
      "source": [
        "#Опишите результаты при помощи confusion_matrix\n",
        "\n",
        "confusion_matrix(y_test, pd.Series(y_pred))"
      ]
    },
    {
      "cell_type": "code",
<<<<<<< HEAD
      "execution_count": 45,
=======
      "execution_count": null,
>>>>>>> 9cbf284a99d1f98685542ac9562d639ef5b27a32
      "metadata": {
        "colab": {
          "base_uri": "https://localhost:8080/",
          "height": 424
        },
        "id": "RcbVYeGZ-R2x",
        "outputId": "d18fb7e3-79e8-4a9f-9afe-54812461f7aa"
      },
      "outputs": [],
      "source": [
<<<<<<< HEAD
        "#Постройте датафрейм, который будет содержать все исходные тексты сообщений, классифицированные неправильно (с указанием фактического и предсказанного)\n",
        "y_test = y_test.reset_index()\n",
        "\n",
        "result = pd.DataFrame([y_test['Class'], y_pred]).T\n",
        "result.rename(columns={'Class': 'fact', 'Unnamed 0': 'pred'}, inplace=True)"
=======
        "#Постройте датафрейм, который будет содержать все исходные тексты сообщений, классифицированные неправильно \n",
        "# (с указанием фактического и предсказанного)\n",
        "\n",
        "predict = lr.predict(tfidf_matrix)\n",
        "final_df = pd.DataFrame()\n",
        "final_df['Message'] = spam['Message']\n",
        "final_df['fact'] = spam['Category']\n",
        "final_df['pred'] = predict\n",
        "\n",
        "final_df"
>>>>>>> 9cbf284a99d1f98685542ac9562d639ef5b27a32
      ]
    },
    {
      "cell_type": "code",
<<<<<<< HEAD
      "execution_count": 46,
      "metadata": {
        "colab": {
          "base_uri": "https://localhost:8080/",
          "height": 424
        },
        "id": "3-Icmkjd-rhA",
        "outputId": "6b242672-7373-43b6-92cc-9598de6b6bd0"
      },
      "outputs": [
        {
          "data": {
            "text/html": [
              "<div>\n",
              "<style scoped>\n",
              "    .dataframe tbody tr th:only-of-type {\n",
              "        vertical-align: middle;\n",
              "    }\n",
              "\n",
              "    .dataframe tbody tr th {\n",
              "        vertical-align: top;\n",
              "    }\n",
              "\n",
              "    .dataframe thead th {\n",
              "        text-align: right;\n",
              "    }\n",
              "</style>\n",
              "<table border=\"1\" class=\"dataframe\">\n",
              "  <thead>\n",
              "    <tr style=\"text-align: right;\">\n",
              "      <th></th>\n",
              "      <th>fact</th>\n",
              "      <th>pred</th>\n",
              "      <th>texts</th>\n",
              "    </tr>\n",
              "  </thead>\n",
              "  <tbody>\n",
              "    <tr>\n",
              "      <th>0</th>\n",
              "      <td>1</td>\n",
              "      <td>1</td>\n",
              "      <td>jurong point crazy available bugis n great wor...</td>\n",
              "    </tr>\n",
              "    <tr>\n",
              "      <th>1</th>\n",
              "      <td>1</td>\n",
              "      <td>1</td>\n",
              "      <td>k lar joking wif u oni</td>\n",
              "    </tr>\n",
              "    <tr>\n",
              "      <th>2</th>\n",
              "      <td>1</td>\n",
              "      <td>1</td>\n",
              "      <td>ree entry 2 wkly comp win fa cup final tkts 21...</td>\n",
              "    </tr>\n",
              "    <tr>\n",
              "      <th>3</th>\n",
              "      <td>1</td>\n",
              "      <td>1</td>\n",
              "      <td>dun say early hor u c already say</td>\n",
              "    </tr>\n",
              "    <tr>\n",
              "      <th>4</th>\n",
              "      <td>1</td>\n",
              "      <td>1</td>\n",
              "      <td>ah think go usf life around thoug</td>\n",
              "    </tr>\n",
              "    <tr>\n",
              "      <th>...</th>\n",
              "      <td>...</td>\n",
              "      <td>...</td>\n",
              "      <td>...</td>\n",
              "    </tr>\n",
              "    <tr>\n",
              "      <th>1667</th>\n",
              "      <td>1</td>\n",
              "      <td>1</td>\n",
              "      <td>uess spent last night phasing fourth dimensio</td>\n",
              "    </tr>\n",
              "    <tr>\n",
              "      <th>1668</th>\n",
              "      <td>0</td>\n",
              "      <td>0</td>\n",
              "      <td>dad gonna call get work ask crazy question</td>\n",
              "    </tr>\n",
              "    <tr>\n",
              "      <th>1669</th>\n",
              "      <td>1</td>\n",
              "      <td>1</td>\n",
              "      <td>e said</td>\n",
              "    </tr>\n",
              "    <tr>\n",
              "      <th>1670</th>\n",
              "      <td>0</td>\n",
              "      <td>0</td>\n",
              "      <td>ery hurting n meaningful line ever compromised...</td>\n",
              "    </tr>\n",
              "    <tr>\n",
              "      <th>1671</th>\n",
              "      <td>1</td>\n",
              "      <td>1</td>\n",
              "      <td>mao nice</td>\n",
              "    </tr>\n",
              "  </tbody>\n",
              "</table>\n",
              "<p>1672 rows × 3 columns</p>\n",
              "</div>"
            ],
            "text/plain": [
              "      fact  pred                                              texts\n",
              "0        1     1  jurong point crazy available bugis n great wor...\n",
              "1        1     1                             k lar joking wif u oni\n",
              "2        1     1  ree entry 2 wkly comp win fa cup final tkts 21...\n",
              "3        1     1                  dun say early hor u c already say\n",
              "4        1     1                  ah think go usf life around thoug\n",
              "...    ...   ...                                                ...\n",
              "1667     1     1      uess spent last night phasing fourth dimensio\n",
              "1668     0     0         dad gonna call get work ask crazy question\n",
              "1669     1     1                                             e said\n",
              "1670     0     0  ery hurting n meaningful line ever compromised...\n",
              "1671     1     1                                          mao nice \n",
              "\n",
              "[1672 rows x 3 columns]"
            ]
          },
          "execution_count": 46,
          "metadata": {},
          "output_type": "execute_result"
        }
      ],
      "source": [
        "result['texts'] = spam['Message']\n",
        "result"
      ]
    },
    {
      "cell_type": "code",
      "execution_count": 47,
=======
      "execution_count": null,
>>>>>>> 9cbf284a99d1f98685542ac9562d639ef5b27a32
      "metadata": {
        "colab": {
          "base_uri": "https://localhost:8080/",
          "height": 424
        },
        "id": "igpOQCJp2xTM",
        "outputId": "bfab5c1b-7c44-4e06-a298-c350ddc6324f"
      },
<<<<<<< HEAD
      "outputs": [
        {
          "data": {
            "text/html": [
              "<div>\n",
              "<style scoped>\n",
              "    .dataframe tbody tr th:only-of-type {\n",
              "        vertical-align: middle;\n",
              "    }\n",
              "\n",
              "    .dataframe tbody tr th {\n",
              "        vertical-align: top;\n",
              "    }\n",
              "\n",
              "    .dataframe thead th {\n",
              "        text-align: right;\n",
              "    }\n",
              "</style>\n",
              "<table border=\"1\" class=\"dataframe\">\n",
              "  <thead>\n",
              "    <tr style=\"text-align: right;\">\n",
              "      <th></th>\n",
              "      <th>fact</th>\n",
              "      <th>pred</th>\n",
              "      <th>texts</th>\n",
              "    </tr>\n",
              "  </thead>\n",
              "  <tbody>\n",
              "    <tr>\n",
              "      <th>17</th>\n",
              "      <td>1</td>\n",
              "      <td>0</td>\n",
              "      <td>h u remember 2 spell name yes v naughty make v...</td>\n",
              "    </tr>\n",
              "    <tr>\n",
              "      <th>40</th>\n",
              "      <td>0</td>\n",
              "      <td>1</td>\n",
              "      <td>l go ahead watt wanted sure great weekend abiol</td>\n",
              "    </tr>\n",
              "    <tr>\n",
              "      <th>47</th>\n",
              "      <td>0</td>\n",
              "      <td>1</td>\n",
              "      <td>air enough anything going</td>\n",
              "    </tr>\n",
              "    <tr>\n",
              "      <th>74</th>\n",
              "      <td>0</td>\n",
              "      <td>1</td>\n",
              "      <td>call</td>\n",
              "    </tr>\n",
              "    <tr>\n",
              "      <th>84</th>\n",
              "      <td>0</td>\n",
              "      <td>1</td>\n",
              "      <td>next stop</td>\n",
              "    </tr>\n",
              "    <tr>\n",
              "      <th>...</th>\n",
              "      <td>...</td>\n",
              "      <td>...</td>\n",
              "      <td>...</td>\n",
              "    </tr>\n",
              "    <tr>\n",
              "      <th>1525</th>\n",
              "      <td>0</td>\n",
              "      <td>1</td>\n",
              "      <td>ct employee</td>\n",
              "    </tr>\n",
              "    <tr>\n",
              "      <th>1567</th>\n",
              "      <td>0</td>\n",
              "      <td>1</td>\n",
              "      <td>late</td>\n",
              "    </tr>\n",
              "    <tr>\n",
              "      <th>1569</th>\n",
              "      <td>0</td>\n",
              "      <td>1</td>\n",
              "      <td>oday accept day u accept brother sister lover ...</td>\n",
              "    </tr>\n",
              "    <tr>\n",
              "      <th>1576</th>\n",
              "      <td>1</td>\n",
              "      <td>0</td>\n",
              "      <td>ounds gd haha wah u yan jiu fast liao</td>\n",
              "    </tr>\n",
              "    <tr>\n",
              "      <th>1586</th>\n",
              "      <td>0</td>\n",
              "      <td>1</td>\n",
              "      <td>wondering would okay call uncle john let know...</td>\n",
              "    </tr>\n",
              "  </tbody>\n",
              "</table>\n",
              "<p>79 rows × 3 columns</p>\n",
              "</div>"
            ],
            "text/plain": [
              "      fact  pred                                              texts\n",
              "17       1     0  h u remember 2 spell name yes v naughty make v...\n",
              "40       0     1    l go ahead watt wanted sure great weekend abiol\n",
              "47       0     1                          air enough anything going\n",
              "74       0     1                                               call\n",
              "84       0     1                                          next stop\n",
              "...    ...   ...                                                ...\n",
              "1525     0     1                                        ct employee\n",
              "1567     0     1                                               late\n",
              "1569     0     1  oday accept day u accept brother sister lover ...\n",
              "1576     1     0              ounds gd haha wah u yan jiu fast liao\n",
              "1586     0     1   wondering would okay call uncle john let know...\n",
              "\n",
              "[79 rows x 3 columns]"
            ]
          },
          "execution_count": 47,
          "metadata": {},
          "output_type": "execute_result"
        }
      ],
      "source": [
        "result[result.fact != result.pred]"
=======
      "outputs": [],
      "source": [
        "df_final = final_df[(final_df['fact'] != final_df['pred'])]"
>>>>>>> 9cbf284a99d1f98685542ac9562d639ef5b27a32
      ]
    }
  ],
  "metadata": {
    "colab": {
      "collapsed_sections": [
        "vXIs6Jn_lqbs",
        "AiNSOxkGxKLt"
      ],
      "name": "Статистика.ipynb",
      "provenance": []
    },
    "kernelspec": {
      "display_name": "pyda_homework",
      "language": "python",
      "name": "python3"
    },
    "language_info": {
      "codemirror_mode": {
        "name": "ipython",
        "version": 3
      },
      "file_extension": ".py",
      "mimetype": "text/x-python",
      "name": "python",
      "nbconvert_exporter": "python",
      "pygments_lexer": "ipython3",
<<<<<<< HEAD
      "version": "3.10.8"
=======
      "version": "3.10.7"
>>>>>>> 9cbf284a99d1f98685542ac9562d639ef5b27a32
    },
    "vscode": {
      "interpreter": {
        "hash": "a4c7b7f494950a4ffd7fa3c9f5f111c0a1a7806ce2df547e8085bce7c379d1c0"
      }
    }
  },
  "nbformat": 4,
  "nbformat_minor": 0
}

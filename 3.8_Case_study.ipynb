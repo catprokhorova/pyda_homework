{
  "cells": [
    {
      "cell_type": "markdown",
      "metadata": {
        "id": "Bp3QASjCjSpo"
      },
      "source": [
        "# 8. Кейс-стади"
      ]
    },
    {
      "cell_type": "code",
      "execution_count": null,
      "metadata": {
        "id": "PMj_ircujYix"
      },
      "outputs": [],
      "source": [
        "import pandas as pd\n",
        "from scipy import stats as st\n",
        "import matplotlib.pyplot as plt\n",
        "import seaborn as sns\n",
        "import glob\n",
        "import re\n",
        "import nltk\n",
        "from nltk.corpus import stopwords\n",
        "from gensim import corpora\n",
        "from nltk.stem import WordNetLemmatizer\n",
        "from sklearn.feature_extraction.text import TfidfVectorizer\n",
        "from sklearn.model_selection import train_test_split\n",
        "from sklearn.linear_model import LogisticRegression\n",
        "from sklearn.metrics import confusion_matrix"
      ]
    },
    {
      "cell_type": "markdown",
      "metadata": {
        "id": "gXxvsEvFxR91"
      },
      "source": [
        "### Задание 1\n",
        "Вернемся к набору данных о видеоиграх.\n",
        "\n",
        "Ответьте на следующие вопросы:\n",
        "\n",
        "1) Как критики относятся к спортивным играм?\n",
        "\n",
        "2) Критикам нравятся больше игры на PC или на PS4?\n",
        "\n",
        "3) Критикам больше нравятся стрелялки или стратегии?\n",
        "\n",
        "Для каждого вопроса:\n",
        "\n",
        "- сформулируйте нулевую и альтернативную гипотезы;\n",
        "- выберите пороговый уровень статистической значимости;\n",
        "- опишите полученные результаты статистического теста."
      ]
    },
    {
      "cell_type": "code",
      "execution_count": null,
      "metadata": {
        "id": "IbiwP2vZV9K8"
      },
      "outputs": [],
      "source": [
        "games = pd.read_csv('https://raw.githubusercontent.com/obulygin/pyda_homeworks/master/stat_case_study/vgsales.csv')\n",
        "games"
      ]
    },
    {
      "cell_type": "markdown",
      "metadata": {
        "id": "Q2hSrp_BWxu-"
      },
      "source": [
        "1) Как критики относятся к спортивным играм?\n",
        "\n",
        "- H0: средняя удовлетворенность критиков играми в жанре Sports >= 70 баллов\n",
        "- H1: средняя удовлетворенность критиков играми в жанре Sports < 70 баллов\n",
        "\n",
        "Пусть alpha = 0.05"
      ]
    },
    {
      "cell_type": "code",
      "execution_count": null,
      "metadata": {
        "colab": {
          "base_uri": "https://localhost:8080/",
          "height": 300
        },
        "id": "9yzs4XrFWtUe",
        "outputId": "86c42082-0d3a-4c27-db3f-68868cf2957b"
      },
      "outputs": [],
      "source": [
        "sport = games[['Name', 'Genre', 'Global_Sales', 'Critic_Score']]\n",
        "sport = sport[sport['Genre'] == 'Sports']\n",
        "\n",
        "sport.describe()"
      ]
    },
    {
      "cell_type": "code",
      "execution_count": null,
      "metadata": {
        "id": "OGA2MwwLZ1h2"
      },
      "outputs": [],
      "source": [
        "sport[sport['Critic_Score'].isnull()]"
      ]
    },
    {
      "cell_type": "markdown",
      "metadata": {
        "id": "JVqWx0POiNsG"
      },
      "source": [
        "**Давайте посмотрим на гистограмму**"
      ]
    },
    {
      "cell_type": "code",
      "execution_count": null,
      "metadata": {
        "id": "RNq2c_tKh70c"
      },
      "outputs": [],
      "source": [
        "plt.hist(sport['Critic_Score'])"
      ]
    },
    {
      "cell_type": "code",
      "execution_count": null,
      "metadata": {
        "colab": {
          "base_uri": "https://localhost:8080/"
        },
        "id": "GqNuyg9Jcyvx",
        "outputId": "349274c0-2ec5-4b05-aae4-5c5b9f899892"
      },
      "outputs": [
        {
          "name": "stdout",
          "output_type": "stream",
          "text": [
            "Не отвергаем нулевую гипотезу\n"
          ]
        }
      ],
      "source": [
        "alpha = 0.05\n",
        "result = st.ttest_1samp(sport['Critic_Score'], 70, alternative='less')\n",
        "\n",
        "if result.pvalue < alpha:\n",
        "    print('Отвергаем нулевую гипотезу, среднее меньше 70 баллов')\n",
        "else:\n",
        "    print('Не отвергаем нулевую гипотезу')"
      ]
    },
    {
      "cell_type": "markdown",
      "metadata": {
        "id": "J401hwQjfm2P"
      },
      "source": [
        "- опишите полученные результаты статистического теста:\n",
        "\n",
        "Критики (при том, что в данных около 50% игр не имеют оценки) достаточно высоко оценивают игры в жанре Sport, средняя оценка превышает 70 баллов из 100 возможных."
      ]
    },
    {
      "cell_type": "markdown",
      "metadata": {
        "id": "1vpKRqKEf2gR"
      },
      "source": [
        "2) Критикам нравятся больше игры на PC или на PS4?\n",
        "\n",
        "- H0: удовлетворенность критиков играми на PC & PS4 одинаковая\n",
        "- H1: удовлетворенность критиков играми на PC & PS4 разная (больше или меньше, там посмотрим)\n",
        "\n",
        "Пусть alpha = 0.05"
      ]
    },
    {
      "cell_type": "code",
      "execution_count": null,
      "metadata": {
        "colab": {
          "base_uri": "https://localhost:8080/"
        },
        "id": "hejguKr0ghM3",
        "outputId": "1e081ef2-53bf-4899-afe4-d6d2de3c618d"
      },
      "outputs": [],
      "source": [
        "platform = games[['Name', 'Platform', 'Global_Sales', 'Critic_Score']]\n",
        "platform = platform[(platform['Platform'] == 'PC') | (platform['Platform'] == 'PS4')]\n",
        "\n",
        "platform.info()"
      ]
    },
    {
      "cell_type": "code",
      "execution_count": null,
      "metadata": {
        "id": "-EMbp73LikTq"
      },
      "outputs": [],
      "source": [
        "plt.hist(platform['Critic_Score'])"
      ]
    },
    {
      "cell_type": "code",
      "execution_count": null,
      "metadata": {
        "id": "9woDulAZky3G"
      },
      "outputs": [],
      "source": [
        "pl_PC = platform[platform['Platform'] == 'PC']\n",
        "pl_PS4 = platform[platform['Platform'] == 'PS4']"
      ]
    },
    {
      "cell_type": "code",
      "execution_count": null,
      "metadata": {
        "colab": {
          "base_uri": "https://localhost:8080/"
        },
        "id": "-6em3HyChB5r",
        "outputId": "6a20c435-c86e-4a7f-885b-507ee94d5873"
      },
      "outputs": [],
      "source": [
        "alpha = 0.05\n",
        "result = st.ttest_ind(pl_PC['Critic_Score'], pl_PS4['Critic_Score'], equal_var=False)\n",
        "\n",
        "if result.pvalue < alpha:\n",
        "    print('Отвергаем нулевую гипотезу, удовлетворенность критиков играми на PC & PS4 разная')\n",
        "else:\n",
        "    print('Не отвергаем нулевую гипотезу')"
      ]
    },
    {
      "cell_type": "markdown",
      "metadata": {
        "id": "fryuJxaPlVu1"
      },
      "source": [
        "Вывод: так как мы не отвергаем H0, то можем сказать, что игроки в целом одинаково удовлетворены играми на PC и играми на PS4.\n",
        "Войну между пэкашниками и консольщиками можно считать завершённой :) \n",
        "\n",
        "<small>Хотя в шутеры с геймпада рубиться - это для извращенцев))))) такое вот имхо</small>"
      ]
    },
    {
      "cell_type": "markdown",
      "metadata": {
        "id": "HqBgerZulXw8"
      },
      "source": [
        "3) Критикам больше нравятся стрелялки или стратегии?\n",
        "\n",
        "- H0: критики одинаково оценивают стрелялки и стратегии\n",
        "- H1: критики по-разному оценивают стрелялки и стратегии\n",
        "\n",
        "Пусть alpha = 0.05"
      ]
    },
    {
      "cell_type": "code",
      "execution_count": null,
      "metadata": {
        "colab": {
          "base_uri": "https://localhost:8080/"
        },
        "id": "2FSKVp3WmpJL",
        "outputId": "40b049d9-c394-4a1d-ebc0-9b780ca8cdaa"
      },
      "outputs": [],
      "source": [
        "games['Genre'].unique()"
      ]
    },
    {
      "cell_type": "code",
      "execution_count": null,
      "metadata": {
        "colab": {
          "base_uri": "https://localhost:8080/"
        },
        "id": "wIwNvH9Cmz8b",
        "outputId": "f0a5cf52-33c3-4149-b60c-3b6852152883"
      },
      "outputs": [],
      "source": [
        "huinya = games[['Name', 'Genre', 'Global_Sales', 'Critic_Score']]\n",
        "shoot = huinya[huinya['Genre'] == 'Shooter']\n",
        "strat = huinya[huinya['Genre'] == 'Strategy']\n",
        "\n",
        "shoot.info(), strat.info()"
      ]
    },
    {
      "cell_type": "code",
      "execution_count": null,
      "metadata": {
        "colab": {
          "base_uri": "https://localhost:8080/"
        },
        "id": "fwuhct0enufO",
        "outputId": "62257e65-335f-4dec-bd35-0a8dad0056a0"
      },
      "outputs": [
        {
          "name": "stdout",
          "output_type": "stream",
          "text": [
            "Не отвергаем нулевую гипотезу\n"
          ]
        }
      ],
      "source": [
        "alpha = 0.05\n",
        "result = st.ttest_ind(shoot['Critic_Score'], strat['Critic_Score'], equal_var=False)\n",
        "\n",
        "if result.pvalue < alpha:\n",
        "    print('Отвергаем нулевую гипотезу, критики по-разному оценивают стрелялки и стратегии')\n",
        "else:\n",
        "    print('Не отвергаем нулевую гипотезу')"
      ]
    },
    {
      "cell_type": "markdown",
      "metadata": {
        "id": "Zf27KW0jogGo"
      },
      "source": [
        "результат странный, надо посмотреть визуально на распределение оценок"
      ]
    },
    {
      "cell_type": "code",
      "execution_count": null,
      "metadata": {
        "colab": {
          "base_uri": "https://localhost:8080/",
          "height": 650
        },
        "id": "Nmx3X1XsooOl",
        "outputId": "94159a3d-c3c8-4f9d-a534-62a5afb8e299"
      },
      "outputs": [],
      "source": [
        "sns.boxplot(shoot['Critic_Score'])\n",
        "plt.show()\n",
        "sns.boxplot(strat['Critic_Score'])"
      ]
    },
    {
      "cell_type": "markdown",
      "metadata": {
        "id": "r2RqHtA1o4zk"
      },
      "source": [
        "хм, действительно оценки критиков шутеров и стратегий не сильно различаются, окей"
      ]
    },
    {
      "cell_type": "markdown",
      "metadata": {
        "id": "ie3iACJTxZKa"
      },
      "source": [
        "### Задание 2\n",
        "Реализуйте базовую модель логистической регрессии для классификации текстовых сообщений (используемые данные здесь) по признаку спама. Для этого:\n",
        "\n",
        "- Привидите весь текст к нижнему регистру;\n",
        "- Удалите мусорные символы;\n",
        "- Удалите стоп-слова;\n",
        "- Привидите все слова к начальной форме;\n",
        "- Преобразуйте все сообщения в вектора TF-IDF. Можете поэкспериментировать с параметрами TfidfVectorizer;\n",
        "- Разделите данные на тестовые и тренировочные в соотношении 30/70, укажите random_state=42. Используйте train_test_split;\n",
        "- Постройте модель логистической регрессии, укажите random_state=42, оцените ее точность на тестовых данных;\n",
        "- Опишите результаты при помощи confusion_matrix;\n",
        "- Постройте датафрейм, который будет содержать все исходные тексты сообщений, классифицированные неправильно (с указанием фактического и предсказанного)."
      ]
    },
    {
      "cell_type": "code",
      "execution_count": 28,
      "metadata": {
        "id": "y9EBLZ0NxnZr"
      },
      "outputs": [],
      "source": [
        "spam = pd.read_csv('https://raw.githubusercontent.com/obulygin/pyda_homeworks/master/stat_case_study/spam.csv')\n",
        "spam.loc[spam.Category == 'ham', 'Class'] = 1\n",
        "spam.loc[spam.Category == 'spam', 'Class'] = 0\n",
        "\n",
        "spam['Class'] = spam['Class'].astype('int')\n",
        "spam = spam.drop(['Category'], axis=1)"
      ]
    },
    {
      "cell_type": "code",
      "execution_count": 29,
      "metadata": {
        "id": "h9nWc3W1ccT9"
      },
      "outputs": [],
      "source": [
        "spam_class = spam['Class']"
      ]
    },
    {
      "cell_type": "code",
      "execution_count": 30,
      "metadata": {
        "id": "Isue4-ud6vBq"
      },
      "outputs": [],
      "source": [
        "#Привидите весь текст к нижнему регистру\n",
        "spam['Message'] = spam['Message'].str.lower()\n",
        "\n",
        "#Удалите мусорные символы\n",
        "spam['Message'] = spam['Message'].replace(['[\\W_]+'], [' '], regex=True)"
      ]
    },
    {
      "cell_type": "code",
      "execution_count": null,
      "metadata": {
        "colab": {
          "base_uri": "https://localhost:8080/"
        },
        "id": "Iev4hTctw_XX",
        "outputId": "1c6fb914-bddf-46db-b0b9-0df4d9c5e979"
      },
      "outputs": [],
      "source": [
        "#Удалите стоп-слова:\n",
        "spam['Message'] = spam['Message'].str[1:-1].str.split(' ').tolist()\n",
        "\n",
        "nltk.download('stopwords')\n",
        "stopwords_set = set(stopwords.words('english'))\n",
        "spam['Message'] = pd.Series([[word for word in text if word not in stopwords_set] for text in spam['Message']])"
      ]
    },
    {
      "cell_type": "code",
      "execution_count": null,
      "metadata": {
        "colab": {
          "base_uri": "https://localhost:8080/"
        },
        "id": "RmGM_QqL5EgQ",
        "outputId": "49374c6f-ebcf-4b7b-a3c2-b18fbdc62739"
      },
      "outputs": [],
      "source": [
        "#Привидите все слова к начальной форме:\n",
        "nltk.download('omw-1.4')\n",
        "nltk.download('wordnet')\n",
        "wordnet_lemmatizer = WordNetLemmatizer()\n",
        "\n",
        "spam['Message'] = pd.Series([wordnet_lemmatizer.lemmatize(word) for word in text] for text in spam['Message'])"
      ]
    },
    {
      "cell_type": "code",
      "execution_count": 33,
      "metadata": {
        "id": "me7FYiiYVO3x"
      },
      "outputs": [],
      "source": [
        "#Превращаем в строку, иначе fit_transform заругается\n",
        "spam['Message'] = spam['Message'].apply(lambda x: ' '.join(x))"
      ]
    },
    {
      "cell_type": "code",
      "execution_count": 34,
      "metadata": {
        "colab": {
          "base_uri": "https://localhost:8080/"
        },
        "id": "EZOFzMVp81Kz",
        "outputId": "25acdb07-a24a-4f51-f264-b5c1209c199a"
      },
      "outputs": [],
      "source": [
        "#Преобразуйте все сообщения в вектора TF-IDF:\n",
        "\n",
        "tfidf = TfidfVectorizer(stop_words=stopwords_set)\n",
        "tfidf_matrix = tfidf.fit_transform(spam['Message'])\n",
        "names = tfidf.get_feature_names_out()\n",
        "tfidf_matrix = pd.DataFrame(tfidf_matrix.toarray(), columns=names)"
      ]
    },
    {
      "cell_type": "code",
      "execution_count": null,
      "metadata": {
        "id": "_7kH1yWXY_8Z"
      },
      "outputs": [],
      "source": [
        "tfidf_matrix.describe()"
      ]
    },
    {
      "cell_type": "code",
      "execution_count": 37,
      "metadata": {
        "id": "QuS47CmlsL44"
      },
      "outputs": [],
      "source": [
        "#Разделите данные на тестовые и тренировочные в соотношении 30/70, укажите random_state=42\n",
        "\n",
        "x_train, x_test, y_train, y_test = train_test_split(tfidf_matrix, spam_class, random_state = 42, test_size = 0.30)"
      ]
    },
    {
      "cell_type": "code",
      "execution_count": null,
      "metadata": {
        "colab": {
          "base_uri": "https://localhost:8080/"
        },
        "id": "WIaRffvqhgab",
        "outputId": "def95fcd-8a71-4607-aac6-3d5727729326"
      },
      "outputs": [],
      "source": [
        "#Постройте модель логистической регрессии, укажите random_state=42, оцените ее точность на тестовых данных\n",
        "\n",
        "lr = LogisticRegression(random_state=42).fit(x_train, y_train)\n",
        "y_pred = lr.predict(x_test)\n",
        "lr.predict_proba(x_test)\n",
        "\n",
        "lr.score(x_test, y_test)"
      ]
    },
    {
      "cell_type": "code",
      "execution_count": null,
      "metadata": {
        "colab": {
          "base_uri": "https://localhost:8080/"
        },
        "id": "K-OpAtx-kCyY",
        "outputId": "c02cfcbe-3bc5-48ad-df91-884db244daab"
      },
      "outputs": [],
      "source": [
        "#Опишите результаты при помощи confusion_matrix\n",
        "\n",
        "confusion_matrix(y_test, pd.Series(y_pred))"
      ]
    },
    {
      "cell_type": "code",
      "execution_count": null,
      "metadata": {
        "colab": {
          "base_uri": "https://localhost:8080/",
          "height": 424
        },
        "id": "RcbVYeGZ-R2x",
        "outputId": "d18fb7e3-79e8-4a9f-9afe-54812461f7aa"
      },
      "outputs": [],
      "source": [
        "#Постройте датафрейм, который будет содержать все исходные тексты сообщений, классифицированные неправильно \n",
        "# (с указанием фактического и предсказанного)\n",
        "\n",
        "predict = lr.predict(tfidf_matrix)\n",
        "final_df = pd.DataFrame()\n",
        "final_df['Message'] = spam['Message']\n",
        "final_df['fact'] = spam['Category']\n",
        "final_df['pred'] = predict\n",
        "\n",
        "final_df"
      ]
    },
    {
      "cell_type": "code",
      "execution_count": null,
      "metadata": {
        "colab": {
          "base_uri": "https://localhost:8080/",
          "height": 424
        },
        "id": "igpOQCJp2xTM",
        "outputId": "bfab5c1b-7c44-4e06-a298-c350ddc6324f"
      },
      "outputs": [],
      "source": [
        "df_final = final_df[(final_df['fact'] != final_df['pred'])]"
      ]
    }
  ],
  "metadata": {
    "colab": {
      "collapsed_sections": [
        "vXIs6Jn_lqbs",
        "AiNSOxkGxKLt"
      ],
      "name": "Статистика.ipynb",
      "provenance": []
    },
    "kernelspec": {
      "display_name": "pyda_homework",
      "language": "python",
      "name": "python3"
    },
    "language_info": {
      "codemirror_mode": {
        "name": "ipython",
        "version": 3
      },
      "file_extension": ".py",
      "mimetype": "text/x-python",
      "name": "python",
      "nbconvert_exporter": "python",
      "pygments_lexer": "ipython3",
      "version": "3.10.7"
    },
    "vscode": {
      "interpreter": {
        "hash": "a4c7b7f494950a4ffd7fa3c9f5f111c0a1a7806ce2df547e8085bce7c379d1c0"
      }
    }
  },
  "nbformat": 4,
  "nbformat_minor": 0
}

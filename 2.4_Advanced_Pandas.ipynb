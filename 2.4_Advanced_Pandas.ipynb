{
 "cells": [
  {
   "cell_type": "markdown",
   "metadata": {},
   "source": [
    "# 4. Продвинутый pandas"
   ]
  },
  {
   "cell_type": "code",
   "execution_count": 1,
   "metadata": {},
   "outputs": [],
   "source": [
    "import pandas as pd"
   ]
  },
  {
   "cell_type": "markdown",
   "metadata": {},
   "source": [
    "### Задание 1\n",
    "\n",
    "Для датафрейма <i>visit_log</i> из материалов занятия создайте столбец source_type по следующим правилам:\n",
    "\n",
    "- если источник traffic_source равен yandex или google, то в source_type ставится organic\n",
    "- для источников paid и email из России - ставим ad\n",
    "- для источников paid и email не из России - ставим other\n",
    "- все остальные варианты берем из traffic_source без изменений"
   ]
  },
  {
   "cell_type": "code",
   "execution_count": 20,
   "metadata": {},
   "outputs": [
    {
     "data": {
      "text/html": [
       "<div>\n",
       "<style scoped>\n",
       "    .dataframe tbody tr th:only-of-type {\n",
       "        vertical-align: middle;\n",
       "    }\n",
       "\n",
       "    .dataframe tbody tr th {\n",
       "        vertical-align: top;\n",
       "    }\n",
       "\n",
       "    .dataframe thead th {\n",
       "        text-align: right;\n",
       "    }\n",
       "</style>\n",
       "<table border=\"1\" class=\"dataframe\">\n",
       "  <thead>\n",
       "    <tr style=\"text-align: right;\">\n",
       "      <th></th>\n",
       "      <th>timestamp</th>\n",
       "      <th>visit_id</th>\n",
       "      <th>url</th>\n",
       "      <th>region</th>\n",
       "      <th>user_id</th>\n",
       "      <th>traffic_source</th>\n",
       "    </tr>\n",
       "  </thead>\n",
       "  <tbody>\n",
       "    <tr>\n",
       "      <th>9</th>\n",
       "      <td>1549980765</td>\n",
       "      <td>3e7077fd2f</td>\n",
       "      <td>https://host.ru/df646c3676cc259fa0</td>\n",
       "      <td>Russia</td>\n",
       "      <td>6f9de8c8b6</td>\n",
       "      <td>email</td>\n",
       "    </tr>\n",
       "    <tr>\n",
       "      <th>20</th>\n",
       "      <td>1549980816</td>\n",
       "      <td>de47c9b27e</td>\n",
       "      <td>https://host.ru/8fe7c39e5c598bbc54</td>\n",
       "      <td>Ukraine</td>\n",
       "      <td>2f25b6e26a</td>\n",
       "      <td>email</td>\n",
       "    </tr>\n",
       "    <tr>\n",
       "      <th>23</th>\n",
       "      <td>1549980839</td>\n",
       "      <td>015275e61f</td>\n",
       "      <td>https://host.ru/c8d9213a31839f9a3a</td>\n",
       "      <td>Russia</td>\n",
       "      <td>21bdc57777</td>\n",
       "      <td>email</td>\n",
       "    </tr>\n",
       "    <tr>\n",
       "      <th>27</th>\n",
       "      <td>1549980853</td>\n",
       "      <td>ea49aa9f6f</td>\n",
       "      <td>https://host.ru/1afc5618562365020a</td>\n",
       "      <td>Russia</td>\n",
       "      <td>20e8e91ecf</td>\n",
       "      <td>email</td>\n",
       "    </tr>\n",
       "    <tr>\n",
       "      <th>33</th>\n",
       "      <td>1549980897</td>\n",
       "      <td>7f9c9e31ac</td>\n",
       "      <td>https://host.ru/ac2d98a5a63e7c6e28</td>\n",
       "      <td>Belarus</td>\n",
       "      <td>38f45e7f9b</td>\n",
       "      <td>email</td>\n",
       "    </tr>\n",
       "    <tr>\n",
       "      <th>...</th>\n",
       "      <td>...</td>\n",
       "      <td>...</td>\n",
       "      <td>...</td>\n",
       "      <td>...</td>\n",
       "      <td>...</td>\n",
       "      <td>...</td>\n",
       "    </tr>\n",
       "    <tr>\n",
       "      <th>18904</th>\n",
       "      <td>1550094129</td>\n",
       "      <td>db3ed9712d</td>\n",
       "      <td>https://host.ru/186c4d6b47dbde0e74</td>\n",
       "      <td>Russia</td>\n",
       "      <td>6a670538ac</td>\n",
       "      <td>email</td>\n",
       "    </tr>\n",
       "    <tr>\n",
       "      <th>18905</th>\n",
       "      <td>1550094130</td>\n",
       "      <td>0f83f523bd</td>\n",
       "      <td>https://host.ru/c8d9213a31839f9a3a</td>\n",
       "      <td>Russia</td>\n",
       "      <td>f0ad6c3a39</td>\n",
       "      <td>email</td>\n",
       "    </tr>\n",
       "    <tr>\n",
       "      <th>18921</th>\n",
       "      <td>1550094218</td>\n",
       "      <td>b9723ef95e</td>\n",
       "      <td>https://host.ru/c8d9213a31839f9a3a</td>\n",
       "      <td>Ukraine</td>\n",
       "      <td>6d616e3a35</td>\n",
       "      <td>email</td>\n",
       "    </tr>\n",
       "    <tr>\n",
       "      <th>18923</th>\n",
       "      <td>1550094221</td>\n",
       "      <td>42af1bbaa1</td>\n",
       "      <td>https://host.ru/6fda01ec57f23abc9e</td>\n",
       "      <td>Russia</td>\n",
       "      <td>a15d5f2ad9</td>\n",
       "      <td>email</td>\n",
       "    </tr>\n",
       "    <tr>\n",
       "      <th>18937</th>\n",
       "      <td>1550094323</td>\n",
       "      <td>b3b634f824</td>\n",
       "      <td>https://host.ru/39fa884393666d45fc</td>\n",
       "      <td>Russia</td>\n",
       "      <td>7d27a58fb8</td>\n",
       "      <td>email</td>\n",
       "    </tr>\n",
       "  </tbody>\n",
       "</table>\n",
       "<p>3875 rows × 6 columns</p>\n",
       "</div>"
      ],
      "text/plain": [
       "        timestamp    visit_id                                 url   region  \\\n",
       "9      1549980765  3e7077fd2f  https://host.ru/df646c3676cc259fa0   Russia   \n",
       "20     1549980816  de47c9b27e  https://host.ru/8fe7c39e5c598bbc54  Ukraine   \n",
       "23     1549980839  015275e61f  https://host.ru/c8d9213a31839f9a3a   Russia   \n",
       "27     1549980853  ea49aa9f6f  https://host.ru/1afc5618562365020a   Russia   \n",
       "33     1549980897  7f9c9e31ac  https://host.ru/ac2d98a5a63e7c6e28  Belarus   \n",
       "...           ...         ...                                 ...      ...   \n",
       "18904  1550094129  db3ed9712d  https://host.ru/186c4d6b47dbde0e74   Russia   \n",
       "18905  1550094130  0f83f523bd  https://host.ru/c8d9213a31839f9a3a   Russia   \n",
       "18921  1550094218  b9723ef95e  https://host.ru/c8d9213a31839f9a3a  Ukraine   \n",
       "18923  1550094221  42af1bbaa1  https://host.ru/6fda01ec57f23abc9e   Russia   \n",
       "18937  1550094323  b3b634f824  https://host.ru/39fa884393666d45fc   Russia   \n",
       "\n",
       "          user_id traffic_source  \n",
       "9      6f9de8c8b6          email  \n",
       "20     2f25b6e26a          email  \n",
       "23     21bdc57777          email  \n",
       "27     20e8e91ecf          email  \n",
       "33     38f45e7f9b          email  \n",
       "...           ...            ...  \n",
       "18904  6a670538ac          email  \n",
       "18905  f0ad6c3a39          email  \n",
       "18921  6d616e3a35          email  \n",
       "18923  a15d5f2ad9          email  \n",
       "18937  7d27a58fb8          email  \n",
       "\n",
       "[3875 rows x 6 columns]"
      ]
     },
     "execution_count": 20,
     "metadata": {},
     "output_type": "execute_result"
    }
   ],
   "source": [
    "visit_log = pd.read_csv('Data_for_homeworks/HW_2_4/visit_log.csv', sep = ';')\n",
    "visit_log[visit_log['traffic_source'] == 'email']"
   ]
  },
  {
   "cell_type": "code",
   "execution_count": null,
   "metadata": {},
   "outputs": [],
   "source": [
    "def rules(row):\n",
    "  traffic_source = row['traffic_source']\n",
    "  region = row['region']\n",
    "\n",
    "  if (traffic_source == 'yandex' or traffic_source == 'google'):\n",
    "    return 'organic'\n",
    "\n",
    "  elif (traffic_source == 'paid' or traffic_source == 'email') and region == 'Russia':\n",
    "    return 'ad'\n",
    "\n",
    "  elif (traffic_source == 'paid' or traffic_source == 'email') and region != 'Russia': \n",
    "    return 'other'\n",
    "\n",
    "  else:\n",
    "    return traffic_source"
   ]
  },
  {
   "cell_type": "code",
   "execution_count": null,
   "metadata": {},
   "outputs": [],
   "source": [
    "visit_log['source_type'] = visit_log.apply(rules, axis = 1)"
   ]
  },
  {
   "cell_type": "code",
   "execution_count": null,
   "metadata": {},
   "outputs": [],
   "source": [
    "#без ф-ии\n",
    "(visit_log.loc[(visit_log.traffic_source == 'yandex') | \n",
    "               (visit_log.traffic_source == 'google'), 'source_type'] = 'organic')\n",
    "\n",
    "(visit_log.loc[((visit_log.traffic_source == 'paid') | \n",
    "                (visit_log.traffic_source == 'email')) & \n",
    "                (visit_log.region =='Russia'), 'source_type'] = 'ad')\n",
    "\n",
    "(visit_log.loc[((visit_log.traffic_source == 'paid') | \n",
    "                (visit_log.traffic_source == 'email')) & \n",
    "                (visit_log.region !='Russia'), 'source_type'] = 'other')\n",
    "\n",
    "visit_log.loc[visit_log.source_type.isnull(), 'source_type'] = visit_log['traffic_source']\n",
    "visit_log[10:20]"
   ]
  },
  {
   "cell_type": "markdown",
   "metadata": {},
   "source": [
    "### Задание 2\n",
    "\n",
    "В файле URLs.txt содержатся url страниц новостного сайта. Вам необходимо отфильтровать его по адресам страниц с текстами новостей. Известно, что шаблон страницы новостей имеет внутри url следующую конструкцию: /, затем 8 цифр, затем дефис. Выполните следующие действия:\n",
    "\n",
    "- Прочитайте содержимое файла в датафрейм\n",
    "- Отфильтруйте страницы с текстом новостей, используя метод str.contains и регулярное выражение в соответствии с заданным шаблоном"
   ]
  },
  {
   "cell_type": "code",
   "execution_count": 19,
   "metadata": {},
   "outputs": [
    {
     "data": {
      "text/html": [
       "<div>\n",
       "<style scoped>\n",
       "    .dataframe tbody tr th:only-of-type {\n",
       "        vertical-align: middle;\n",
       "    }\n",
       "\n",
       "    .dataframe tbody tr th {\n",
       "        vertical-align: top;\n",
       "    }\n",
       "\n",
       "    .dataframe thead th {\n",
       "        text-align: right;\n",
       "    }\n",
       "</style>\n",
       "<table border=\"1\" class=\"dataframe\">\n",
       "  <thead>\n",
       "    <tr style=\"text-align: right;\">\n",
       "      <th></th>\n",
       "      <th>url</th>\n",
       "    </tr>\n",
       "  </thead>\n",
       "  <tbody>\n",
       "    <tr>\n",
       "      <th>3</th>\n",
       "      <td>/politics/36188461-s-marta-zhizn-rossiyan-susc...</td>\n",
       "    </tr>\n",
       "    <tr>\n",
       "      <th>4</th>\n",
       "      <td>/world/36007585-tramp-pridumal-kak-reshit-ukra...</td>\n",
       "    </tr>\n",
       "    <tr>\n",
       "      <th>5</th>\n",
       "      <td>/science/36157853-nasa-sobiraet-ekstrennuyu-pr...</td>\n",
       "    </tr>\n",
       "    <tr>\n",
       "      <th>6</th>\n",
       "      <td>/video/36001498-poyavilis-pervye-podrobnosti-g...</td>\n",
       "    </tr>\n",
       "    <tr>\n",
       "      <th>7</th>\n",
       "      <td>/world/36007585-tramp-pridumal-kak-reshit-ukra...</td>\n",
       "    </tr>\n",
       "    <tr>\n",
       "      <th>10</th>\n",
       "      <td>/middleeast/36131117-divizion-s-400-ne-zametil...</td>\n",
       "    </tr>\n",
       "    <tr>\n",
       "      <th>11</th>\n",
       "      <td>/economics/36065674-rossiyane-vozmutilis-minim...</td>\n",
       "    </tr>\n",
       "    <tr>\n",
       "      <th>12</th>\n",
       "      <td>/politics/36118047-otets-24-detey-potreboval-i...</td>\n",
       "    </tr>\n",
       "    <tr>\n",
       "      <th>13</th>\n",
       "      <td>/travel/36194479-v-sheremetevo-passazhiry-ustr...</td>\n",
       "    </tr>\n",
       "    <tr>\n",
       "      <th>14</th>\n",
       "      <td>/politics/35638742-nesolidno-mariya-zaharova-s...</td>\n",
       "    </tr>\n",
       "  </tbody>\n",
       "</table>\n",
       "</div>"
      ],
      "text/plain": [
       "                                                  url\n",
       "3   /politics/36188461-s-marta-zhizn-rossiyan-susc...\n",
       "4   /world/36007585-tramp-pridumal-kak-reshit-ukra...\n",
       "5   /science/36157853-nasa-sobiraet-ekstrennuyu-pr...\n",
       "6   /video/36001498-poyavilis-pervye-podrobnosti-g...\n",
       "7   /world/36007585-tramp-pridumal-kak-reshit-ukra...\n",
       "10  /middleeast/36131117-divizion-s-400-ne-zametil...\n",
       "11  /economics/36065674-rossiyane-vozmutilis-minim...\n",
       "12  /politics/36118047-otets-24-detey-potreboval-i...\n",
       "13  /travel/36194479-v-sheremetevo-passazhiry-ustr...\n",
       "14  /politics/35638742-nesolidno-mariya-zaharova-s..."
      ]
     },
     "execution_count": 19,
     "metadata": {},
     "output_type": "execute_result"
    }
   ],
   "source": [
    "urls = pd.read_table('Data_for_homeworks/HW_2_4/URLs.txt',sep='\\s+', engine='python')\n",
    "urls[urls['url'].str.contains('/\\d{8}-')].head(10)"
   ]
  },
  {
   "cell_type": "markdown",
   "metadata": {},
   "source": [
    "### Задание 3\n",
    "\n",
    "Используйте файл с оценками фильмов ml-latest-small/ratings.csv. Посчитайте среднее время жизни пользователей, которые выставили более 100 оценок. Под временем жизни понимается разница между максимальным и минимальным значением столбца timestamp для данного значения userId."
   ]
  },
  {
   "cell_type": "code",
   "execution_count": null,
   "metadata": {},
   "outputs": [],
   "source": [
    "import numpy as np\n",
    "import pandas as pd\n",
    "from datetime import datetime, timedelta"
   ]
  },
  {
   "cell_type": "code",
   "execution_count": null,
   "metadata": {},
   "outputs": [],
   "source": [
    "ratings = pd.read_csv('Data_for_homeworks/HW_2_2/ratings.csv')"
   ]
  },
  {
   "cell_type": "code",
   "execution_count": null,
   "metadata": {},
   "outputs": [],
   "source": [
    "#вариант 1\n",
    "(ratings\n",
    " .groupby('userId')\n",
    " .agg(\n",
    "     user_live=('timestamp', np.ptp),\n",
    "     rating_count=('rating', 'count'),\n",
    " )\n",
    " .query('rating_count > 100')\n",
    " ['user_live']\n",
    " .astype('timedelta64[s]')\n",
    " .mean()\n",
    ")"
   ]
  },
  {
   "cell_type": "code",
   "execution_count": null,
   "metadata": {},
   "outputs": [],
   "source": [
    "#вариант 2\n",
    "ratings = ratings.groupby(['userId']).agg({'rating': 'count',\n",
    "                                            'timestamp': lambda x: x.max() - x.min()})\n",
    "ratings[ratings.rating > 100]['timestamp'].astype('timedelta64[s]').mean()"
   ]
  },
  {
   "cell_type": "code",
   "execution_count": null,
   "metadata": {},
   "outputs": [],
   "source": [
    "#вариант 3\n",
    "ratings = pd.read_csv('ratings.csv')\n",
    "ratings = ratings.groupby(['userId']).agg(['count', 'min', 'max'])"
   ]
  },
  {
   "cell_type": "code",
   "execution_count": null,
   "metadata": {},
   "outputs": [],
   "source": [
    "def classify(row):\n",
    "    return row['timestamp']['max'] - row['timestamp']['min']   "
   ]
  },
  {
   "cell_type": "code",
   "execution_count": null,
   "metadata": {},
   "outputs": [],
   "source": [
    "ratings['lifetime'] = ratings.apply(classify, axis = 1)\n",
    "ratings[ratings['rating']['count'] > 100]['lifetime'].astype('timedelta64[s]').mean()"
   ]
  },
  {
   "cell_type": "markdown",
   "metadata": {},
   "source": [
    "### Задание 4\n",
    "\n",
    "Дана статистика услуг перевозок клиентов компании по типам (см. файл “Python_13_join.ipynb” в разделе Материалы для лекции «Продвинутый pandas» ---- Ноутбуки к лекции «Продвинутый pandas»).\n",
    "Необходимо сформировать две таблицы:\n",
    "- таблицу с тремя типами выручки для каждого client_id без указания адреса клиента\n",
    "- аналогичную таблицу по типам выручки с указанием адреса клиента\n",
    "\n",
    "<i>Обратите внимание, что в процессе объединения таблиц данные не должны теряться.</i>\n",
    "\n",
    "Дана статистика услуг перевозок клиентов компании по типам:\n",
    "\n",
    "- rzd - железнодорожные перевозки\n",
    "- auto - автомобильные перевозки\n",
    "- air - воздушные перевозки\n",
    "- client_base - адреса клиентов"
   ]
  },
  {
   "cell_type": "code",
   "execution_count": null,
   "metadata": {},
   "outputs": [],
   "source": [
    "rzd = pd.DataFrame(\n",
    "    {\n",
    "        'client_id': [111, 112, 113, 114, 115],\n",
    "        'rzd_revenue': [1093, 2810, 10283, 5774, 981]\n",
    "    }\n",
    ")\n",
    "auto = pd.DataFrame(\n",
    "    {\n",
    "        'client_id': [113, 114, 115, 116, 117],\n",
    "        'auto_revenue': [57483, 83, 912, 4834, 98]\n",
    "    }\n",
    ")\n",
    "air = pd.DataFrame(\n",
    "    {\n",
    "        'client_id': [115, 116, 117, 118],\n",
    "        'air_revenue': [81, 4, 13, 173]\n",
    "    }\n",
    ")\n",
    "client_base = pd.DataFrame(\n",
    "    {\n",
    "        'client_id': [111, 112, 113, 114, 115, 116, 117, 118],\n",
    "        'address': ['Комсомольская 4', 'Энтузиастов 8а', 'Левобережная 1а', 'Мира 14', 'ЗЖБИиДК 1', \n",
    "                    'Строителей 18', 'Панфиловская 33', 'Мастеркова 4']\n",
    "    }\n",
    ")"
   ]
  },
  {
   "cell_type": "code",
   "execution_count": null,
   "metadata": {},
   "outputs": [],
   "source": [
    "merged_data = (client_base.merge(rzd, on = 'client_id', how = 'outer')\n",
    "               .merge(auto, on = 'client_id', how = 'outer')\n",
    "               .merge(air, on = 'client_id', how = 'outer')\n",
    "               .fillna(0))"
   ]
  },
  {
   "cell_type": "code",
   "execution_count": null,
   "metadata": {},
   "outputs": [],
   "source": [
    "#с адресом\n",
    "merged_data"
   ]
  },
  {
   "cell_type": "code",
   "execution_count": null,
   "metadata": {},
   "outputs": [],
   "source": [
    "#без адреса\n",
    "merged_data.drop(columns = 'address')"
   ]
  }
 ],
 "metadata": {
  "kernelspec": {
   "display_name": "Python 3.10.5 ('pyda': venv)",
   "language": "python",
   "name": "python3"
  },
  "language_info": {
   "codemirror_mode": {
    "name": "ipython",
    "version": 3
   },
   "file_extension": ".py",
   "mimetype": "text/x-python",
   "name": "python",
   "nbconvert_exporter": "python",
   "pygments_lexer": "ipython3",
   "version": "3.10.8"
  },
  "orig_nbformat": 4,
  "vscode": {
   "interpreter": {
    "hash": "69a8be0c0f83135f164c3d044bb97c429030d9f47563103bd0a6211d1d209a91"
   }
  }
 },
 "nbformat": 4,
 "nbformat_minor": 2
}

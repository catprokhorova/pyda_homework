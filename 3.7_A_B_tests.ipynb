{
 "cells": [
  {
   "cell_type": "markdown",
   "metadata": {},
   "source": [
    "# 7. Статистическая проверка гипотез для связанных выборок. A/B тесты"
   ]
  },
  {
   "cell_type": "code",
   "execution_count": null,
   "metadata": {},
   "outputs": [],
   "source": [
    "import math\n",
    "import seaborn as sns\n",
    "import scipy.stats as st\n",
    "from scipy.stats import wilcoxon\n",
    "from scipy.stats import mannwhitneyu\n",
    "from scipy.stats import f_oneway\n",
    "import numpy as np\n",
    "import pandas as pd\n",
    "import matplotlib.pyplot as plt"
   ]
  },
  {
   "cell_type": "markdown",
   "metadata": {},
   "source": [
    "#### Описание набора данных\n",
    "Профессор Оук скопировал все содержимое память одного устройства Pokedex, в результате чего получился набор данных, с которым Вы будете работать в этой задаче. В этом файле каждая строка представляет характеристики одного покемона:\n",
    "\n",
    "* `pid`: Numeric - ID покемона\n",
    "* `HP`: Numeric - Очки здоровья\n",
    "* `Attack`: Numeric - Сила обычной атаки\n",
    "* `Defense`: Numeric - Сила обычной защиты\n",
    "* `Sp. Atk`: Numeric - Сила специальной атаки\n",
    "* `Sp. Def`: Numeric - Сила специальной защиты\n",
    "* `Speed`: Numeric - Скорость движений\n",
    "* `Legendary`: Boolean - «True», если покемон редкий\n",
    "* `Class 1`: Categorical - Класс покемона\n",
    "* `Class 2`: Categorical - Класс покемона"
   ]
  },
  {
   "cell_type": "code",
   "execution_count": null,
   "metadata": {},
   "outputs": [],
   "source": [
    "pokemon_path = 'https://raw.githubusercontent.com/a-milenkin/datasets_for_t-tests/main/pokemon.csv'\n",
    "pokemon = pd.read_csv(pokemon_path, error_bad_lines=False)  # Откроем датасет\n",
    "pokemon.head()\n",
    "\n",
    " \n",
    "#Обратите внимание, что у покемона может быть один или два класса. Если у покемона два класса, считается,\n",
    "#что они имеют одинаковую значимость."
   ]
  },
  {
   "cell_type": "markdown",
   "metadata": {},
   "source": [
    "### Задание № 1 (Обязательно):\n",
    "Профессор Оук подозревает, что покемоны в классе grass имеют более сильную обычную атаку, чем у покемонов в классе rock. Проверьте, прав ли он, и убедите его в своем выводе статистически.\n",
    "\n",
    "Примечание: если есть покемоны, которые относятся к обоим классам, просто выбросьте их;\n",
    "\n",
    "Вы можете предположить, что распределение обычных атак является нормальным для всех классов покемонов."
   ]
  },
  {
   "cell_type": "code",
   "execution_count": null,
   "metadata": {},
   "outputs": [],
   "source": [
    "df = pokemon.copy()\n",
    "df = df.drop(['pid'], axis = 1).drop(['HP'], axis = 1).drop(['Defense'], axis = 1).drop(['Sp. Atk'], axis = 1).drop(['Sp. Def'], axis = 1).drop(['Speed'], axis = 1).drop(['Legendary'], axis = 1)\n",
    "df = df.drop(df.loc[(df['Class 1'] + df['Class 2']).isin(['GrassRock', 'RockGrass'])].index)\n",
    "df = df.loc[df['Class 1'].isin(['Grass', 'Rock']) | df['Class 2'].isin(['Grass', 'Rock'])]\n",
    "\n",
    "df"
   ]
  },
  {
   "cell_type": "code",
   "execution_count": null,
   "metadata": {},
   "outputs": [],
   "source": [
    "grass = df[(df['Class 1'] == 'Grass') | (df['Class 2'] == 'Grass')]\n",
    "rock = df[(df['Class 1'] == 'Rock') | (df['Class 2'] == 'Rock')]"
   ]
  },
  {
   "cell_type": "markdown",
   "metadata": {},
   "source": [
    "можно посмотреть, есть ли различия визуально:"
   ]
  },
  {
   "cell_type": "code",
   "execution_count": null,
   "metadata": {},
   "outputs": [],
   "source": [
    "sns.boxplot(grass['Attack'])"
   ]
  },
  {
   "cell_type": "code",
   "execution_count": null,
   "metadata": {},
   "outputs": [],
   "source": [
    "b = sns.boxplot(rock['Attack'])"
   ]
  },
  {
   "cell_type": "markdown",
   "metadata": {},
   "source": [
    "на графике видно, что средняя сила атаки у покемонов в клаасе rock все же выше"
   ]
  },
  {
   "cell_type": "code",
   "execution_count": null,
   "metadata": {},
   "outputs": [],
   "source": [
    "t, p = st.ttest_ind(grass['Attack'], rock['Attack'], equal_var=False)\n",
    "print(t, p)"
   ]
  },
  {
   "cell_type": "markdown",
   "metadata": {},
   "source": [
    "выше проверили на стат значимость выборки\n",
    "\n",
    "*я пыталась проверить по критерию Уилкоксона, но лучше по Манна-Уитни так как на Уилкоксона всё ругается"
   ]
  },
  {
   "cell_type": "code",
   "execution_count": null,
   "metadata": {},
   "outputs": [],
   "source": [
    "#H0 - нет стат значимых различий\n",
    "#H1 - есть стат значимые различия\n",
    "\n",
    "stat, p = wilcoxon(grass['Attack'], rock['Attack'])\n",
    "print('Statistics=%.3f, p=%.3f' % (stat, p))\n",
    "\n",
    "alpha = 0.05\n",
    "if p > alpha:\n",
    "    print('нет стат значимых различий (не отвергаем H0)')\n",
    "else:\n",
    "    print('есть стат значимые различия (отвергаем H0)')"
   ]
  },
  {
   "cell_type": "code",
   "execution_count": null,
   "metadata": {},
   "outputs": [],
   "source": [
    "len(grass['Attack']), len(rock['Attack'])"
   ]
  },
  {
   "cell_type": "code",
   "execution_count": null,
   "metadata": {},
   "outputs": [],
   "source": [
    "#H0 - нет стат значимых различий\n",
    "#H1 - есть стат значимые различия\n",
    "\n",
    "stat, p = mannwhitneyu(grass['Attack'], rock['Attack'])\n",
    "print('Statistics=%.3f, p=%.3f' % (stat, p))\n",
    "\n",
    "alpha = 0.05\n",
    "if p > alpha:\n",
    "    print('нет стат значимых различий (не отвергаем H0)')\n",
    "else:\n",
    "    print('есть стат значимые различия (отвергаем H0)')"
   ]
  },
  {
   "cell_type": "markdown",
   "metadata": {},
   "source": [
    "и еще раз проверили. все окей, дальше можем сравнивать показатели атаки у покемонов"
   ]
  },
  {
   "cell_type": "code",
   "execution_count": null,
   "metadata": {},
   "outputs": [],
   "source": [
    "if grass['Attack'].mean() > rock['Attack'].mean():\n",
    "  print('Подозрения профессора Оука оправданы')\n",
    "\n",
    "else:\n",
    "  print('Подозрения профессора Оука не оправданы')"
   ]
  },
  {
   "cell_type": "markdown",
   "metadata": {},
   "source": [
    "### Задание № 2 (Обязательно):\n",
    "Профессор Оук уже долго не может спать по ночам, ведь его волнует вопрос: а правда, что покемоны в классе Water в среднем быстрее покемонов в классе Normal.\n",
    "\n",
    "Проверьте, прав ли он, и убедите его в своем выводе статистически.\n",
    "\n",
    "Примечание: если есть покемоны, которые относятся к обоим классам, выбросьте их;\n",
    "\n",
    "Вы можете предположить, что распределение скорости движения является нормальным для всех классов покемонов."
   ]
  },
  {
   "cell_type": "code",
   "execution_count": null,
   "metadata": {},
   "outputs": [],
   "source": [
    "df_1 = pokemon.copy()\n",
    "df_1 = df_1.drop(['pid'], axis = 1).drop(['HP'], axis = 1).drop(['Defense'], axis = 1).drop(['Sp. Atk'], axis = 1).drop(['Sp. Def'], axis = 1).drop(['Attack'], axis = 1).drop(['Legendary'], axis = 1)\n",
    "df_1 = df_1.drop(df.loc[(df_1['Class 1'] + df_1['Class 2']).isin(['WaterNormal', 'NormalWater'])].index)\n",
    "df_1 = df_1.loc[df_1['Class 1'].isin(['Water', 'Normal']) | df_1['Class 2'].isin(['Water', 'Normal'])]\n",
    "\n",
    "df_1"
   ]
  },
  {
   "cell_type": "code",
   "execution_count": null,
   "metadata": {},
   "outputs": [],
   "source": [
    "water = df_1[(df_1['Class 1'] == 'Water') | (df_1['Class 2'] == 'Water')]\n",
    "normal = df_1[(df_1['Class 1'] == 'Normal') | (df_1['Class 2'] == 'Normal')]"
   ]
  },
  {
   "cell_type": "markdown",
   "metadata": {},
   "source": [
    "смотрим различия визуально:"
   ]
  },
  {
   "cell_type": "code",
   "execution_count": null,
   "metadata": {},
   "outputs": [],
   "source": [
    "sns.boxplot(water['Speed'])"
   ]
  },
  {
   "cell_type": "code",
   "execution_count": null,
   "metadata": {},
   "outputs": [],
   "source": [
    "sns.boxplot(normal['Speed'])"
   ]
  },
  {
   "cell_type": "markdown",
   "metadata": {},
   "source": [
    "различия видно, но они прям минимальные\n",
    "\n",
    "\n",
    "далее проверяем, различаются ли статистически наши выборки. По условию распределение нормальное, поэтому t-test:"
   ]
  },
  {
   "cell_type": "code",
   "execution_count": null,
   "metadata": {},
   "outputs": [],
   "source": [
    "t, p = st.ttest_ind(water['Speed'], normal['Speed'], equal_var=False)\n",
    "print(t, p)"
   ]
  },
  {
   "cell_type": "markdown",
   "metadata": {},
   "source": [
    "но на нормальность мы ничего не проверяли, поэтому бахнем тест Манна-Уитни так как выборки независимые"
   ]
  },
  {
   "cell_type": "code",
   "execution_count": null,
   "metadata": {},
   "outputs": [],
   "source": [
    "#H0 - нет стат значимых различий\n",
    "#H1 - есть стат значимые различия\n",
    "\n",
    "stat, p = mannwhitneyu(water['Speed'], normal['Speed'])\n",
    "print('Statistics=%.3f, p=%.3f' % (stat, p))\n",
    "\n",
    "alpha = 0.05\n",
    "if p > alpha:\n",
    "    print('нет стат значимых различий (не отвергаем H0)')\n",
    "else:\n",
    "    print('есть стат значимые различия (отвергаем H0)')"
   ]
  },
  {
   "cell_type": "code",
   "execution_count": null,
   "metadata": {},
   "outputs": [],
   "source": [
    "if water['Speed'].mean() > normal['Speed'].mean():\n",
    "  print('Покемоны в классе Water в среднем быстрее')\n",
    "\n",
    "else:\n",
    "  print('Покемоны в классе Normal в среднем быстрее')"
   ]
  },
  {
   "cell_type": "markdown",
   "metadata": {},
   "source": [
    "### Задание № 3:\n",
    "Профессор Оук тот еще безумец. Он изобрел сыворотку, способную ускорить покемона. Однако, мы усомнились в эффективности его вакцины. Профессор дал эту сыворотку следующим покемонам: смотри массив treathed_pokemon. \n",
    "\n",
    "Проверьте, работает ли вообще его сыворотка, убедите всех в своем выводе статистически.\n",
    "\n",
    "Вы можете предположить, что распределение скорости движения является нормальным для всех классов покемонов."
   ]
  },
  {
   "cell_type": "code",
   "execution_count": null,
   "metadata": {},
   "outputs": [],
   "source": [
    "# Покемоны, которые принимали сыворотку увеличения скорости\n",
    "treathed_pokemon = ['Mega Beedrill','Mega Alakazam', 'Deoxys Normal Forme', 'Mega Lopunny']"
   ]
  },
  {
   "cell_type": "code",
   "execution_count": null,
   "metadata": {},
   "outputs": [],
   "source": [
    "fast = pokemon[pokemon['Name'].isin(['Mega Beedrill','Mega Alakazam', 'Deoxys Normal Forme', 'Mega Lopunny'])]\n",
    "regular = pokemon[~pokemon['Name'].isin(['Mega Beedrill','Mega Alakazam', 'Deoxys Normal Forme', 'Mega Lopunny'])]"
   ]
  },
  {
   "cell_type": "code",
   "execution_count": null,
   "metadata": {},
   "outputs": [],
   "source": [
    "pokemon.info(), fast.info(), regular.info()"
   ]
  },
  {
   "cell_type": "code",
   "execution_count": null,
   "metadata": {},
   "outputs": [],
   "source": [
    "fast = fast.drop(['pid'], axis = 1).drop(['HP'], axis = 1).drop(['Defense'], axis = 1).drop(['Sp. Atk'], axis = 1).drop(['Sp. Def'], axis = 1).drop(['Attack'], axis = 1).drop(['Legendary'], axis = 1)\n",
    "regular = regular.drop(['pid'], axis = 1).drop(['HP'], axis = 1).drop(['Defense'], axis = 1).drop(['Sp. Atk'], axis = 1).drop(['Sp. Def'], axis = 1).drop(['Attack'], axis = 1).drop(['Legendary'], axis = 1)\n",
    "\n",
    "fast, regular"
   ]
  },
  {
   "cell_type": "code",
   "execution_count": null,
   "metadata": {},
   "outputs": [],
   "source": [
    "sns.boxplot(fast['Speed'])"
   ]
  },
  {
   "cell_type": "code",
   "execution_count": null,
   "metadata": {},
   "outputs": [],
   "source": [
    "sns.boxplot(regular['Speed'])"
   ]
  },
  {
   "cell_type": "code",
   "execution_count": null,
   "metadata": {},
   "outputs": [],
   "source": [
    "#нужно убрать выбросы\n",
    "regular = regular.drop(regular.loc[regular['Speed'] > 150].index)\n",
    "\n",
    "regular.info()"
   ]
  },
  {
   "cell_type": "markdown",
   "metadata": {},
   "source": [
    "используем t-test так как распр. нормальное, а от выбросов избавились"
   ]
  },
  {
   "cell_type": "code",
   "execution_count": null,
   "metadata": {},
   "outputs": [],
   "source": [
    "#H0 - в выборках нет стат значимых различий\n",
    "#H1 - в выборках есть стат значимые различия\n",
    "\n",
    "stat, p = st.ttest_ind(fast['Speed'], regular['Speed'], equal_var=False)\n",
    "print('Statistics=%.3f, p=%.3f' % (stat, p))\n",
    "\n",
    "alpha = 0.05\n",
    "if p > alpha:\n",
    "    print('нет стат значимых различий (не отвергаем H0)')\n",
    "else:\n",
    "    print('есть стат значимые различия (отвергаем H0)')"
   ]
  },
  {
   "cell_type": "code",
   "execution_count": null,
   "metadata": {},
   "outputs": [],
   "source": [
    "if fast['Speed'].mean() > regular['Speed'].mean():\n",
    "  print('Покемоны под наркотой быстрее других покемонов')\n",
    "\n",
    "else:\n",
    "  print('Покемоны под наркотой не быстрее других покемонов')"
   ]
  },
  {
   "cell_type": "markdown",
   "metadata": {},
   "source": [
    "### Задание № 4:\n",
    "\n",
    "Профессор Оук всегда любил истории про легендарных покемонов. Однако, профессор не очень уверен, что они самые лучшие относительно остальных покемонов. Оук предложил разобраться в этом нам. \n",
    "\n",
    "Проверьте, действительно ли сумма характеристик HP, Attack, Defense у легендарных покемонов выше, чем у других покемонов? \n",
    "\n",
    "А произведение этих же параметров? \n",
    "\n",
    "Найдите ответы на эти вопросы и убедите всех в своем выводе статистически.\n",
    "\n",
    "Вы можете предположить, что распределение сум и произведений этих параметров является нормальным для всех классов покемонов."
   ]
  },
  {
   "cell_type": "code",
   "execution_count": null,
   "metadata": {},
   "outputs": [],
   "source": [
    "df_leg = pokemon.copy()\n",
    "df_reg = pokemon.copy()\n",
    "\n",
    "df_leg = df_leg[df_leg['Legendary'] == True]\n",
    "df_reg = df_reg[df_reg['Legendary'] == False]"
   ]
  },
  {
   "cell_type": "code",
   "execution_count": null,
   "metadata": {},
   "outputs": [],
   "source": [
    "df_leg = df_leg.drop(['pid'], axis = 1).drop(['Class 1'], axis = 1).drop(['Class 2'], axis = 1).drop(['Sp. Atk'], axis = 1).drop(['Sp. Def'], axis = 1).drop(['Speed'], axis = 1)\n",
    "\n",
    "df_leg"
   ]
  },
  {
   "cell_type": "code",
   "execution_count": null,
   "metadata": {},
   "outputs": [],
   "source": [
    "df_reg = df_reg.drop(['pid'], axis = 1).drop(['Class 1'], axis = 1).drop(['Class 2'], axis = 1).drop(['Sp. Atk'], axis = 1).drop(['Sp. Def'], axis = 1).drop(['Speed'], axis = 1)\n",
    "\n",
    "df_reg"
   ]
  },
  {
   "cell_type": "markdown",
   "metadata": {},
   "source": [
    "H0 = выборки показателей Attack для легендарных и нелегендарных покемонов не имеют статистически значимых различий\n",
    "\n",
    "H1 = эти выборки статистически значимо различаются"
   ]
  },
  {
   "cell_type": "code",
   "execution_count": null,
   "metadata": {},
   "outputs": [],
   "source": [
    "result = st.ttest_ind(df_leg['Attack'], df_reg['Attack'], equal_var=False)\n",
    "alpha = 0.05\n",
    "\n",
    "if (result.pvalue < alpha):\n",
    "    print('Отвергаем нулевую гипотезу')\n",
    "else:\n",
    "    print('Не отвергаем нулевую гипотезу')"
   ]
  },
  {
   "cell_type": "markdown",
   "metadata": {},
   "source": [
    "H0 = выборки показателей HP для легендарных и нелегендарных покемонов не имеют статистически значимых различий\n",
    "\n",
    "H1 = эти выборки статистически значимо различаются"
   ]
  },
  {
   "cell_type": "code",
   "execution_count": null,
   "metadata": {},
   "outputs": [],
   "source": [
    "result = st.ttest_ind(df_leg['HP'], df_reg['HP'], equal_var=False)\n",
    "alpha = 0.05\n",
    "\n",
    "if (result.pvalue < alpha):\n",
    "    print('Отвергаем нулевую гипотезу')\n",
    "else:\n",
    "    print('Не отвергаем нулевую гипотезу')"
   ]
  },
  {
   "cell_type": "markdown",
   "metadata": {},
   "source": [
    "H0 = выборки показателей Defense для легендарных и нелегендарных покемонов не имеют статистически значимых различий\n",
    "\n",
    "H1 = эти выборки статистически значимо различаются"
   ]
  },
  {
   "cell_type": "code",
   "execution_count": null,
   "metadata": {},
   "outputs": [],
   "source": [
    "result = st.ttest_ind(df_leg['Defense'], df_reg['Defense'], equal_var=False)\n",
    "alpha = 0.05\n",
    "\n",
    "if (result.pvalue < alpha):\n",
    "    print('Отвергаем нулевую гипотезу')\n",
    "else:\n",
    "    print('Не отвергаем нулевую гипотезу')"
   ]
  },
  {
   "cell_type": "markdown",
   "metadata": {},
   "source": [
    "всё окей, можем делать расчёты и сравнивать:\n",
    "\n",
    "- Проверьте, действительно ли сумма характеристик HP, Attack, Defense у легендарных покемонов выше, чем у других покемонов?\n"
   ]
  },
  {
   "cell_type": "code",
   "execution_count": null,
   "metadata": {},
   "outputs": [],
   "source": [
    "df_leg['Summa'] = df_leg.apply(lambda line: line['Attack'] + line['HP'] + line['Defense'], axis = 1)\n",
    "df_reg['Summa'] = df_reg.apply(lambda line: line['Attack'] + line['HP'] + line['Defense'], axis = 1)"
   ]
  },
  {
   "cell_type": "code",
   "execution_count": null,
   "metadata": {},
   "outputs": [],
   "source": [
    "if df_leg['Summa'].mean() > df_reg['Summa'].mean():\n",
    "  print('Среднее суммы характеристик HP, Attack, Defense у легендарных покемонов выше, чем у других покемонов')\n",
    "else:\n",
    "  print('Среднее суммы характеристик HP, Attack, Defense у легендарных покемонов меньше, чем у других покемонов')"
   ]
  },
  {
   "cell_type": "markdown",
   "metadata": {},
   "source": [
    "- Проверьте, действительно ли произведение характеристик HP, Attack, Defense у легендарных покемонов выше, чем у других покемонов?"
   ]
  },
  {
   "cell_type": "code",
   "execution_count": null,
   "metadata": {},
   "outputs": [],
   "source": [
    "df_leg['Mult'] = df_leg.apply(lambda line: line['Attack'] * line['HP'] * line['Defense'], axis = 1)\n",
    "df_reg['Mult'] = df_reg.apply(lambda line: line['Attack'] * line['HP'] * line['Defense'], axis = 1)"
   ]
  },
  {
   "cell_type": "code",
   "execution_count": null,
   "metadata": {},
   "outputs": [],
   "source": [
    "if df_leg['Mult'].mean() > df_reg['Mult'].mean():\n",
    "  print('Среднее произведения характеристик HP, Attack, Defense у легендарных покемонов выше, чем у других покемонов')\n",
    "else:\n",
    "  print('Среднее произведения характеристик HP, Attack, Defense у легендарных покемонов меньше, чем у других покемонов')"
   ]
  },
  {
   "cell_type": "markdown",
   "metadata": {},
   "source": [
    "### Задание № 5:\n",
    "Профессор Оук частенько наблюдает за боями покемонов. После очередных таких боев Оук выделил три класса best_defence_class, которые, на его взгляд, одинаковы по \"силе обычной защиты\" Defense. \n",
    "\n",
    "Проверьте, действительно ли эти классы покемонов не отличаются по уровню защиты статистически значимо? Все та же статистика вам в помощь!\n",
    "\n",
    "Вы можете предположить, что распределение сум и произведений этих параметров является нормальным для всех классов покемонов."
   ]
  },
  {
   "cell_type": "markdown",
   "metadata": {},
   "source": [
    "<b><i>Это точно верная формулировка для целей задачи?</i></b>\n",
    "\n",
    "- Вы можете предположить, что распределение сум и произведений этих параметров является нормальным для всех классов покемонов.\n",
    "\n",
    "<b><i>Зачем в этой задаче распределение сумм и произведений, если мы сравниваем классы покемонов по Defense?</i></b>\n",
    "\n",
    "<b><i>О каких параметрах речь?</i></b>"
   ]
  },
  {
   "cell_type": "code",
   "execution_count": null,
   "metadata": {},
   "outputs": [],
   "source": [
    "best_defence_class = ['Rock', 'Ground','Steel','Ice']"
   ]
  },
  {
   "cell_type": "code",
   "execution_count": null,
   "metadata": {},
   "outputs": [],
   "source": [
    "df_def = pokemon.copy()\n",
    "df_def = df_def.drop(['pid'], axis = 1).drop(['HP'], axis = 1).drop(['Attack'], axis = 1).drop(['Sp. Atk'], axis = 1).drop(['Sp. Def'], axis = 1).drop(['Speed'], axis = 1).drop(['Legendary'], axis = 1)\n",
    "df_def = df_def.loc[df_def['Class 1'].isin(['Rock', 'Ground','Steel','Ice']) | df_def['Class 2'].isin(['Rock', 'Ground','Steel','Ice'])]\n",
    "\n",
    "df_def"
   ]
  },
  {
   "cell_type": "code",
   "execution_count": null,
   "metadata": {},
   "outputs": [],
   "source": [
    "rock = df_def.loc[df_def['Class 1'].isin(['Rock']) | df_def['Class 2'].isin(['Rock'])]\n",
    "ground = df_def.loc[df_def['Class 1'].isin(['Ground']) | df_def['Class 2'].isin(['Ground'])]\n",
    "steel = df_def.loc[df_def['Class 1'].isin(['Steel']) | df_def['Class 2'].isin(['Steel'])]\n",
    "ice = df_def.loc[df_def['Class 1'].isin(['Ice']) | df_def['Class 2'].isin(['Ice'])]"
   ]
  },
  {
   "cell_type": "markdown",
   "metadata": {},
   "source": [
    "H0 = выбранные классы не отличаются по показателю Defense\n",
    "\n",
    "H1 = выбранные классы отличаются по показателю Defense"
   ]
  },
  {
   "cell_type": "code",
   "execution_count": null,
   "metadata": {},
   "outputs": [],
   "source": [
    "f, p = f_oneway(rock['Defense'], ground['Defense'], steel['Defense'], ice['Defense'])\n",
    "\n",
    "alpha = 0.05\n",
    "print(f, p)\n",
    "\n",
    "if p <= alpha:\n",
    "    print('Отклоняем H0')\n",
    "else:\n",
    "    print('Не отклоняем H0')"
   ]
  }
 ],
 "metadata": {
  "kernelspec": {
   "display_name": "Python 3.10.6 ('pyda': venv)",
   "language": "python",
   "name": "python3"
  },
  "language_info": {
   "name": "python",
   "version": "3.10.6"
  },
  "orig_nbformat": 4,
  "vscode": {
   "interpreter": {
    "hash": "69a8be0c0f83135f164c3d044bb97c429030d9f47563103bd0a6211d1d209a91"
   }
  }
 },
 "nbformat": 4,
 "nbformat_minor": 2
}
